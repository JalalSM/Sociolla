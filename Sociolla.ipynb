{
 "cells": [
  {
   "cell_type": "markdown",
   "id": "a868dd6a-8bad-4489-ace9-b8ba09d29f65",
   "metadata": {},
   "source": [
    "# Overview\n",
    "\n",
    "Hi again, I am Jalal. This is my individual project from scraping Sociolla official website ( No.1 beauty and personal care e-commerce player in Indonesia )"
   ]
  },
  {
   "cell_type": "markdown",
   "id": "80aadf46-4aae-4485-8e7c-eb6feab99ba1",
   "metadata": {},
   "source": [
    "Company Info ( last updated Dec 15, 2021 )\n",
    "- Founded : 2014\n",
    "- Headquarters : West Jakarta, Jakarta\n",
    "- Total employess : 776\n",
    "- Website : http://www.sociolla.com"
   ]
  },
  {
   "cell_type": "markdown",
   "id": "c75b9946-750c-4bb8-918a-ed4a1785f539",
   "metadata": {},
   "source": [
    "In 2019, Sociolla through Social Bella was awarded as Disruptor Award for the A-List: Forbes Indonesia’s Most Promising Growth-Stage Startups 2019 together with new rising startups. This year, Chrisanti Indiana, the Co-Founder & Chief Marketing Officer is also listed in the Forbes' 30 Under 30 Asia version"
   ]
  },
  {
   "cell_type": "markdown",
   "id": "876a0b46-5162-488d-94e8-cda729f1acd3",
   "metadata": {},
   "source": [
    "Here, I'm gonna make some analysis about products which available in their website"
   ]
  },
  {
   "cell_type": "markdown",
   "id": "6b29f080-dbef-4b06-acfa-4359fed67d7a",
   "metadata": {},
   "source": [
    "I also create a different notebook for each category product"
   ]
  },
  {
   "cell_type": "markdown",
   "id": "1b015204-57f5-4e44-9166-3b34d96ad62d",
   "metadata": {},
   "source": [
    "_Color Palette_"
   ]
  },
  {
   "attachments": {
    "2a5240b5-2bcc-4d52-bf0b-1a20d096baa3.png": {
     "image/png": "[encoded data removed]"
    }
   },
   "cell_type": "markdown",
   "id": "4a7ad08c-bb69-4596-9277-8873b73f7c11",
   "metadata": {},
   "source": [
    "![Screenshot 2021-12-14 042559.png](attachment:2a5240b5-2bcc-4d52-bf0b-1a20d096baa3.png)"
   ]
  },
  {
   "cell_type": "markdown",
   "id": "31bfd91c-bfab-4b2c-a7f2-a9adef232bc9",
   "metadata": {},
   "source": [
    "- #f499ab\n",
    "- #b42454\n",
    "- #fcc4d4\n",
    "- #e46c94"
   ]
  },
  {
   "cell_type": "code",
   "execution_count": 74,
   "id": "ee47d8eb-222d-4459-97b2-79cf65f535e5",
   "metadata": {},
   "outputs": [],
   "source": [
    "palette = ['#b42454','#f499ab','#fcc4d4','#f8a4a4','#e46c94']"
   ]
  },
  {
   "cell_type": "code",
   "execution_count": 75,
   "id": "c3aa812a-82da-45bc-8348-4ad7ff42e83a",
   "metadata": {},
   "outputs": [],
   "source": [
    "import pandas as pd\n",
    "import numpy as np\n",
    "import matplotlib.pyplot as plt\n",
    "import seaborn as sns\n",
    "from matplotlib.pyplot import rcParams\n",
    "import warnings\n",
    "warnings.filterwarnings('ignore')"
   ]
  },
  {
   "cell_type": "code",
   "execution_count": 76,
   "id": "05a8018d-b957-436c-9035-23bb50705f87",
   "metadata": {},
   "outputs": [],
   "source": [
    "pd.set_option('display.max_columns',100)\n",
    "rcParams['axes.grid'] = True\n",
    "rcParams['axes.spines.right'] = False\n",
    "rcParams['axes.spines.top'] = False\n",
    "plt.rc('axes',axisbelow=True)"
   ]
  },
  {
   "cell_type": "code",
   "execution_count": 77,
   "id": "59bc1172-79ca-4a6f-96b7-c4be26c3f261",
   "metadata": {},
   "outputs": [],
   "source": [
    "eyes = pd.read_csv('D:/Data/Sociolla/makeup_eyes.csv')\n",
    "face = pd.read_csv('D:/Data/Sociolla/makeup_face.csv')\n",
    "lips = pd.read_csv('D:/Data/Sociolla/makeup_lips.csv')\n",
    "\n",
    "#skincare\n",
    "mask = pd.read_csv('D:/Data/Sociolla/skincare_mask.csv')\n",
    "treatment = pd.read_csv('D:/Data/Sociolla/skincare_treatment.csv')\n",
    "cleanser = pd.read_csv('D:/Data/Sociolla/skincare_cleanser.csv')\n",
    "moisturizer = pd.read_csv('D:/Data/Sociolla/skincare_moisturizer.csv')\n",
    "suncare = pd.read_csv('D:/Data/Sociolla/skincare_suncare.csv')\n",
    "\n",
    "#haircare\n",
    "shampo = pd.read_csv('D:/Data/Sociolla/haircare_shampoo.csv')\n",
    "h_treatment = pd.read_csv('D:/Data/Sociolla/haircare_hairtreatment.csv')\n",
    "\n",
    "\n",
    "#bodybath\n",
    "bodycare = pd.read_csv('D:/Data/Sociolla/bodybath_bodycare.csv')\n",
    "bodycleanser = pd.read_csv('D:/Data/Sociolla/bodybath_bodycleanser.csv')\n",
    "others = pd.read_csv('D:/Data/Sociolla/bodybath_others.csv')\n",
    "b_treatment = pd.read_csv('D:/Data/Sociolla/bodybath_treatment.csv')\n",
    "#accessories\n",
    "organizer = pd.read_csv('D:/Data/Sociolla/accessories_organizer.csv')\n",
    "menipedi  = pd.read_csv('D:/Data/Sociolla/accessories_menipedi.csv')"
   ]
  },
  {
   "cell_type": "markdown",
   "id": "d5d90cc6-2c67-40bd-9750-7a21649adc85",
   "metadata": {},
   "source": [
    "Create functions to create category and subcategory columns\n",
    "- Those variables can be used to deep-dive analysis each product category "
   ]
  },
  {
   "cell_type": "code",
   "execution_count": 78,
   "id": "6399894b-ef35-4374-90e6-39ff5dc8a455",
   "metadata": {},
   "outputs": [],
   "source": [
    "def makeup(cat,sub):\n",
    "    cat['category'] = 'makeup'\n",
    "    cat.insert(7,'sub_category',sub)\n",
    "def skincare(cat1,sub1):\n",
    "    cat1['category'] = 'skincare'\n",
    "    cat1.insert(7,'sub_category',sub1)\n",
    "def haircare(cat2,sub2):\n",
    "    cat2['category'] = 'haircare'\n",
    "    cat2.insert(7,'sub_category',sub2)\n",
    "def bodybath(cat3,sub3):\n",
    "    cat3['category'] = 'bodybath'\n",
    "    cat3.insert(7,'sub_category',sub3)\n",
    "def accessories(cat4,sub4):\n",
    "    cat4['category'] = 'accessories'\n",
    "    cat4.insert(7,'sub_category',sub4)"
   ]
  },
  {
   "cell_type": "code",
   "execution_count": 79,
   "id": "5b3434c1-e261-46b5-957e-f6ea5ff48198",
   "metadata": {},
   "outputs": [],
   "source": [
    "makeup(eyes,'eyes')\n",
    "makeup(face,'face')\n",
    "makeup(lips,'lips')\n",
    "\n",
    "skincare(mask,'mask')\n",
    "skincare(treatment,'treatment')\n",
    "skincare(cleanser,'cleanser')\n",
    "skincare(moisturizer,'moisturizer')\n",
    "skincare(suncare,'suncare')\n",
    "\n",
    "haircare(shampo,'shampoo')\n",
    "haircare(h_treatment,'hair_treatment')\n",
    "\n",
    "accessories(organizer,'organizer')\n",
    "accessories(menipedi,'meni_pedi')\n",
    "\n",
    "bodybath(bodycleanser,'cleanser')\n",
    "bodybath(others,'others')\n",
    "bodybath(b_treatment,'treatment')\n",
    "bodybath(bodycare,'bodycare')"
   ]
  },
  {
   "cell_type": "markdown",
   "id": "a73b2e5a-5bbb-469c-a150-18240bdef54e",
   "metadata": {},
   "source": [
    "# Grouping"
   ]
  },
  {
   "cell_type": "markdown",
   "id": "ad182867-90f0-4891-b037-f516b45e2701",
   "metadata": {},
   "source": [
    "Let's take a first simple step to clean some values"
   ]
  },
  {
   "cell_type": "code",
   "execution_count": 80,
   "id": "af12d79e-e083-4d29-ba5f-605e49e6ae8c",
   "metadata": {},
   "outputs": [],
   "source": [
    "def clean(na):\n",
    "    \n",
    "    idx_w_comma1  = np.array(na.loc[na[(na.number_of_reviews.str.contains('k'))&(na.number_of_reviews.str.contains(','))].index,'number_of_reviews'].index).tolist()\n",
    "    idx_w_comma3  = np.array(na.loc[na[(na.repurchase_yes.str.contains('k'))&(na.repurchase_yes.str.contains(','))].index,'repurchase_yes'].index).tolist()\n",
    "    idx_w_comma4  = np.array(na.loc[na[(na.repurchase_no.str.contains('k'))&(na.repurchase_no.str.contains(','))].index,'repurchase_no'].index).tolist()\n",
    "    idx_w_comma5  = np.array(na.loc[na[(na.repurchase_maybe.str.contains('k'))&(na.repurchase_maybe.str.contains(','))].index,'repurchase_maybe'].index).tolist()\n",
    "    \n",
    "    \n",
    "    # Change 'k' into double 0 ( because they have decimal value )\n",
    "    na.loc[idx_w_comma1,'number_of_reviews'] = na.loc[idx_w_comma1,'number_of_reviews'].replace({',':'','k':'00'},regex=True)\n",
    "    na.loc[idx_w_comma3,'repurchase_yes'] = na.loc[idx_w_comma3,'repurchase_yes'].replace({',':'','k':'00'},regex=True)\n",
    "    na.loc[idx_w_comma4,'repurchase_no'] = na.loc[idx_w_comma4,'repurchase_no'].replace({',':'','k':'00'},regex=True)\n",
    "    na.loc[idx_w_comma5,'repurchase_maybe'] = na.loc[idx_w_comma5,'repurchase_maybe'].replace({',':'','k':'00'},regex=True)\n",
    "    \n",
    "    # Change 'k' into triple 0\n",
    "    na.loc[na.number_of_reviews.dropna()[na.number_of_reviews.str.contains('k').dropna()].index,'number_of_reviews'] = na.loc[na.number_of_reviews.dropna()[na.number_of_reviews.str.contains('k').dropna()].index,'number_of_reviews'].replace({'k':'000'},regex=True)\n",
    "    na.loc[na.repurchase_yes.dropna()[na.repurchase_yes.str.contains('k').dropna()].index,'repurchase_yes'] = na.loc[na.repurchase_yes.dropna()[na.repurchase_yes.str.contains('k').dropna()].index,'repurchase_yes'].replace({'k':'000'},regex=True)\n",
    "    na.loc[na.repurchase_no.dropna()[na.repurchase_no.str.contains('k').dropna()].index,'repurchase_no'] = na.loc[na.repurchase_no.dropna()[na.repurchase_no.str.contains('k').dropna()].index,'repurchase_no'].replace({'k':'000'},regex=True)\n",
    "    na.loc[na.repurchase_maybe.dropna()[na.repurchase_maybe.str.contains('k').dropna()].index,'repurchase_maybe'] = na.loc[na.repurchase_maybe.dropna()[na.repurchase_maybe.str.contains('k').dropna()].index,'repurchase_maybe'].replace({'k':'000'},regex=True)\n",
    "    \n",
    "    # Finalization\n",
    "    na.replace({'repurchase_yes':{'Yes ':''},\n",
    "                'repurchase_no' :{'No ':''},\n",
    "                'repurchase_maybe':{'Maybe ':''}\n",
    "               },regex=True,inplace=True)\n",
    "    \n",
    "    na['repurchase_yes']= na['repurchase_yes'].str[1:-1].astype(float)\n",
    "    na['repurchase_no'] = na['repurchase_no'].str[1:-1].astype(float)\n",
    "    na['repurchase_maybe'] = na['repurchase_maybe'].str[1:-1].astype(float)\n",
    "    na['number_of_reviews'] = na['number_of_reviews'].str[1:-1].astype(float)"
   ]
  },
  {
   "cell_type": "code",
   "execution_count": 81,
   "id": "d4c22dd1-f3a0-4d59-9aa1-e65eadd2538a",
   "metadata": {},
   "outputs": [],
   "source": [
    "makeup = pd.concat([eyes,face,lips]).reset_index(drop=True).iloc[:,3:].rename({'link-href':'link'},axis=1)\n",
    "clean(makeup)\n",
    "makeup.to_csv('D:/Data/Sociolla/group/makeup.csv',index=False)"
   ]
  },
  {
   "cell_type": "code",
   "execution_count": 82,
   "id": "5f4d95ee-e743-4fba-8f00-2bd281718faa",
   "metadata": {},
   "outputs": [],
   "source": [
    "skincare = pd.concat([mask,treatment,cleanser,moisturizer,suncare]).reset_index(drop=True).iloc[:,3:].rename({'link-href':'link'},axis=1)\n",
    "clean(skincare)\n",
    "skincare.to_csv('D:/Data/Sociolla/group/skincare.csv',index=False)"
   ]
  },
  {
   "cell_type": "code",
   "execution_count": 83,
   "id": "a94edfc9-62e4-47e9-b823-633c39043fc7",
   "metadata": {},
   "outputs": [],
   "source": [
    "haircare = pd.concat([shampo,h_treatment]).reset_index(drop=True).iloc[:,3:].rename({'link-href':'link'},axis=1)\n",
    "clean(haircare)\n",
    "haircare.to_csv('D:/Data/Sociolla/group/haircare.csv',index=False)"
   ]
  },
  {
   "cell_type": "code",
   "execution_count": 84,
   "id": "5e942c05-d9d2-4f90-be34-a88a5963cdb2",
   "metadata": {},
   "outputs": [],
   "source": [
    "accessories = pd.concat([organizer,menipedi]).reset_index(drop=True).iloc[:,3:].rename({'link-href':'link'},axis=1)\n",
    "clean(accessories)\n",
    "accessories.to_csv('D:/Data/Sociolla/group/accessories.csv',index=False)"
   ]
  },
  {
   "cell_type": "code",
   "execution_count": 85,
   "id": "bbcb16ed-94c4-47a8-9f3b-32b49f331fef",
   "metadata": {},
   "outputs": [],
   "source": [
    "bodybath = pd.concat([bodycleanser,others,bodycare,b_treatment]).reset_index(drop=True).iloc[:,3:].rename({'link-href':'link'},axis=1)\n",
    "clean(bodybath)\n",
    "bodybath.to_csv('D:/Data/Sociolla/group/bodybath.csv',index=False)"
   ]
  },
  {
   "cell_type": "code",
   "execution_count": 86,
   "id": "f2e5355c-8428-4cc5-9ba1-46edb7963073",
   "metadata": {},
   "outputs": [],
   "source": [
    "df = pd.concat([makeup,skincare,haircare,accessories,bodybath],axis=0).reset_index(drop=True)"
   ]
  },
  {
   "cell_type": "markdown",
   "id": "392dd8b9-bb8f-4055-8415-49275063925b",
   "metadata": {},
   "source": [
    "There are so many wrong formats in price column of each category. Instead of concat the data directly, we're gonna analyze all of them by each category in different notebook "
   ]
  },
  {
   "cell_type": "markdown",
   "id": "19f93eec-7172-4539-ab96-7265fea995aa",
   "metadata": {},
   "source": [
    "- Why ? "
   ]
  },
  {
   "cell_type": "markdown",
   "id": "40ae45fa-0d90-477f-8d0c-0d3bccdc4bf8",
   "metadata": {},
   "source": [
    "In my opinion, there are some values that we have to check the price manually from the website. Thus, from there, we can see the results more efficient and clearly"
   ]
  },
  {
   "cell_type": "code",
   "execution_count": 87,
   "id": "d9ca0540-2b60-4742-b875-9230e2261575",
   "metadata": {},
   "outputs": [],
   "source": [
    "df.to_csv('D:/Data/Sociolla/group/full.csv',index=False)"
   ]
  }
 ],
 "metadata": {
  "kernelspec": {
   "display_name": "Python 3 (ipykernel)",
   "language": "python",
   "name": "python3"
  },
  "language_info": {
   "codemirror_mode": {
    "name": "ipython",
    "version": 3
   },
   "file_extension": ".py",
   "mimetype": "text/x-python",
   "name": "python",
   "nbconvert_exporter": "python",
   "pygments_lexer": "ipython3",
   "version": "3.9.6"
  }
 },
 "nbformat": 4,
 "nbformat_minor": 5
}
