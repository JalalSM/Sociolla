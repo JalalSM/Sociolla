{
 "cells": [
  {
   "cell_type": "code",
   "execution_count": 61,
   "id": "bef1bda5-070a-4aa2-bd1d-dd9f510a2e63",
   "metadata": {
    "tags": []
   },
   "outputs": [],
   "source": [
    "palette = ['#b42454','#f499ab','#fcc4d4','#f8a4a4','#e46c94']"
   ]
  },
  {
   "cell_type": "code",
   "execution_count": 62,
   "id": "2b04debb-ca5b-4ce7-98d3-80d0854db902",
   "metadata": {},
   "outputs": [],
   "source": [
    "import pandas as pd\n",
    "import numpy as np\n",
    "import matplotlib.pyplot as plt\n",
    "import seaborn as sns\n",
    "from matplotlib.pyplot import rcParams\n",
    "import warnings\n",
    "warnings.filterwarnings('ignore')"
   ]
  },
  {
   "cell_type": "code",
   "execution_count": 63,
   "id": "75d24215-de7b-4111-bc04-cddf8dfa077d",
   "metadata": {},
   "outputs": [],
   "source": [
    "pd.set_option('display.max_columns',100)\n",
    "rcParams['figure.figsize'] = (15,5)\n",
    "rcParams['axes.grid'] = True\n",
    "rcParams['axes.spines.right'] = False\n",
    "rcParams['axes.spines.top'] = False\n",
    "rcParams['axes.spines.left'] = False\n",
    "plt.rc('axes',axisbelow=True)"
   ]
  },
  {
   "cell_type": "code",
   "execution_count": 64,
   "id": "4fb61d05-4ff5-450c-a24d-1e34851c0d8f",
   "metadata": {},
   "outputs": [
    {
     "data": {
      "text/html": [
       "<div>\n",
       "<style scoped>\n",
       "    .dataframe tbody tr th:only-of-type {\n",
       "        vertical-align: middle;\n",
       "    }\n",
       "\n",
       "    .dataframe tbody tr th {\n",
       "        vertical-align: top;\n",
       "    }\n",
       "\n",
       "    .dataframe thead th {\n",
       "        text-align: right;\n",
       "    }\n",
       "</style>\n",
       "<table border=\"1\" class=\"dataframe\">\n",
       "  <thead>\n",
       "    <tr style=\"text-align: right;\">\n",
       "      <th></th>\n",
       "      <th>link</th>\n",
       "      <th>brand</th>\n",
       "      <th>product_name</th>\n",
       "      <th>category</th>\n",
       "      <th>sub_category</th>\n",
       "      <th>price</th>\n",
       "      <th>rating</th>\n",
       "      <th>number_of_reviews</th>\n",
       "      <th>number_of_recommendations</th>\n",
       "      <th>repurchase_yes</th>\n",
       "      <th>repurchase_no</th>\n",
       "      <th>repurchase_maybe</th>\n",
       "    </tr>\n",
       "  </thead>\n",
       "  <tbody>\n",
       "    <tr>\n",
       "      <th>0</th>\n",
       "      <td>https://www.sociolla.com/eyeshadow/14396-3-sha...</td>\n",
       "      <td>Pixy</td>\n",
       "      <td>3-Shades Eye Shadow</td>\n",
       "      <td>makeup</td>\n",
       "      <td>eyes</td>\n",
       "      <td>50.000</td>\n",
       "      <td>4.3</td>\n",
       "      <td>93.0</td>\n",
       "      <td>89.0</td>\n",
       "      <td>55.0</td>\n",
       "      <td>9.0</td>\n",
       "      <td>29.0</td>\n",
       "    </tr>\n",
       "    <tr>\n",
       "      <th>1</th>\n",
       "      <td>https://www.sociolla.com/mascara/7717-mascara-...</td>\n",
       "      <td>Maybelline</td>\n",
       "      <td>Mascara Magnum Big Shot</td>\n",
       "      <td>makeup</td>\n",
       "      <td>eyes</td>\n",
       "      <td>139.000</td>\n",
       "      <td>4.5</td>\n",
       "      <td>1200.0</td>\n",
       "      <td>1118.0</td>\n",
       "      <td>828.0</td>\n",
       "      <td>99.0</td>\n",
       "      <td>278.0</td>\n",
       "    </tr>\n",
       "    <tr>\n",
       "      <th>2</th>\n",
       "      <td>https://www.sociolla.com/eyeshadow/54750-gold-...</td>\n",
       "      <td>Lavie Lash</td>\n",
       "      <td>Gold Getter Eyeshadow</td>\n",
       "      <td>makeup</td>\n",
       "      <td>eyes</td>\n",
       "      <td>196.000</td>\n",
       "      <td>4.6</td>\n",
       "      <td>7.0</td>\n",
       "      <td>5.0</td>\n",
       "      <td>4.0</td>\n",
       "      <td>1.0</td>\n",
       "      <td>2.0</td>\n",
       "    </tr>\n",
       "    <tr>\n",
       "      <th>3</th>\n",
       "      <td>https://www.sociolla.com/false-eyelashes/24361...</td>\n",
       "      <td>Loreca</td>\n",
       "      <td>Delfin  - Classic Collection</td>\n",
       "      <td>makeup</td>\n",
       "      <td>eyes</td>\n",
       "      <td>28.000</td>\n",
       "      <td>4.3</td>\n",
       "      <td>3.0</td>\n",
       "      <td>3.0</td>\n",
       "      <td>3.0</td>\n",
       "      <td>0.0</td>\n",
       "      <td>0.0</td>\n",
       "    </tr>\n",
       "    <tr>\n",
       "      <th>4</th>\n",
       "      <td>https://www.sociolla.com/eyeshadow/13894-eyelu...</td>\n",
       "      <td>LA GIRL</td>\n",
       "      <td>Eyelux Mesmerizing Eyeshadow</td>\n",
       "      <td>makeup</td>\n",
       "      <td>eyes</td>\n",
       "      <td>169.000118.300</td>\n",
       "      <td>4.3</td>\n",
       "      <td>4.0</td>\n",
       "      <td>4.0</td>\n",
       "      <td>1.0</td>\n",
       "      <td>1.0</td>\n",
       "      <td>2.0</td>\n",
       "    </tr>\n",
       "  </tbody>\n",
       "</table>\n",
       "</div>"
      ],
      "text/plain": [
       "                                                link       brand  \\\n",
       "0  https://www.sociolla.com/eyeshadow/14396-3-sha...        Pixy   \n",
       "1  https://www.sociolla.com/mascara/7717-mascara-...  Maybelline   \n",
       "2  https://www.sociolla.com/eyeshadow/54750-gold-...  Lavie Lash   \n",
       "3  https://www.sociolla.com/false-eyelashes/24361...      Loreca   \n",
       "4  https://www.sociolla.com/eyeshadow/13894-eyelu...     LA GIRL   \n",
       "\n",
       "                   product_name category sub_category           price  rating  \\\n",
       "0           3-Shades Eye Shadow   makeup         eyes          50.000     4.3   \n",
       "1       Mascara Magnum Big Shot   makeup         eyes         139.000     4.5   \n",
       "2         Gold Getter Eyeshadow   makeup         eyes         196.000     4.6   \n",
       "3  Delfin  - Classic Collection   makeup         eyes          28.000     4.3   \n",
       "4  Eyelux Mesmerizing Eyeshadow   makeup         eyes  169.000118.300     4.3   \n",
       "\n",
       "   number_of_reviews  number_of_recommendations  repurchase_yes  \\\n",
       "0               93.0                       89.0            55.0   \n",
       "1             1200.0                     1118.0           828.0   \n",
       "2                7.0                        5.0             4.0   \n",
       "3                3.0                        3.0             3.0   \n",
       "4                4.0                        4.0             1.0   \n",
       "\n",
       "   repurchase_no  repurchase_maybe  \n",
       "0            9.0              29.0  \n",
       "1           99.0             278.0  \n",
       "2            1.0               2.0  \n",
       "3            0.0               0.0  \n",
       "4            1.0               2.0  "
      ]
     },
     "execution_count": 64,
     "metadata": {},
     "output_type": "execute_result"
    }
   ],
   "source": [
    "makeup = pd.read_csv('D:/Data/Sociolla/group/makeup.csv')\n",
    "makeup.head()"
   ]
  },
  {
   "cell_type": "code",
   "execution_count": 65,
   "id": "e531c9c6-40ea-478c-a1be-9d0ca7eb5cb5",
   "metadata": {},
   "outputs": [
    {
     "data": {
      "text/plain": [
       "(1209, 12)"
      ]
     },
     "execution_count": 65,
     "metadata": {},
     "output_type": "execute_result"
    }
   ],
   "source": [
    "makeup.shape"
   ]
  },
  {
   "cell_type": "markdown",
   "id": "88f1c6c8-ed28-4841-a6b2-354b14f41b78",
   "metadata": {},
   "source": [
    "There are 1209 makeup product that I have collected from their website"
   ]
  },
  {
   "cell_type": "code",
   "execution_count": 66,
   "id": "a04de076-bff6-4fde-b65f-3c846148db57",
   "metadata": {},
   "outputs": [
    {
     "name": "stdout",
     "output_type": "stream",
     "text": [
      "<class 'pandas.core.frame.DataFrame'>\n",
      "RangeIndex: 1209 entries, 0 to 1208\n",
      "Data columns (total 12 columns):\n",
      " #   Column                     Non-Null Count  Dtype  \n",
      "---  ------                     --------------  -----  \n",
      " 0   link                       1209 non-null   object \n",
      " 1   brand                      1176 non-null   object \n",
      " 2   product_name               1178 non-null   object \n",
      " 3   category                   1209 non-null   object \n",
      " 4   sub_category               1209 non-null   object \n",
      " 5   price                      1111 non-null   object \n",
      " 6   rating                     1047 non-null   float64\n",
      " 7   number_of_reviews          1048 non-null   float64\n",
      " 8   number_of_recommendations  1050 non-null   float64\n",
      " 9   repurchase_yes             1056 non-null   float64\n",
      " 10  repurchase_no              1056 non-null   float64\n",
      " 11  repurchase_maybe           1056 non-null   float64\n",
      "dtypes: float64(6), object(6)\n",
      "memory usage: 113.5+ KB\n"
     ]
    }
   ],
   "source": [
    "makeup.info()"
   ]
  },
  {
   "cell_type": "markdown",
   "id": "165e31e2-d1ef-442d-9456-6c03ed706a54",
   "metadata": {},
   "source": [
    "We keep the link to check the product, if needed later"
   ]
  },
  {
   "cell_type": "code",
   "execution_count": 67,
   "id": "2209c6a3-ed22-4254-b741-ccc959a488bd",
   "metadata": {},
   "outputs": [],
   "source": [
    "df = makeup.copy()"
   ]
  },
  {
   "cell_type": "markdown",
   "id": "1bee7505-a592-46ae-af95-45f834a970cb",
   "metadata": {},
   "source": [
    "Let's clean the price because there are wrong formats like the last raw of the data shown above"
   ]
  },
  {
   "cell_type": "markdown",
   "id": "e8db036a-9b94-4244-a9d8-3fc7014364c8",
   "metadata": {},
   "source": [
    "1. Firstly, we'll put only data that the format already correct "
   ]
  },
  {
   "cell_type": "code",
   "execution_count": 68,
   "id": "724bb08a-8756-45c4-bcb8-f330709a9309",
   "metadata": {},
   "outputs": [],
   "source": [
    "price_1 = [] \n",
    "#tens of thousands\n",
    "\n",
    "for i in range(len(df.price)):\n",
    "    if len(str(df.price[i])) == 6:\n",
    "        price_1.append(np.array(df[df.price==df.price[i]].index).tolist())"
   ]
  },
  {
   "cell_type": "code",
   "execution_count": 69,
   "id": "f00eeacf-3321-44aa-8df3-be2b92012304",
   "metadata": {},
   "outputs": [
    {
     "data": {
      "text/plain": [
       "331"
      ]
     },
     "execution_count": 69,
     "metadata": {},
     "output_type": "execute_result"
    }
   ],
   "source": [
    "price_fix1 = list()\n",
    "for i in price_1:\n",
    "    price_fix1.extend(i)\n",
    "\n",
    "price_fix1 = pd.DataFrame(price_fix1).drop_duplicates()[0].sort_values().values.tolist()\n",
    "len(price_fix1)"
   ]
  },
  {
   "cell_type": "markdown",
   "id": "e2d76aac-7bd3-4b14-bd3b-e9deecb00a17",
   "metadata": {},
   "source": [
    "There are 331 products below Rp100.000"
   ]
  },
  {
   "cell_type": "markdown",
   "id": "4d8ed6cd-9738-4b90-90b8-e4a9d6c90f69",
   "metadata": {},
   "source": [
    "2. Let's put between Rp100.000 and Rp1.000.000"
   ]
  },
  {
   "cell_type": "code",
   "execution_count": 70,
   "id": "765462c7-2786-4ad4-a3e9-87d56b81484d",
   "metadata": {},
   "outputs": [],
   "source": [
    "price_2 = [] \n",
    "#hundreds of thousands\n",
    "\n",
    "for i in range(len(df.price)):\n",
    "    if len(str(df.price[i]))==7:\n",
    "        price_2.append(np.array(df[df.price==df.price[i]].index).tolist())"
   ]
  },
  {
   "cell_type": "code",
   "execution_count": 71,
   "id": "ea9c63b2-19b5-4fd2-81e1-06789b0b0442",
   "metadata": {},
   "outputs": [
    {
     "data": {
      "text/plain": [
       "319"
      ]
     },
     "execution_count": 71,
     "metadata": {},
     "output_type": "execute_result"
    }
   ],
   "source": [
    "price_fix2 = []\n",
    "for j in price_2:\n",
    "    price_fix2.extend(j)\n",
    "price_fix2 = pd.DataFrame(price_fix2).drop_duplicates()[0].sort_values().values.tolist()\n",
    "len(price_fix2)"
   ]
  },
  {
   "cell_type": "markdown",
   "id": "a0b580d4-c6a6-4c64-9b1b-e4eda5ddd73a",
   "metadata": {},
   "source": [
    "There are 319 products which cost between Rp100.000 and Rp1.000.000"
   ]
  },
  {
   "cell_type": "code",
   "execution_count": 72,
   "id": "6a1e98d9-5a19-43ac-bc6f-06c79ffee8b2",
   "metadata": {},
   "outputs": [],
   "source": [
    "price_3 = [] \n",
    "#millions\n",
    "\n",
    "for i in range(len(df.price)):\n",
    "    if len(str(df.price[i]))==9:\n",
    "        price_3.append(np.array(df[df.price==df.price[i]].index).tolist())"
   ]
  },
  {
   "cell_type": "code",
   "execution_count": 73,
   "id": "b61286d9-577e-47d5-a81e-f14cf9560275",
   "metadata": {},
   "outputs": [
    {
     "data": {
      "text/plain": [
       "2"
      ]
     },
     "execution_count": 73,
     "metadata": {},
     "output_type": "execute_result"
    }
   ],
   "source": [
    "price_fix3 = []\n",
    "for j in price_3:\n",
    "    price_fix3.extend(j)\n",
    "price_fix3 = pd.DataFrame(price_fix3).drop_duplicates()[0].sort_values().values.tolist()\n",
    "len(price_fix3)"
   ]
  },
  {
   "cell_type": "markdown",
   "id": "2efa4b2f-aa54-4e12-9c17-e39ef2621e00",
   "metadata": {},
   "source": [
    "- Take the products from main dataset"
   ]
  },
  {
   "cell_type": "code",
   "execution_count": 74,
   "id": "0e333455-7d72-412a-bda3-172359a0154e",
   "metadata": {},
   "outputs": [],
   "source": [
    "price1 = df.loc[price_fix1,:]\n",
    "price2 = df.loc[price_fix2,:]\n",
    "price3 = df.loc[price_fix3,:]"
   ]
  },
  {
   "cell_type": "code",
   "execution_count": 75,
   "id": "2f7f3d2b-2738-4da8-81a7-9588c8261d0f",
   "metadata": {},
   "outputs": [
    {
     "data": {
      "text/html": [
       "<div>\n",
       "<style scoped>\n",
       "    .dataframe tbody tr th:only-of-type {\n",
       "        vertical-align: middle;\n",
       "    }\n",
       "\n",
       "    .dataframe tbody tr th {\n",
       "        vertical-align: top;\n",
       "    }\n",
       "\n",
       "    .dataframe thead th {\n",
       "        text-align: right;\n",
       "    }\n",
       "</style>\n",
       "<table border=\"1\" class=\"dataframe\">\n",
       "  <thead>\n",
       "    <tr style=\"text-align: right;\">\n",
       "      <th></th>\n",
       "      <th>link</th>\n",
       "      <th>brand</th>\n",
       "      <th>product_name</th>\n",
       "      <th>category</th>\n",
       "      <th>sub_category</th>\n",
       "      <th>price</th>\n",
       "      <th>rating</th>\n",
       "      <th>number_of_reviews</th>\n",
       "      <th>number_of_recommendations</th>\n",
       "      <th>repurchase_yes</th>\n",
       "      <th>repurchase_no</th>\n",
       "      <th>repurchase_maybe</th>\n",
       "    </tr>\n",
       "  </thead>\n",
       "  <tbody>\n",
       "    <tr>\n",
       "      <th>4</th>\n",
       "      <td>https://www.sociolla.com/eyeshadow/13894-eyelu...</td>\n",
       "      <td>LA GIRL</td>\n",
       "      <td>Eyelux Mesmerizing Eyeshadow</td>\n",
       "      <td>makeup</td>\n",
       "      <td>eyes</td>\n",
       "      <td>169.000118.300</td>\n",
       "      <td>4.3</td>\n",
       "      <td>4.0</td>\n",
       "      <td>4.0</td>\n",
       "      <td>1.0</td>\n",
       "      <td>1.0</td>\n",
       "      <td>2.0</td>\n",
       "    </tr>\n",
       "    <tr>\n",
       "      <th>5</th>\n",
       "      <td>https://www.sociolla.com/eyeshadow/15507-twink...</td>\n",
       "      <td>Mineral Botanica</td>\n",
       "      <td>Twinkle Liquid Eyeshadow</td>\n",
       "      <td>makeup</td>\n",
       "      <td>eyes</td>\n",
       "      <td>89.90062.930</td>\n",
       "      <td>4.6</td>\n",
       "      <td>29.0</td>\n",
       "      <td>26.0</td>\n",
       "      <td>19.0</td>\n",
       "      <td>0.0</td>\n",
       "      <td>10.0</td>\n",
       "    </tr>\n",
       "    <tr>\n",
       "      <th>10</th>\n",
       "      <td>https://www.sociolla.com/eyes/47786-pro-curlin...</td>\n",
       "      <td>A'pieu</td>\n",
       "      <td>Pro-Curling Black Fixer Mascara</td>\n",
       "      <td>makeup</td>\n",
       "      <td>eyes</td>\n",
       "      <td>89.00044.500</td>\n",
       "      <td>4.7</td>\n",
       "      <td>207.0</td>\n",
       "      <td>152.0</td>\n",
       "      <td>161.0</td>\n",
       "      <td>10.0</td>\n",
       "      <td>36.0</td>\n",
       "    </tr>\n",
       "    <tr>\n",
       "      <th>12</th>\n",
       "      <td>https://www.sociolla.com/eyeshadow/15508-eyesh...</td>\n",
       "      <td>Mineral Botanica</td>\n",
       "      <td>Eyeshadow Pallete</td>\n",
       "      <td>makeup</td>\n",
       "      <td>eyes</td>\n",
       "      <td>179.900125.930</td>\n",
       "      <td>4.3</td>\n",
       "      <td>7.0</td>\n",
       "      <td>6.0</td>\n",
       "      <td>3.0</td>\n",
       "      <td>2.0</td>\n",
       "      <td>2.0</td>\n",
       "    </tr>\n",
       "    <tr>\n",
       "      <th>13</th>\n",
       "      <td>https://www.sociolla.com/eyeliner/10605-bold-i...</td>\n",
       "      <td>RIVERA</td>\n",
       "      <td>Bold Intense Waterproof Liquid Liner</td>\n",
       "      <td>makeup</td>\n",
       "      <td>eyes</td>\n",
       "      <td>NaN</td>\n",
       "      <td>3.9</td>\n",
       "      <td>6.0</td>\n",
       "      <td>5.0</td>\n",
       "      <td>1.0</td>\n",
       "      <td>2.0</td>\n",
       "      <td>3.0</td>\n",
       "    </tr>\n",
       "    <tr>\n",
       "      <th>...</th>\n",
       "      <td>...</td>\n",
       "      <td>...</td>\n",
       "      <td>...</td>\n",
       "      <td>...</td>\n",
       "      <td>...</td>\n",
       "      <td>...</td>\n",
       "      <td>...</td>\n",
       "      <td>...</td>\n",
       "      <td>...</td>\n",
       "      <td>...</td>\n",
       "      <td>...</td>\n",
       "      <td>...</td>\n",
       "    </tr>\n",
       "    <tr>\n",
       "      <th>1202</th>\n",
       "      <td>https://www.sociolla.com/lip-cream/56768-lipsm...</td>\n",
       "      <td>Tutorrial</td>\n",
       "      <td>Lipsmear X Stefany Talitha</td>\n",
       "      <td>makeup</td>\n",
       "      <td>lips</td>\n",
       "      <td>119.00095.200</td>\n",
       "      <td>4.5</td>\n",
       "      <td>29.0</td>\n",
       "      <td>26.0</td>\n",
       "      <td>22.0</td>\n",
       "      <td>0.0</td>\n",
       "      <td>7.0</td>\n",
       "    </tr>\n",
       "    <tr>\n",
       "      <th>1203</th>\n",
       "      <td>https://www.sociolla.com/lip-stain/24950-gloss...</td>\n",
       "      <td>Emina</td>\n",
       "      <td>Glossy Stain</td>\n",
       "      <td>makeup</td>\n",
       "      <td>lips</td>\n",
       "      <td>47.50042.750</td>\n",
       "      <td>4.7</td>\n",
       "      <td>2200.0</td>\n",
       "      <td>2014.0</td>\n",
       "      <td>1800.0</td>\n",
       "      <td>37.0</td>\n",
       "      <td>337.0</td>\n",
       "    </tr>\n",
       "    <tr>\n",
       "      <th>1204</th>\n",
       "      <td>https://www.sociolla.com/lipstick/704-rouge-ed...</td>\n",
       "      <td>Bourjois</td>\n",
       "      <td>Rouge Edition 12H</td>\n",
       "      <td>makeup</td>\n",
       "      <td>lips</td>\n",
       "      <td>195.000117.000</td>\n",
       "      <td>4.4</td>\n",
       "      <td>12.0</td>\n",
       "      <td>12.0</td>\n",
       "      <td>5.0</td>\n",
       "      <td>0.0</td>\n",
       "      <td>7.0</td>\n",
       "    </tr>\n",
       "    <tr>\n",
       "      <th>1206</th>\n",
       "      <td>https://www.sociolla.com/lip-cream/17020-velve...</td>\n",
       "      <td>SAINT by Sandra</td>\n",
       "      <td>Velvet Matte Lipquid</td>\n",
       "      <td>makeup</td>\n",
       "      <td>lips</td>\n",
       "      <td>119.00071.400 - 119.000</td>\n",
       "      <td>4.0</td>\n",
       "      <td>13.0</td>\n",
       "      <td>8.0</td>\n",
       "      <td>2.0</td>\n",
       "      <td>5.0</td>\n",
       "      <td>6.0</td>\n",
       "    </tr>\n",
       "    <tr>\n",
       "      <th>1208</th>\n",
       "      <td>https://www.sociolla.com/lip-crayon/10300-mult...</td>\n",
       "      <td>Dear Me Beauty</td>\n",
       "      <td>Multistick Crayon</td>\n",
       "      <td>makeup</td>\n",
       "      <td>lips</td>\n",
       "      <td>89.00053.400</td>\n",
       "      <td>4.4</td>\n",
       "      <td>1000.0</td>\n",
       "      <td>949.0</td>\n",
       "      <td>618.0</td>\n",
       "      <td>103.0</td>\n",
       "      <td>312.0</td>\n",
       "    </tr>\n",
       "  </tbody>\n",
       "</table>\n",
       "<p>557 rows × 12 columns</p>\n",
       "</div>"
      ],
      "text/plain": [
       "                                                   link             brand  \\\n",
       "4     https://www.sociolla.com/eyeshadow/13894-eyelu...           LA GIRL   \n",
       "5     https://www.sociolla.com/eyeshadow/15507-twink...  Mineral Botanica   \n",
       "10    https://www.sociolla.com/eyes/47786-pro-curlin...            A'pieu   \n",
       "12    https://www.sociolla.com/eyeshadow/15508-eyesh...  Mineral Botanica   \n",
       "13    https://www.sociolla.com/eyeliner/10605-bold-i...            RIVERA   \n",
       "...                                                 ...               ...   \n",
       "1202  https://www.sociolla.com/lip-cream/56768-lipsm...         Tutorrial   \n",
       "1203  https://www.sociolla.com/lip-stain/24950-gloss...             Emina   \n",
       "1204  https://www.sociolla.com/lipstick/704-rouge-ed...          Bourjois   \n",
       "1206  https://www.sociolla.com/lip-cream/17020-velve...   SAINT by Sandra   \n",
       "1208  https://www.sociolla.com/lip-crayon/10300-mult...    Dear Me Beauty   \n",
       "\n",
       "                              product_name category sub_category  \\\n",
       "4             Eyelux Mesmerizing Eyeshadow   makeup         eyes   \n",
       "5                 Twinkle Liquid Eyeshadow   makeup         eyes   \n",
       "10         Pro-Curling Black Fixer Mascara   makeup         eyes   \n",
       "12                       Eyeshadow Pallete   makeup         eyes   \n",
       "13    Bold Intense Waterproof Liquid Liner   makeup         eyes   \n",
       "...                                    ...      ...          ...   \n",
       "1202            Lipsmear X Stefany Talitha   makeup         lips   \n",
       "1203                          Glossy Stain   makeup         lips   \n",
       "1204                     Rouge Edition 12H   makeup         lips   \n",
       "1206                  Velvet Matte Lipquid   makeup         lips   \n",
       "1208                     Multistick Crayon   makeup         lips   \n",
       "\n",
       "                        price  rating  number_of_reviews  \\\n",
       "4              169.000118.300     4.3                4.0   \n",
       "5                89.90062.930     4.6               29.0   \n",
       "10               89.00044.500     4.7              207.0   \n",
       "12             179.900125.930     4.3                7.0   \n",
       "13                        NaN     3.9                6.0   \n",
       "...                       ...     ...                ...   \n",
       "1202            119.00095.200     4.5               29.0   \n",
       "1203             47.50042.750     4.7             2200.0   \n",
       "1204           195.000117.000     4.4               12.0   \n",
       "1206  119.00071.400 - 119.000     4.0               13.0   \n",
       "1208             89.00053.400     4.4             1000.0   \n",
       "\n",
       "      number_of_recommendations  repurchase_yes  repurchase_no  \\\n",
       "4                           4.0             1.0            1.0   \n",
       "5                          26.0            19.0            0.0   \n",
       "10                        152.0           161.0           10.0   \n",
       "12                          6.0             3.0            2.0   \n",
       "13                          5.0             1.0            2.0   \n",
       "...                         ...             ...            ...   \n",
       "1202                       26.0            22.0            0.0   \n",
       "1203                     2014.0          1800.0           37.0   \n",
       "1204                       12.0             5.0            0.0   \n",
       "1206                        8.0             2.0            5.0   \n",
       "1208                      949.0           618.0          103.0   \n",
       "\n",
       "      repurchase_maybe  \n",
       "4                  2.0  \n",
       "5                 10.0  \n",
       "10                36.0  \n",
       "12                 2.0  \n",
       "13                 3.0  \n",
       "...                ...  \n",
       "1202               7.0  \n",
       "1203             337.0  \n",
       "1204               7.0  \n",
       "1206               6.0  \n",
       "1208             312.0  \n",
       "\n",
       "[557 rows x 12 columns]"
      ]
     },
     "execution_count": 75,
     "metadata": {},
     "output_type": "execute_result"
    }
   ],
   "source": [
    "df_nofix = df.drop(index=(price_fix1+price_fix2+price_fix3),errors='ignore')\n",
    "df_nofix"
   ]
  },
  {
   "cell_type": "markdown",
   "id": "6744fc54-2abc-4875-998c-a9887eb431ab",
   "metadata": {},
   "source": [
    "The data above is what we need to fix the price column"
   ]
  },
  {
   "cell_type": "markdown",
   "id": "a9a6ad0a-035d-4827-a945-72a54a6e2d1e",
   "metadata": {},
   "source": [
    "## 1. Starts with the products that have a discount, only one variant, and their prices are below Rp100.000 \n",
    "- Their character length are 12"
   ]
  },
  {
   "cell_type": "code",
   "execution_count": 76,
   "id": "982252a9-8e5f-4378-ab62-1ee6da136f3c",
   "metadata": {},
   "outputs": [
    {
     "data": {
      "text/plain": [
       "158"
      ]
     },
     "execution_count": 76,
     "metadata": {},
     "output_type": "execute_result"
    }
   ],
   "source": [
    "disc_1_var = []\n",
    "for i in range(len(df.price)):\n",
    "    if len(str(df.price[i]))==12:\n",
    "        disc_1_var.append(np.array(df[df.price==df.price[i]].index).tolist())\n",
    "    elif len(str(df.price[i]))==21:\n",
    "        disc_1_var.append(np.array(df[df.price==df.price[i]].index).tolist())\n",
    "len(disc_1_var)"
   ]
  },
  {
   "cell_type": "markdown",
   "id": "6c3aa9e1-1f03-42f1-990f-2633fb7cf360",
   "metadata": {},
   "source": [
    "143 products have a discount on 12 December 2021, but we only put the real price before their prices are cut by the discount"
   ]
  },
  {
   "cell_type": "code",
   "execution_count": 77,
   "id": "29a6f348-6ab6-4b45-bdac-e9aa9105d2ed",
   "metadata": {},
   "outputs": [],
   "source": [
    "disc_1_var_fix = []\n",
    "for k in disc_1_var:\n",
    "    disc_1_var_fix.extend(k)\n",
    "\n",
    "disc_1_var_fix = pd.DataFrame(disc_1_var_fix).drop_duplicates()[0].sort_values().values.tolist()\n",
    "df.loc[disc_1_var_fix,'price'] = df.loc[disc_1_var_fix].price.str[:6]"
   ]
  },
  {
   "cell_type": "markdown",
   "id": "b031a438-3464-4a2b-a68d-493d48c747e6",
   "metadata": {},
   "source": [
    "## 2. Have a discount, only one variant, and their prices are between Rp100.000 and Rp1.000.000 \n",
    "- Their character length are 14 and 13"
   ]
  },
  {
   "cell_type": "code",
   "execution_count": 78,
   "id": "8fe76a60-b309-484e-a047-2fae19a7be54",
   "metadata": {},
   "outputs": [
    {
     "data": {
      "text/plain": [
       "282"
      ]
     },
     "execution_count": 78,
     "metadata": {},
     "output_type": "execute_result"
    }
   ],
   "source": [
    "disc_2_var = []\n",
    "for i in range(len(df.price)):\n",
    "    if len(str(df.price[i]))==14:\n",
    "        disc_2_var.append(np.array(df[df.price==df.price[i]].index).tolist())\n",
    "    elif len(str(df.price[i]))==13:\n",
    "        disc_2_var.append(np.array(df[df.price==df.price[i]].index).tolist())\n",
    "    elif len(str(df.price[i]))==24:\n",
    "        disc_2_var.append(np.array(df[df.price==df.price[i]].index).tolist())\n",
    "    elif len(str(df.price[i]))==23:\n",
    "        disc_2_var.append(np.array(df[df.price==df.price[i]].index).tolist())\n",
    "    \n",
    "len(disc_2_var)"
   ]
  },
  {
   "cell_type": "markdown",
   "id": "a54121a0-9a9f-4c4d-93a0-bd1cd30eedf6",
   "metadata": {},
   "source": [
    "175 products have a discount on 12 December 2021, but we only put the real price before their prices are cut by the discount"
   ]
  },
  {
   "cell_type": "code",
   "execution_count": 79,
   "id": "8c12a71c-464d-4a6f-975b-92eee1f2eba4",
   "metadata": {},
   "outputs": [],
   "source": [
    "disc_2_var_fix = []\n",
    "for k in disc_2_var:\n",
    "    disc_2_var_fix.extend(k)\n",
    "\n",
    "disc_2_var_fix = pd.DataFrame(disc_2_var_fix).drop_duplicates()[0].sort_values().values.tolist()\n",
    "df.loc[disc_2_var_fix,'price'] = df.loc[disc_2_var_fix].price.str[:7]"
   ]
  },
  {
   "cell_type": "markdown",
   "id": "199fc91c-2803-44c3-995e-b3dd1983ff73",
   "metadata": {},
   "source": [
    "Check the data that still have a wrong format"
   ]
  },
  {
   "cell_type": "code",
   "execution_count": 80,
   "id": "aeb8d13f-49bf-4bff-a9e5-944ac2a07393",
   "metadata": {},
   "outputs": [
    {
     "data": {
      "text/html": [
       "<div>\n",
       "<style scoped>\n",
       "    .dataframe tbody tr th:only-of-type {\n",
       "        vertical-align: middle;\n",
       "    }\n",
       "\n",
       "    .dataframe tbody tr th {\n",
       "        vertical-align: top;\n",
       "    }\n",
       "\n",
       "    .dataframe thead th {\n",
       "        text-align: right;\n",
       "    }\n",
       "</style>\n",
       "<table border=\"1\" class=\"dataframe\">\n",
       "  <thead>\n",
       "    <tr style=\"text-align: right;\">\n",
       "      <th></th>\n",
       "      <th>link</th>\n",
       "      <th>brand</th>\n",
       "      <th>product_name</th>\n",
       "      <th>category</th>\n",
       "      <th>sub_category</th>\n",
       "      <th>price</th>\n",
       "      <th>rating</th>\n",
       "      <th>number_of_reviews</th>\n",
       "      <th>number_of_recommendations</th>\n",
       "      <th>repurchase_yes</th>\n",
       "      <th>repurchase_no</th>\n",
       "      <th>repurchase_maybe</th>\n",
       "    </tr>\n",
       "  </thead>\n",
       "  <tbody>\n",
       "    <tr>\n",
       "      <th>782</th>\n",
       "      <td>https://www.sociolla.com/pressed-powder/48737-...</td>\n",
       "      <td>Maybelline</td>\n",
       "      <td>FIT ME! 12H Oil Control Powder</td>\n",
       "      <td>makeup</td>\n",
       "      <td>face</td>\n",
       "      <td>64.000 - 75.000</td>\n",
       "      <td>4.6</td>\n",
       "      <td>288.0</td>\n",
       "      <td>243.0</td>\n",
       "      <td>215.0</td>\n",
       "      <td>10.0</td>\n",
       "      <td>63.0</td>\n",
       "    </tr>\n",
       "    <tr>\n",
       "      <th>1020</th>\n",
       "      <td>https://www.sociolla.com/lip-cream/40162-rouge...</td>\n",
       "      <td>Bourjois</td>\n",
       "      <td>Rouge Edition Velvet</td>\n",
       "      <td>makeup</td>\n",
       "      <td>lips</td>\n",
       "      <td>213.000 - 326.281</td>\n",
       "      <td>4.3</td>\n",
       "      <td>211.0</td>\n",
       "      <td>192.0</td>\n",
       "      <td>107.0</td>\n",
       "      <td>36.0</td>\n",
       "      <td>68.0</td>\n",
       "    </tr>\n",
       "    <tr>\n",
       "      <th>802</th>\n",
       "      <td>https://www.sociolla.com/lipstick/10067-color-...</td>\n",
       "      <td>Loreal Paris</td>\n",
       "      <td>Color Riche Matte</td>\n",
       "      <td>makeup</td>\n",
       "      <td>lips</td>\n",
       "      <td>69.000 - 75.00058.650 - 63.750</td>\n",
       "      <td>4.5</td>\n",
       "      <td>1200.0</td>\n",
       "      <td>1084.0</td>\n",
       "      <td>793.0</td>\n",
       "      <td>78.0</td>\n",
       "      <td>294.0</td>\n",
       "    </tr>\n",
       "    <tr>\n",
       "      <th>784</th>\n",
       "      <td>https://www.sociolla.com/bb-cc-cream/8010-ligh...</td>\n",
       "      <td>Wardah</td>\n",
       "      <td>Lightening BB Cream</td>\n",
       "      <td>makeup</td>\n",
       "      <td>face</td>\n",
       "      <td>32.500 - 62.000</td>\n",
       "      <td>4.2</td>\n",
       "      <td>3200.0</td>\n",
       "      <td>2676.0</td>\n",
       "      <td>1400.0</td>\n",
       "      <td>718.0</td>\n",
       "      <td>1100.0</td>\n",
       "    </tr>\n",
       "    <tr>\n",
       "      <th>617</th>\n",
       "      <td>https://www.sociolla.com/liquid-foundation/107...</td>\n",
       "      <td>Wardah</td>\n",
       "      <td>Everyday Luminous Creamy Foundation</td>\n",
       "      <td>makeup</td>\n",
       "      <td>face</td>\n",
       "      <td>37.000 - 39.000</td>\n",
       "      <td>4.3</td>\n",
       "      <td>199.0</td>\n",
       "      <td>156.0</td>\n",
       "      <td>102.0</td>\n",
       "      <td>35.0</td>\n",
       "      <td>62.0</td>\n",
       "    </tr>\n",
       "    <tr>\n",
       "      <th>668</th>\n",
       "      <td>https://www.sociolla.com/bb-cc-cream/9749-m-pe...</td>\n",
       "      <td>Missha</td>\n",
       "      <td>M Perfect BB Cream SPF42 PA+++</td>\n",
       "      <td>makeup</td>\n",
       "      <td>face</td>\n",
       "      <td>137.500 - 379.50068.750 - 189.750</td>\n",
       "      <td>4.3</td>\n",
       "      <td>311.0</td>\n",
       "      <td>255.0</td>\n",
       "      <td>163.0</td>\n",
       "      <td>58.0</td>\n",
       "      <td>90.0</td>\n",
       "    </tr>\n",
       "  </tbody>\n",
       "</table>\n",
       "</div>"
      ],
      "text/plain": [
       "                                                   link         brand  \\\n",
       "782   https://www.sociolla.com/pressed-powder/48737-...    Maybelline   \n",
       "1020  https://www.sociolla.com/lip-cream/40162-rouge...      Bourjois   \n",
       "802   https://www.sociolla.com/lipstick/10067-color-...  Loreal Paris   \n",
       "784   https://www.sociolla.com/bb-cc-cream/8010-ligh...        Wardah   \n",
       "617   https://www.sociolla.com/liquid-foundation/107...        Wardah   \n",
       "668   https://www.sociolla.com/bb-cc-cream/9749-m-pe...        Missha   \n",
       "\n",
       "                             product_name category sub_category  \\\n",
       "782        FIT ME! 12H Oil Control Powder   makeup         face   \n",
       "1020                 Rouge Edition Velvet   makeup         lips   \n",
       "802                     Color Riche Matte   makeup         lips   \n",
       "784                   Lightening BB Cream   makeup         face   \n",
       "617   Everyday Luminous Creamy Foundation   makeup         face   \n",
       "668        M Perfect BB Cream SPF42 PA+++   makeup         face   \n",
       "\n",
       "                                  price  rating  number_of_reviews  \\\n",
       "782                     64.000 - 75.000     4.6              288.0   \n",
       "1020                  213.000 - 326.281     4.3              211.0   \n",
       "802      69.000 - 75.00058.650 - 63.750     4.5             1200.0   \n",
       "784                     32.500 - 62.000     4.2             3200.0   \n",
       "617                     37.000 - 39.000     4.3              199.0   \n",
       "668   137.500 - 379.50068.750 - 189.750     4.3              311.0   \n",
       "\n",
       "      number_of_recommendations  repurchase_yes  repurchase_no  \\\n",
       "782                       243.0           215.0           10.0   \n",
       "1020                      192.0           107.0           36.0   \n",
       "802                      1084.0           793.0           78.0   \n",
       "784                      2676.0          1400.0          718.0   \n",
       "617                       156.0           102.0           35.0   \n",
       "668                       255.0           163.0           58.0   \n",
       "\n",
       "      repurchase_maybe  \n",
       "782               63.0  \n",
       "1020              68.0  \n",
       "802              294.0  \n",
       "784             1100.0  \n",
       "617               62.0  \n",
       "668               90.0  "
      ]
     },
     "execution_count": 80,
     "metadata": {},
     "output_type": "execute_result"
    }
   ],
   "source": [
    "df.drop(index=(disc_1_var_fix+disc_2_var_fix+price_fix1+price_fix2+price_fix3)).dropna().sample(6)"
   ]
  },
  {
   "cell_type": "markdown",
   "id": "2f18d972-181e-4c48-992c-c1f73088db5a",
   "metadata": {},
   "source": [
    "## 3. Fix the product prices that have more than one variant without discount\n",
    "We'll just get the product that have the highest price. Thus, the number of reviews, recommendations, and repurchase don't count twice"
   ]
  },
  {
   "cell_type": "code",
   "execution_count": 81,
   "id": "a64ac203-412b-4676-9d40-70182d4d4a40",
   "metadata": {},
   "outputs": [
    {
     "name": "stdout",
     "output_type": "stream",
     "text": [
      "3\n",
      "2\n"
     ]
    }
   ],
   "source": [
    "var1 = []\n",
    "var2 = []\n",
    "for i in range(len(df.price)):\n",
    "    if len(str(df.price[i]))==15:\n",
    "        var1.append(np.array(df[df.price==df.price[i]].index).tolist())\n",
    "for m in range(len(df.price)):\n",
    "    if len(str(df.price[m]))==17:\n",
    "        var2.append(np.array(df[df.price==df.price[m]].index).tolist())\n",
    "print(len(var1))\n",
    "print(len(var2))"
   ]
  },
  {
   "cell_type": "code",
   "execution_count": 82,
   "id": "b98e312c-d60c-4a47-824a-c672e33981b9",
   "metadata": {},
   "outputs": [],
   "source": [
    "var1_fix = []\n",
    "for k in var1:\n",
    "    var1_fix.extend(k)\n",
    "\n",
    "var2_fix = []\n",
    "for j in var2:\n",
    "    var2_fix.extend(j)\n",
    "    \n",
    "var1_fix = pd.DataFrame(var1).drop_duplicates()[0].sort_values().values.tolist()\n",
    "var2_fix = pd.DataFrame(var2).drop_duplicates()[0].sort_values().values.tolist()\n",
    "\n",
    "df.loc[var1_fix,'price'] = df.loc[var1_fix].price.str[:7]\n",
    "df.loc[var2_fix,'price'] = df.loc[var2_fix].price.str[:7]"
   ]
  },
  {
   "cell_type": "code",
   "execution_count": 83,
   "id": "ce2b7bc1-2d62-439c-8410-4146ce31af2b",
   "metadata": {},
   "outputs": [
    {
     "data": {
      "text/html": [
       "<div>\n",
       "<style scoped>\n",
       "    .dataframe tbody tr th:only-of-type {\n",
       "        vertical-align: middle;\n",
       "    }\n",
       "\n",
       "    .dataframe tbody tr th {\n",
       "        vertical-align: top;\n",
       "    }\n",
       "\n",
       "    .dataframe thead th {\n",
       "        text-align: right;\n",
       "    }\n",
       "</style>\n",
       "<table border=\"1\" class=\"dataframe\">\n",
       "  <thead>\n",
       "    <tr style=\"text-align: right;\">\n",
       "      <th></th>\n",
       "      <th>link</th>\n",
       "      <th>brand</th>\n",
       "      <th>product_name</th>\n",
       "      <th>category</th>\n",
       "      <th>sub_category</th>\n",
       "      <th>price</th>\n",
       "      <th>rating</th>\n",
       "      <th>number_of_reviews</th>\n",
       "      <th>number_of_recommendations</th>\n",
       "      <th>repurchase_yes</th>\n",
       "      <th>repurchase_no</th>\n",
       "      <th>repurchase_maybe</th>\n",
       "    </tr>\n",
       "  </thead>\n",
       "  <tbody>\n",
       "    <tr>\n",
       "      <th>127</th>\n",
       "      <td>https://www.sociolla.com/eyeshadow/12448-9-col...</td>\n",
       "      <td>Focallure</td>\n",
       "      <td>9 Color Eyeshadow Pan</td>\n",
       "      <td>makeup</td>\n",
       "      <td>eyes</td>\n",
       "      <td>119.000 - 168.00076.160 - 107.520</td>\n",
       "      <td>4.6</td>\n",
       "      <td>400.0</td>\n",
       "      <td>378.0</td>\n",
       "      <td>255.0</td>\n",
       "      <td>12.0</td>\n",
       "      <td>133.0</td>\n",
       "    </tr>\n",
       "    <tr>\n",
       "      <th>317</th>\n",
       "      <td>https://www.sociolla.com/eye-primer/55105-seei...</td>\n",
       "      <td>Urban Decay</td>\n",
       "      <td>Seeing Double</td>\n",
       "      <td>makeup</td>\n",
       "      <td>eyes</td>\n",
       "      <td>0</td>\n",
       "      <td>4.6</td>\n",
       "      <td>1.0</td>\n",
       "      <td>1.0</td>\n",
       "      <td>1.0</td>\n",
       "      <td>0.0</td>\n",
       "      <td>0.0</td>\n",
       "    </tr>\n",
       "    <tr>\n",
       "      <th>465</th>\n",
       "      <td>https://www.sociolla.com/bb-cc-cream/58190-lng...</td>\n",
       "      <td>Laneige</td>\n",
       "      <td>LNG Neo Cushion-Glow No.21N Beige (OL21)</td>\n",
       "      <td>makeup</td>\n",
       "      <td>face</td>\n",
       "      <td>590.000 - 751.000472.000 - 590.000</td>\n",
       "      <td>4.0</td>\n",
       "      <td>1.0</td>\n",
       "      <td>1.0</td>\n",
       "      <td>1.0</td>\n",
       "      <td>0.0</td>\n",
       "      <td>0.0</td>\n",
       "    </tr>\n",
       "    <tr>\n",
       "      <th>668</th>\n",
       "      <td>https://www.sociolla.com/bb-cc-cream/9749-m-pe...</td>\n",
       "      <td>Missha</td>\n",
       "      <td>M Perfect BB Cream SPF42 PA+++</td>\n",
       "      <td>makeup</td>\n",
       "      <td>face</td>\n",
       "      <td>137.500 - 379.50068.750 - 189.750</td>\n",
       "      <td>4.3</td>\n",
       "      <td>311.0</td>\n",
       "      <td>255.0</td>\n",
       "      <td>163.0</td>\n",
       "      <td>58.0</td>\n",
       "      <td>90.0</td>\n",
       "    </tr>\n",
       "    <tr>\n",
       "      <th>729</th>\n",
       "      <td>https://www.sociolla.com/setting-spray/14375-d...</td>\n",
       "      <td>Studio Tropik</td>\n",
       "      <td>Dreamsetter Setting Spray</td>\n",
       "      <td>makeup</td>\n",
       "      <td>face</td>\n",
       "      <td>64.900 - 192.50059.059 - 175.175</td>\n",
       "      <td>4.6</td>\n",
       "      <td>504.0</td>\n",
       "      <td>464.0</td>\n",
       "      <td>401.0</td>\n",
       "      <td>13.0</td>\n",
       "      <td>90.0</td>\n",
       "    </tr>\n",
       "    <tr>\n",
       "      <th>802</th>\n",
       "      <td>https://www.sociolla.com/lipstick/10067-color-...</td>\n",
       "      <td>Loreal Paris</td>\n",
       "      <td>Color Riche Matte</td>\n",
       "      <td>makeup</td>\n",
       "      <td>lips</td>\n",
       "      <td>69.000 - 75.00058.650 - 63.750</td>\n",
       "      <td>4.5</td>\n",
       "      <td>1200.0</td>\n",
       "      <td>1084.0</td>\n",
       "      <td>793.0</td>\n",
       "      <td>78.0</td>\n",
       "      <td>294.0</td>\n",
       "    </tr>\n",
       "    <tr>\n",
       "      <th>816</th>\n",
       "      <td>https://www.sociolla.com/lip-cream/49504-ombre...</td>\n",
       "      <td>Dear Me Beauty</td>\n",
       "      <td>Ombre Lip Kit Caramel Mocha</td>\n",
       "      <td>makeup</td>\n",
       "      <td>lips</td>\n",
       "      <td>0</td>\n",
       "      <td>4.2</td>\n",
       "      <td>1.0</td>\n",
       "      <td>1.0</td>\n",
       "      <td>1.0</td>\n",
       "      <td>0.0</td>\n",
       "      <td>0.0</td>\n",
       "    </tr>\n",
       "    <tr>\n",
       "      <th>874</th>\n",
       "      <td>https://www.sociolla.com/lip-cream/15137-vive-...</td>\n",
       "      <td>SAINT by Sandra</td>\n",
       "      <td>Vive Le Saint Package</td>\n",
       "      <td>makeup</td>\n",
       "      <td>lips</td>\n",
       "      <td>0</td>\n",
       "      <td>4.6</td>\n",
       "      <td>1.0</td>\n",
       "      <td>1.0</td>\n",
       "      <td>0.0</td>\n",
       "      <td>0.0</td>\n",
       "      <td>1.0</td>\n",
       "    </tr>\n",
       "    <tr>\n",
       "      <th>1009</th>\n",
       "      <td>https://www.sociolla.com/lip-cream/16703-power...</td>\n",
       "      <td>Make Over</td>\n",
       "      <td>Powerstay Transferproof Matte Lip cream</td>\n",
       "      <td>makeup</td>\n",
       "      <td>lips</td>\n",
       "      <td>125.000 - 131.000112.500 - 117.900</td>\n",
       "      <td>4.7</td>\n",
       "      <td>1200.0</td>\n",
       "      <td>1057.0</td>\n",
       "      <td>918.0</td>\n",
       "      <td>32.0</td>\n",
       "      <td>202.0</td>\n",
       "    </tr>\n",
       "    <tr>\n",
       "      <th>1063</th>\n",
       "      <td>https://www.sociolla.com/makeup/12822-les-mini...</td>\n",
       "      <td>SAINT by Sandra</td>\n",
       "      <td>Les Minimaliste Crème Lipstick Set: Un, Deux, ...</td>\n",
       "      <td>makeup</td>\n",
       "      <td>lips</td>\n",
       "      <td>0</td>\n",
       "      <td>5.0</td>\n",
       "      <td>1.0</td>\n",
       "      <td>1.0</td>\n",
       "      <td>1.0</td>\n",
       "      <td>0.0</td>\n",
       "      <td>0.0</td>\n",
       "    </tr>\n",
       "  </tbody>\n",
       "</table>\n",
       "</div>"
      ],
      "text/plain": [
       "                                                   link            brand  \\\n",
       "127   https://www.sociolla.com/eyeshadow/12448-9-col...        Focallure   \n",
       "317   https://www.sociolla.com/eye-primer/55105-seei...      Urban Decay   \n",
       "465   https://www.sociolla.com/bb-cc-cream/58190-lng...          Laneige   \n",
       "668   https://www.sociolla.com/bb-cc-cream/9749-m-pe...           Missha   \n",
       "729   https://www.sociolla.com/setting-spray/14375-d...    Studio Tropik   \n",
       "802   https://www.sociolla.com/lipstick/10067-color-...     Loreal Paris   \n",
       "816   https://www.sociolla.com/lip-cream/49504-ombre...   Dear Me Beauty   \n",
       "874   https://www.sociolla.com/lip-cream/15137-vive-...  SAINT by Sandra   \n",
       "1009  https://www.sociolla.com/lip-cream/16703-power...        Make Over   \n",
       "1063  https://www.sociolla.com/makeup/12822-les-mini...  SAINT by Sandra   \n",
       "\n",
       "                                           product_name category sub_category  \\\n",
       "127                               9 Color Eyeshadow Pan   makeup         eyes   \n",
       "317                                       Seeing Double   makeup         eyes   \n",
       "465            LNG Neo Cushion-Glow No.21N Beige (OL21)   makeup         face   \n",
       "668                      M Perfect BB Cream SPF42 PA+++   makeup         face   \n",
       "729                           Dreamsetter Setting Spray   makeup         face   \n",
       "802                                   Color Riche Matte   makeup         lips   \n",
       "816                         Ombre Lip Kit Caramel Mocha   makeup         lips   \n",
       "874                               Vive Le Saint Package   makeup         lips   \n",
       "1009            Powerstay Transferproof Matte Lip cream   makeup         lips   \n",
       "1063  Les Minimaliste Crème Lipstick Set: Un, Deux, ...   makeup         lips   \n",
       "\n",
       "                                   price  rating  number_of_reviews  \\\n",
       "127    119.000 - 168.00076.160 - 107.520     4.6              400.0   \n",
       "317                                    0     4.6                1.0   \n",
       "465   590.000 - 751.000472.000 - 590.000     4.0                1.0   \n",
       "668    137.500 - 379.50068.750 - 189.750     4.3              311.0   \n",
       "729     64.900 - 192.50059.059 - 175.175     4.6              504.0   \n",
       "802       69.000 - 75.00058.650 - 63.750     4.5             1200.0   \n",
       "816                                    0     4.2                1.0   \n",
       "874                                    0     4.6                1.0   \n",
       "1009  125.000 - 131.000112.500 - 117.900     4.7             1200.0   \n",
       "1063                                   0     5.0                1.0   \n",
       "\n",
       "      number_of_recommendations  repurchase_yes  repurchase_no  \\\n",
       "127                       378.0           255.0           12.0   \n",
       "317                         1.0             1.0            0.0   \n",
       "465                         1.0             1.0            0.0   \n",
       "668                       255.0           163.0           58.0   \n",
       "729                       464.0           401.0           13.0   \n",
       "802                      1084.0           793.0           78.0   \n",
       "816                         1.0             1.0            0.0   \n",
       "874                         1.0             0.0            0.0   \n",
       "1009                     1057.0           918.0           32.0   \n",
       "1063                        1.0             1.0            0.0   \n",
       "\n",
       "      repurchase_maybe  \n",
       "127              133.0  \n",
       "317                0.0  \n",
       "465                0.0  \n",
       "668               90.0  \n",
       "729               90.0  \n",
       "802              294.0  \n",
       "816                0.0  \n",
       "874                1.0  \n",
       "1009             202.0  \n",
       "1063               0.0  "
      ]
     },
     "execution_count": 83,
     "metadata": {},
     "output_type": "execute_result"
    }
   ],
   "source": [
    "df.drop(index=(disc_1_var_fix+disc_2_var_fix+price_fix1+price_fix2+price_fix3+var1_fix+var2_fix)).dropna()"
   ]
  },
  {
   "cell_type": "markdown",
   "id": "2c12cf31-5092-4865-83aa-1b6d111e3664",
   "metadata": {},
   "source": [
    "## 3. Fix the product prices that have more than one variant with discount\n",
    "Same as before, we just put the highest price product that without discount"
   ]
  },
  {
   "cell_type": "code",
   "execution_count": 84,
   "id": "8003467c-e7b6-4376-b655-68f4426a7a0a",
   "metadata": {},
   "outputs": [
    {
     "name": "stdout",
     "output_type": "stream",
     "text": [
      "1\n",
      "5\n",
      "1\n"
     ]
    }
   ],
   "source": [
    "var3 = []\n",
    "var4 = []\n",
    "var5 = []\n",
    "for i in range(len(df.price)):\n",
    "    if len(str(df.price[i]))==30:\n",
    "        var3.append(np.array(df[df.price==df.price[i]].index).tolist())\n",
    "\n",
    "for a in range(len(df.price)):\n",
    "    if len(str(df.price[a]))==32:\n",
    "        var5.append(np.array(df[df.price==df.price[a]].index).tolist())\n",
    "\n",
    "for k in range(len(df.price)):\n",
    "    if len(str(df.price[k]))==33:\n",
    "        var4.append(np.array(df[df.price==df.price[k]].index).tolist())\n",
    "    elif len(str(df.price[k]))==34:\n",
    "        var4.append(np.array(df[df.price==df.price[k]].index).tolist())\n",
    "print(len(var3))\n",
    "print(len(var4))\n",
    "print(len(var5))"
   ]
  },
  {
   "cell_type": "code",
   "execution_count": 85,
   "id": "2d8a2ee1-a32a-4800-8c60-eb4aea80ceeb",
   "metadata": {},
   "outputs": [],
   "source": [
    "df.loc[pd.DataFrame(var3)[0],'price'] = df.loc[pd.DataFrame(var3)[0]].price.str[9:15]\n",
    "df.loc[pd.DataFrame(var4)[0],'price'] = df.loc[pd.DataFrame(var4)[0]].price.str[10:17]\n",
    "df.loc[pd.DataFrame(var5)[0],'price'] = df.loc[pd.DataFrame(var5)[0]].price.str[9:16]"
   ]
  },
  {
   "cell_type": "code",
   "execution_count": 86,
   "id": "2937b83e-135d-445d-8157-2d19f369c397",
   "metadata": {},
   "outputs": [],
   "source": [
    "df.loc[631,'price'] = 1100000\n",
    "df['price'] = df.price.apply(lambda x:str(x).replace('.','')).astype(float)"
   ]
  },
  {
   "cell_type": "markdown",
   "id": "57d9c09a-c3b4-42be-8aec-4c708a212fe6",
   "metadata": {},
   "source": [
    "# Create repurchase and recommendation rate column"
   ]
  },
  {
   "cell_type": "markdown",
   "id": "9558792d-ba8f-4a31-9953-241ffd2b3c42",
   "metadata": {},
   "source": [
    "- repurchase rate is the number of products purchased again by the customer per total "
   ]
  },
  {
   "cell_type": "code",
   "execution_count": 87,
   "id": "fd48f3f5-1f2f-468e-9eab-afbb15a90e2d",
   "metadata": {},
   "outputs": [
    {
     "data": {
      "text/html": [
       "<div>\n",
       "<style scoped>\n",
       "    .dataframe tbody tr th:only-of-type {\n",
       "        vertical-align: middle;\n",
       "    }\n",
       "\n",
       "    .dataframe tbody tr th {\n",
       "        vertical-align: top;\n",
       "    }\n",
       "\n",
       "    .dataframe thead th {\n",
       "        text-align: right;\n",
       "    }\n",
       "</style>\n",
       "<table border=\"1\" class=\"dataframe\">\n",
       "  <thead>\n",
       "    <tr style=\"text-align: right;\">\n",
       "      <th></th>\n",
       "      <th>link</th>\n",
       "      <th>brand</th>\n",
       "      <th>product_name</th>\n",
       "      <th>category</th>\n",
       "      <th>sub_category</th>\n",
       "      <th>price</th>\n",
       "      <th>rating</th>\n",
       "      <th>number_of_reviews</th>\n",
       "      <th>number_of_recommendations</th>\n",
       "      <th>repurchase_yes</th>\n",
       "      <th>repurchase_no</th>\n",
       "      <th>repurchase_maybe</th>\n",
       "      <th>repurchase_rate</th>\n",
       "      <th>recommendation_rate</th>\n",
       "    </tr>\n",
       "  </thead>\n",
       "  <tbody>\n",
       "    <tr>\n",
       "      <th>0</th>\n",
       "      <td>https://www.sociolla.com/eyeshadow/14396-3-sha...</td>\n",
       "      <td>Pixy</td>\n",
       "      <td>3-Shades Eye Shadow</td>\n",
       "      <td>makeup</td>\n",
       "      <td>eyes</td>\n",
       "      <td>50000.0</td>\n",
       "      <td>4.3</td>\n",
       "      <td>93.0</td>\n",
       "      <td>89.0</td>\n",
       "      <td>55.0</td>\n",
       "      <td>9.0</td>\n",
       "      <td>29.0</td>\n",
       "      <td>0.591398</td>\n",
       "      <td>0.956989</td>\n",
       "    </tr>\n",
       "    <tr>\n",
       "      <th>1</th>\n",
       "      <td>https://www.sociolla.com/mascara/7717-mascara-...</td>\n",
       "      <td>Maybelline</td>\n",
       "      <td>Mascara Magnum Big Shot</td>\n",
       "      <td>makeup</td>\n",
       "      <td>eyes</td>\n",
       "      <td>139000.0</td>\n",
       "      <td>4.5</td>\n",
       "      <td>1200.0</td>\n",
       "      <td>1118.0</td>\n",
       "      <td>828.0</td>\n",
       "      <td>99.0</td>\n",
       "      <td>278.0</td>\n",
       "      <td>0.687137</td>\n",
       "      <td>0.931667</td>\n",
       "    </tr>\n",
       "    <tr>\n",
       "      <th>2</th>\n",
       "      <td>https://www.sociolla.com/eyeshadow/54750-gold-...</td>\n",
       "      <td>Lavie Lash</td>\n",
       "      <td>Gold Getter Eyeshadow</td>\n",
       "      <td>makeup</td>\n",
       "      <td>eyes</td>\n",
       "      <td>196000.0</td>\n",
       "      <td>4.6</td>\n",
       "      <td>7.0</td>\n",
       "      <td>5.0</td>\n",
       "      <td>4.0</td>\n",
       "      <td>1.0</td>\n",
       "      <td>2.0</td>\n",
       "      <td>0.571429</td>\n",
       "      <td>0.714286</td>\n",
       "    </tr>\n",
       "    <tr>\n",
       "      <th>3</th>\n",
       "      <td>https://www.sociolla.com/false-eyelashes/24361...</td>\n",
       "      <td>Loreca</td>\n",
       "      <td>Delfin  - Classic Collection</td>\n",
       "      <td>makeup</td>\n",
       "      <td>eyes</td>\n",
       "      <td>28000.0</td>\n",
       "      <td>4.3</td>\n",
       "      <td>3.0</td>\n",
       "      <td>3.0</td>\n",
       "      <td>3.0</td>\n",
       "      <td>0.0</td>\n",
       "      <td>0.0</td>\n",
       "      <td>1.000000</td>\n",
       "      <td>1.000000</td>\n",
       "    </tr>\n",
       "    <tr>\n",
       "      <th>4</th>\n",
       "      <td>https://www.sociolla.com/eyeshadow/13894-eyelu...</td>\n",
       "      <td>LA GIRL</td>\n",
       "      <td>Eyelux Mesmerizing Eyeshadow</td>\n",
       "      <td>makeup</td>\n",
       "      <td>eyes</td>\n",
       "      <td>169000.0</td>\n",
       "      <td>4.3</td>\n",
       "      <td>4.0</td>\n",
       "      <td>4.0</td>\n",
       "      <td>1.0</td>\n",
       "      <td>1.0</td>\n",
       "      <td>2.0</td>\n",
       "      <td>0.250000</td>\n",
       "      <td>1.000000</td>\n",
       "    </tr>\n",
       "  </tbody>\n",
       "</table>\n",
       "</div>"
      ],
      "text/plain": [
       "                                                link       brand  \\\n",
       "0  https://www.sociolla.com/eyeshadow/14396-3-sha...        Pixy   \n",
       "1  https://www.sociolla.com/mascara/7717-mascara-...  Maybelline   \n",
       "2  https://www.sociolla.com/eyeshadow/54750-gold-...  Lavie Lash   \n",
       "3  https://www.sociolla.com/false-eyelashes/24361...      Loreca   \n",
       "4  https://www.sociolla.com/eyeshadow/13894-eyelu...     LA GIRL   \n",
       "\n",
       "                   product_name category sub_category     price  rating  \\\n",
       "0           3-Shades Eye Shadow   makeup         eyes   50000.0     4.3   \n",
       "1       Mascara Magnum Big Shot   makeup         eyes  139000.0     4.5   \n",
       "2         Gold Getter Eyeshadow   makeup         eyes  196000.0     4.6   \n",
       "3  Delfin  - Classic Collection   makeup         eyes   28000.0     4.3   \n",
       "4  Eyelux Mesmerizing Eyeshadow   makeup         eyes  169000.0     4.3   \n",
       "\n",
       "   number_of_reviews  number_of_recommendations  repurchase_yes  \\\n",
       "0               93.0                       89.0            55.0   \n",
       "1             1200.0                     1118.0           828.0   \n",
       "2                7.0                        5.0             4.0   \n",
       "3                3.0                        3.0             3.0   \n",
       "4                4.0                        4.0             1.0   \n",
       "\n",
       "   repurchase_no  repurchase_maybe  repurchase_rate  recommendation_rate  \n",
       "0            9.0              29.0         0.591398             0.956989  \n",
       "1           99.0             278.0         0.687137             0.931667  \n",
       "2            1.0               2.0         0.571429             0.714286  \n",
       "3            0.0               0.0         1.000000             1.000000  \n",
       "4            1.0               2.0         0.250000             1.000000  "
      ]
     },
     "execution_count": 87,
     "metadata": {},
     "output_type": "execute_result"
    }
   ],
   "source": [
    "df['repurchase_rate'] = df['repurchase_yes']/(df.repurchase_yes+df.repurchase_no+df.repurchase_maybe)\n",
    "df['recommendation_rate'] = df['number_of_recommendations']/df.number_of_reviews\n",
    "df.head()"
   ]
  },
  {
   "cell_type": "markdown",
   "id": "b16c0988-c9b9-40ca-804c-175bc9efbb0e",
   "metadata": {},
   "source": [
    "# Descriptive Statistics Table"
   ]
  },
  {
   "cell_type": "code",
   "execution_count": 88,
   "id": "7d307192-f79d-4981-a156-bb2085834dd1",
   "metadata": {},
   "outputs": [
    {
     "data": {
      "text/html": [
       "<div>\n",
       "<style scoped>\n",
       "    .dataframe tbody tr th:only-of-type {\n",
       "        vertical-align: middle;\n",
       "    }\n",
       "\n",
       "    .dataframe tbody tr th {\n",
       "        vertical-align: top;\n",
       "    }\n",
       "\n",
       "    .dataframe thead th {\n",
       "        text-align: right;\n",
       "    }\n",
       "</style>\n",
       "<table border=\"1\" class=\"dataframe\">\n",
       "  <thead>\n",
       "    <tr style=\"text-align: right;\">\n",
       "      <th></th>\n",
       "      <th>price</th>\n",
       "      <th>rating</th>\n",
       "      <th>number_of_reviews</th>\n",
       "      <th>number_of_recommendations</th>\n",
       "      <th>repurchase_yes</th>\n",
       "      <th>repurchase_no</th>\n",
       "      <th>repurchase_maybe</th>\n",
       "      <th>repurchase_rate</th>\n",
       "      <th>recommendation_rate</th>\n",
       "    </tr>\n",
       "  </thead>\n",
       "  <tbody>\n",
       "    <tr>\n",
       "      <th>count</th>\n",
       "      <td>1.111000e+03</td>\n",
       "      <td>1047.000000</td>\n",
       "      <td>1048.000000</td>\n",
       "      <td>1050.000000</td>\n",
       "      <td>1056.000000</td>\n",
       "      <td>1056.000000</td>\n",
       "      <td>1056.000000</td>\n",
       "      <td>1056.000000</td>\n",
       "      <td>1048.000000</td>\n",
       "    </tr>\n",
       "    <tr>\n",
       "      <th>mean</th>\n",
       "      <td>1.481770e+05</td>\n",
       "      <td>4.438013</td>\n",
       "      <td>253.661260</td>\n",
       "      <td>229.125714</td>\n",
       "      <td>166.592803</td>\n",
       "      <td>26.651515</td>\n",
       "      <td>66.623106</td>\n",
       "      <td>0.620318</td>\n",
       "      <td>0.842395</td>\n",
       "    </tr>\n",
       "    <tr>\n",
       "      <th>std</th>\n",
       "      <td>1.393081e+05</td>\n",
       "      <td>0.315421</td>\n",
       "      <td>835.638206</td>\n",
       "      <td>763.720262</td>\n",
       "      <td>544.322398</td>\n",
       "      <td>107.205838</td>\n",
       "      <td>226.055318</td>\n",
       "      <td>0.224928</td>\n",
       "      <td>0.183571</td>\n",
       "    </tr>\n",
       "    <tr>\n",
       "      <th>min</th>\n",
       "      <td>0.000000e+00</td>\n",
       "      <td>1.800000</td>\n",
       "      <td>1.000000</td>\n",
       "      <td>0.000000</td>\n",
       "      <td>0.000000</td>\n",
       "      <td>0.000000</td>\n",
       "      <td>0.000000</td>\n",
       "      <td>0.000000</td>\n",
       "      <td>0.000000</td>\n",
       "    </tr>\n",
       "    <tr>\n",
       "      <th>25%</th>\n",
       "      <td>6.000000e+04</td>\n",
       "      <td>4.300000</td>\n",
       "      <td>7.000000</td>\n",
       "      <td>5.000000</td>\n",
       "      <td>4.000000</td>\n",
       "      <td>0.000000</td>\n",
       "      <td>2.000000</td>\n",
       "      <td>0.500000</td>\n",
       "      <td>0.793558</td>\n",
       "    </tr>\n",
       "    <tr>\n",
       "      <th>50%</th>\n",
       "      <td>1.186000e+05</td>\n",
       "      <td>4.500000</td>\n",
       "      <td>30.000000</td>\n",
       "      <td>24.000000</td>\n",
       "      <td>18.000000</td>\n",
       "      <td>2.000000</td>\n",
       "      <td>7.000000</td>\n",
       "      <td>0.629422</td>\n",
       "      <td>0.894737</td>\n",
       "    </tr>\n",
       "    <tr>\n",
       "      <th>75%</th>\n",
       "      <td>1.790000e+05</td>\n",
       "      <td>4.600000</td>\n",
       "      <td>170.750000</td>\n",
       "      <td>151.750000</td>\n",
       "      <td>104.250000</td>\n",
       "      <td>16.000000</td>\n",
       "      <td>46.000000</td>\n",
       "      <td>0.750000</td>\n",
       "      <td>0.958814</td>\n",
       "    </tr>\n",
       "    <tr>\n",
       "      <th>max</th>\n",
       "      <td>1.106300e+06</td>\n",
       "      <td>5.000000</td>\n",
       "      <td>15700.000000</td>\n",
       "      <td>13494.000000</td>\n",
       "      <td>8000.000000</td>\n",
       "      <td>2700.000000</td>\n",
       "      <td>5000.000000</td>\n",
       "      <td>1.000000</td>\n",
       "      <td>1.000000</td>\n",
       "    </tr>\n",
       "  </tbody>\n",
       "</table>\n",
       "</div>"
      ],
      "text/plain": [
       "              price       rating  number_of_reviews  \\\n",
       "count  1.111000e+03  1047.000000        1048.000000   \n",
       "mean   1.481770e+05     4.438013         253.661260   \n",
       "std    1.393081e+05     0.315421         835.638206   \n",
       "min    0.000000e+00     1.800000           1.000000   \n",
       "25%    6.000000e+04     4.300000           7.000000   \n",
       "50%    1.186000e+05     4.500000          30.000000   \n",
       "75%    1.790000e+05     4.600000         170.750000   \n",
       "max    1.106300e+06     5.000000       15700.000000   \n",
       "\n",
       "       number_of_recommendations  repurchase_yes  repurchase_no  \\\n",
       "count                1050.000000     1056.000000    1056.000000   \n",
       "mean                  229.125714      166.592803      26.651515   \n",
       "std                   763.720262      544.322398     107.205838   \n",
       "min                     0.000000        0.000000       0.000000   \n",
       "25%                     5.000000        4.000000       0.000000   \n",
       "50%                    24.000000       18.000000       2.000000   \n",
       "75%                   151.750000      104.250000      16.000000   \n",
       "max                 13494.000000     8000.000000    2700.000000   \n",
       "\n",
       "       repurchase_maybe  repurchase_rate  recommendation_rate  \n",
       "count       1056.000000      1056.000000          1048.000000  \n",
       "mean          66.623106         0.620318             0.842395  \n",
       "std          226.055318         0.224928             0.183571  \n",
       "min            0.000000         0.000000             0.000000  \n",
       "25%            2.000000         0.500000             0.793558  \n",
       "50%            7.000000         0.629422             0.894737  \n",
       "75%           46.000000         0.750000             0.958814  \n",
       "max         5000.000000         1.000000             1.000000  "
      ]
     },
     "execution_count": 88,
     "metadata": {},
     "output_type": "execute_result"
    }
   ],
   "source": [
    "df.describe()"
   ]
  },
  {
   "cell_type": "markdown",
   "id": "50c8c12d-ad8f-4cea-b755-1157d490fc98",
   "metadata": {
    "tags": []
   },
   "source": [
    "# Visualization"
   ]
  },
  {
   "cell_type": "code",
   "execution_count": 89,
   "id": "ba9738b9-443a-4a0d-b95e-5117ca62d5dc",
   "metadata": {},
   "outputs": [
    {
     "data": {
      "image/png": "[encoded data removed]",
      "text/plain": [
       "<Figure size 1080x792 with 4 Axes>"
      ]
     },
     "metadata": {
      "needs_background": "light"
     },
     "output_type": "display_data"
    }
   ],
   "source": [
    "fig, ax = plt.subplots(2,2,figsize=(15,11))\n",
    "\n",
    "sns.distplot(df.price,ax=ax[0,0],color=palette[0])\n",
    "ax[0,0].set_xlabel('Price\\n',size=13)\n",
    "\n",
    "sns.distplot(df.rating,ax=ax[0,1],color=palette[0])\n",
    "ax[0,1].set_xlabel('Rating\\n',size=13)\n",
    "\n",
    "sns.distplot(df.number_of_reviews,ax=ax[1,0],color=palette[0])\n",
    "ax[1,0].set_xlabel('Number of Reviews\\n',size=13)\n",
    "\n",
    "sns.distplot(df.number_of_recommendations,ax=ax[1,1],color=palette[0])\n",
    "ax[1,1].set_xlabel('Number of Recommendations\\n',size=13)\n",
    "\n",
    "plt.suptitle('Distribution of Makeup products in Sociolla\\n\\n',size=15,fontweight=550)\n",
    "plt.show()"
   ]
  },
  {
   "cell_type": "markdown",
   "id": "2b88b1d4-e2a4-4678-8aa5-81b4d2617521",
   "metadata": {},
   "source": [
    "# What kind of makeup do we have in Sociolla ?"
   ]
  },
  {
   "cell_type": "code",
   "execution_count": 90,
   "id": "9a306001-b52f-46ef-8da6-d934e09dfcdb",
   "metadata": {},
   "outputs": [
    {
     "data": {
      "image/png": "[encoded data removed]",
      "text/plain": [
       "<Figure size 1080x360 with 1 Axes>"
      ]
     },
     "metadata": {
      "needs_background": "light"
     },
     "output_type": "display_data"
    }
   ],
   "source": [
    "sns.boxplot(orient='horizontal',x='price',y='sub_category',data=df,palette=['#46D6B3','#8A94F9','#EC8374'],linewidth=0.6,fliersize=3)\n",
    "plt.ylabel('')\n",
    "plt.xlabel('Price',size=12)\n",
    "plt.title('Categories in makeup products',size=19,fontweight=550)\n",
    "plt.show()"
   ]
  },
  {
   "cell_type": "markdown",
   "id": "05794433-584e-47a9-ba99-ab1e8918aa44",
   "metadata": {
    "tags": []
   },
   "source": [
    "Looks like Face has more \"pricey\" products than the others"
   ]
  },
  {
   "cell_type": "code",
   "execution_count": 91,
   "id": "5e2c9102-32fe-4ef3-afb8-a42a4cc28634",
   "metadata": {},
   "outputs": [
    {
     "data": {
      "application/vnd.plotly.v1+json": {
       "config": {
        "plotlyServerURL": "https://plot.ly"
       },
       "data": [
        {
         "hovertemplate": "<b>%{hovertext}</b><br><br>sub_category=face<br>number_of_recommendations=%{x}<br>repurchase_yes=%{y}<br>price=%{marker.size}<extra></extra>",
         "hovertext": [
          "City Chic CC Cake",
          "Touch & Glow Face Powder",
          "Bright Stuff Loose Powder",
          "Lightening Two Way Cake Extra Cover 10 gr",
          "Bare With Me Mineral Cushion",
          "Silky Smooth Translucent Powder",
          "Make It Glow Dewy Cushion",
          "Lightening BB Cream",
          "Cheeklit Pressed Blush"
         ],
         "legendgroup": "face",
         "marker": {
          "color": "#46D6B3",
          "size": [
           52500,
           50000,
           22500,
           58000,
           126000,
           129000,
           125000,
           32500,
           38000
          ],
          "sizemode": "area",
          "sizeref": 43.05555555555556,
          "symbol": "circle"
         },
         "mode": "markers",
         "name": "face",
         "orientation": "v",
         "showlegend": true,
         "type": "scatter",
         "x": [
          1487,
          1567,
          1669,
          2049,
          2251,
          2275,
          2592,
          2676,
          8162
         ],
         "xaxis": "x",
         "y": [
          830,
          1100,
          1300,
          1200,
          1400,
          1700,
          2000,
          1400,
          6200
         ],
         "yaxis": "y"
        },
        {
         "hovertemplate": "<b>%{hovertext}</b><br><br>sub_category=lips<br>number_of_recommendations=%{x}<br>repurchase_yes=%{y}<br>price=%{marker.size}<extra></extra>",
         "hovertext": [
          "Maybelline Sensational Liquid Matte Lipstick",
          "Longlasting Lipstick",
          "Glossy Stain",
          "Lip Cheek Eye Colour",
          "Superstay Matte Ink Un-Nude Liquid Lipstick",
          "Lip Care",
          "Creamytint",
          "Liquid Lipstik Matte Rouge Signature Make Up",
          "Colorfit Velvet Matte Lip Mousse",
          "Superstay Matte Ink",
          "Lip Coat",
          "Intense Matte Lipstick",
          "Everyday Cheek and Lip Tint",
          "Perfect Matte Lip Coat",
          "Magic Potion",
          "Intense Matte Lip Cream",
          "Exclusive Matte Lip Cream"
         ],
         "legendgroup": "lips",
         "marker": {
          "color": "#EC8374",
          "size": [
           69000,
           48500,
           47500,
           45900,
           125000,
           23000,
           44000,
           150000,
           73000,
           125000,
           139000,
           48500,
           44000,
           109000,
           46000,
           110000,
           62000
          ],
          "sizemode": "area",
          "sizeref": 43.05555555555556,
          "symbol": "circle"
         },
         "mode": "markers",
         "name": "lips",
         "orientation": "v",
         "showlegend": true,
         "type": "scatter",
         "x": [
          1640,
          1737,
          2014,
          2076,
          2773,
          3232,
          3306,
          3340,
          3355,
          3756,
          4208,
          4445,
          4647,
          5097,
          5660,
          7549,
          13494
         ],
         "xaxis": "x",
         "y": [
          1200,
          931,
          1800,
          1300,
          2100,
          2400,
          2700,
          2500,
          2800,
          2800,
          3100,
          2600,
          3200,
          4100,
          4000,
          5800,
          8000
         ],
         "yaxis": "y"
        },
        {
         "hovertemplate": "<b>%{hovertext}</b><br><br>sub_category=eyes<br>number_of_recommendations=%{x}<br>repurchase_yes=%{y}<br>price=%{marker.size}<extra></extra>",
         "hovertext": [
          "Optimum Hi-Black Liner",
          "EyeXpert Eyeshadow Nude",
          "Volume Lash Paradise",
          "Volum Express Hyper Curl Mascara"
         ],
         "legendgroup": "eyes",
         "marker": {
          "color": "#8A94F9",
          "size": [
           79000,
           47500,
           155000,
           75000
          ],
          "sizemode": "area",
          "sizeref": 43.05555555555556,
          "symbol": "circle"
         },
         "mode": "markers",
         "name": "eyes",
         "orientation": "v",
         "showlegend": true,
         "type": "scatter",
         "x": [
          2019,
          2716,
          2733,
          5744
         ],
         "xaxis": "x",
         "y": [
          1400,
          1800,
          2300,
          4400
         ],
         "yaxis": "y"
        }
       ],
       "layout": {
        "autosize": true,
        "legend": {
         "itemsizing": "constant",
         "title": {
          "text": "sub_category"
         },
         "tracegroupgap": 0
        },
        "margin": {
         "t": 60
        },
        "template": {
         "data": {
          "bar": [
           {
            "error_x": {
             "color": "#2a3f5f"
            },
            "error_y": {
             "color": "#2a3f5f"
            },
            "marker": {
             "line": {
              "color": "#E5ECF6",
              "width": 0.5
             },
             "pattern": {
              "fillmode": "overlay",
              "size": 10,
              "solidity": 0.2
             }
            },
            "type": "bar"
           }
          ],
          "barpolar": [
           {
            "marker": {
             "line": {
              "color": "#E5ECF6",
              "width": 0.5
             },
             "pattern": {
              "fillmode": "overlay",
              "size": 10,
              "solidity": 0.2
             }
            },
            "type": "barpolar"
           }
          ],
          "carpet": [
           {
            "aaxis": {
             "endlinecolor": "#2a3f5f",
             "gridcolor": "white",
             "linecolor": "white",
             "minorgridcolor": "white",
             "startlinecolor": "#2a3f5f"
            },
            "baxis": {
             "endlinecolor": "#2a3f5f",
             "gridcolor": "white",
             "linecolor": "white",
             "minorgridcolor": "white",
             "startlinecolor": "#2a3f5f"
            },
            "type": "carpet"
           }
          ],
          "choropleth": [
           {
            "colorbar": {
             "outlinewidth": 0,
             "ticks": ""
            },
            "type": "choropleth"
           }
          ],
          "contour": [
           {
            "colorbar": {
             "outlinewidth": 0,
             "ticks": ""
            },
            "colorscale": [
             [
              0,
              "#0d0887"
             ],
             [
              0.1111111111111111,
              "#46039f"
             ],
             [
              0.2222222222222222,
              "#7201a8"
             ],
             [
              0.3333333333333333,
              "#9c179e"
             ],
             [
              0.4444444444444444,
              "#bd3786"
             ],
             [
              0.5555555555555556,
              "#d8576b"
             ],
             [
              0.6666666666666666,
              "#ed7953"
             ],
             [
              0.7777777777777778,
              "#fb9f3a"
             ],
             [
              0.8888888888888888,
              "#fdca26"
             ],
             [
              1,
              "#f0f921"
             ]
            ],
            "type": "contour"
           }
          ],
          "contourcarpet": [
           {
            "colorbar": {
             "outlinewidth": 0,
             "ticks": ""
            },
            "type": "contourcarpet"
           }
          ],
          "heatmap": [
           {
            "colorbar": {
             "outlinewidth": 0,
             "ticks": ""
            },
            "colorscale": [
             [
              0,
              "#0d0887"
             ],
             [
              0.1111111111111111,
              "#46039f"
             ],
             [
              0.2222222222222222,
              "#7201a8"
             ],
             [
              0.3333333333333333,
              "#9c179e"
             ],
             [
              0.4444444444444444,
              "#bd3786"
             ],
             [
              0.5555555555555556,
              "#d8576b"
             ],
             [
              0.6666666666666666,
              "#ed7953"
             ],
             [
              0.7777777777777778,
              "#fb9f3a"
             ],
             [
              0.8888888888888888,
              "#fdca26"
             ],
             [
              1,
              "#f0f921"
             ]
            ],
            "type": "heatmap"
           }
          ],
          "heatmapgl": [
           {
            "colorbar": {
             "outlinewidth": 0,
             "ticks": ""
            },
            "colorscale": [
             [
              0,
              "#0d0887"
             ],
             [
              0.1111111111111111,
              "#46039f"
             ],
             [
              0.2222222222222222,
              "#7201a8"
             ],
             [
              0.3333333333333333,
              "#9c179e"
             ],
             [
              0.4444444444444444,
              "#bd3786"
             ],
             [
              0.5555555555555556,
              "#d8576b"
             ],
             [
              0.6666666666666666,
              "#ed7953"
             ],
             [
              0.7777777777777778,
              "#fb9f3a"
             ],
             [
              0.8888888888888888,
              "#fdca26"
             ],
             [
              1,
              "#f0f921"
             ]
            ],
            "type": "heatmapgl"
           }
          ],
          "histogram": [
           {
            "marker": {
             "pattern": {
              "fillmode": "overlay",
              "size": 10,
              "solidity": 0.2
             }
            },
            "type": "histogram"
           }
          ],
          "histogram2d": [
           {
            "colorbar": {
             "outlinewidth": 0,
             "ticks": ""
            },
            "colorscale": [
             [
              0,
              "#0d0887"
             ],
             [
              0.1111111111111111,
              "#46039f"
             ],
             [
              0.2222222222222222,
              "#7201a8"
             ],
             [
              0.3333333333333333,
              "#9c179e"
             ],
             [
              0.4444444444444444,
              "#bd3786"
             ],
             [
              0.5555555555555556,
              "#d8576b"
             ],
             [
              0.6666666666666666,
              "#ed7953"
             ],
             [
              0.7777777777777778,
              "#fb9f3a"
             ],
             [
              0.8888888888888888,
              "#fdca26"
             ],
             [
              1,
              "#f0f921"
             ]
            ],
            "type": "histogram2d"
           }
          ],
          "histogram2dcontour": [
           {
            "colorbar": {
             "outlinewidth": 0,
             "ticks": ""
            },
            "colorscale": [
             [
              0,
              "#0d0887"
             ],
             [
              0.1111111111111111,
              "#46039f"
             ],
             [
              0.2222222222222222,
              "#7201a8"
             ],
             [
              0.3333333333333333,
              "#9c179e"
             ],
             [
              0.4444444444444444,
              "#bd3786"
             ],
             [
              0.5555555555555556,
              "#d8576b"
             ],
             [
              0.6666666666666666,
              "#ed7953"
             ],
             [
              0.7777777777777778,
              "#fb9f3a"
             ],
             [
              0.8888888888888888,
              "#fdca26"
             ],
             [
              1,
              "#f0f921"
             ]
            ],
            "type": "histogram2dcontour"
           }
          ],
          "mesh3d": [
           {
            "colorbar": {
             "outlinewidth": 0,
             "ticks": ""
            },
            "type": "mesh3d"
           }
          ],
          "parcoords": [
           {
            "line": {
             "colorbar": {
              "outlinewidth": 0,
              "ticks": ""
             }
            },
            "type": "parcoords"
           }
          ],
          "pie": [
           {
            "automargin": true,
            "type": "pie"
           }
          ],
          "scatter": [
           {
            "marker": {
             "colorbar": {
              "outlinewidth": 0,
              "ticks": ""
             }
            },
            "type": "scatter"
           }
          ],
          "scatter3d": [
           {
            "line": {
             "colorbar": {
              "outlinewidth": 0,
              "ticks": ""
             }
            },
            "marker": {
             "colorbar": {
              "outlinewidth": 0,
              "ticks": ""
             }
            },
            "type": "scatter3d"
           }
          ],
          "scattercarpet": [
           {
            "marker": {
             "colorbar": {
              "outlinewidth": 0,
              "ticks": ""
             }
            },
            "type": "scattercarpet"
           }
          ],
          "scattergeo": [
           {
            "marker": {
             "colorbar": {
              "outlinewidth": 0,
              "ticks": ""
             }
            },
            "type": "scattergeo"
           }
          ],
          "scattergl": [
           {
            "marker": {
             "colorbar": {
              "outlinewidth": 0,
              "ticks": ""
             }
            },
            "type": "scattergl"
           }
          ],
          "scattermapbox": [
           {
            "marker": {
             "colorbar": {
              "outlinewidth": 0,
              "ticks": ""
             }
            },
            "type": "scattermapbox"
           }
          ],
          "scatterpolar": [
           {
            "marker": {
             "colorbar": {
              "outlinewidth": 0,
              "ticks": ""
             }
            },
            "type": "scatterpolar"
           }
          ],
          "scatterpolargl": [
           {
            "marker": {
             "colorbar": {
              "outlinewidth": 0,
              "ticks": ""
             }
            },
            "type": "scatterpolargl"
           }
          ],
          "scatterternary": [
           {
            "marker": {
             "colorbar": {
              "outlinewidth": 0,
              "ticks": ""
             }
            },
            "type": "scatterternary"
           }
          ],
          "surface": [
           {
            "colorbar": {
             "outlinewidth": 0,
             "ticks": ""
            },
            "colorscale": [
             [
              0,
              "#0d0887"
             ],
             [
              0.1111111111111111,
              "#46039f"
             ],
             [
              0.2222222222222222,
              "#7201a8"
             ],
             [
              0.3333333333333333,
              "#9c179e"
             ],
             [
              0.4444444444444444,
              "#bd3786"
             ],
             [
              0.5555555555555556,
              "#d8576b"
             ],
             [
              0.6666666666666666,
              "#ed7953"
             ],
             [
              0.7777777777777778,
              "#fb9f3a"
             ],
             [
              0.8888888888888888,
              "#fdca26"
             ],
             [
              1,
              "#f0f921"
             ]
            ],
            "type": "surface"
           }
          ],
          "table": [
           {
            "cells": {
             "fill": {
              "color": "#EBF0F8"
             },
             "line": {
              "color": "white"
             }
            },
            "header": {
             "fill": {
              "color": "#C8D4E3"
             },
             "line": {
              "color": "white"
             }
            },
            "type": "table"
           }
          ]
         },
         "layout": {
          "annotationdefaults": {
           "arrowcolor": "#2a3f5f",
           "arrowhead": 0,
           "arrowwidth": 1
          },
          "autotypenumbers": "strict",
          "coloraxis": {
           "colorbar": {
            "outlinewidth": 0,
            "ticks": ""
           }
          },
          "colorscale": {
           "diverging": [
            [
             0,
             "#8e0152"
            ],
            [
             0.1,
             "#c51b7d"
            ],
            [
             0.2,
             "#de77ae"
            ],
            [
             0.3,
             "#f1b6da"
            ],
            [
             0.4,
             "#fde0ef"
            ],
            [
             0.5,
             "#f7f7f7"
            ],
            [
             0.6,
             "#e6f5d0"
            ],
            [
             0.7,
             "#b8e186"
            ],
            [
             0.8,
             "#7fbc41"
            ],
            [
             0.9,
             "#4d9221"
            ],
            [
             1,
             "#276419"
            ]
           ],
           "sequential": [
            [
             0,
             "#0d0887"
            ],
            [
             0.1111111111111111,
             "#46039f"
            ],
            [
             0.2222222222222222,
             "#7201a8"
            ],
            [
             0.3333333333333333,
             "#9c179e"
            ],
            [
             0.4444444444444444,
             "#bd3786"
            ],
            [
             0.5555555555555556,
             "#d8576b"
            ],
            [
             0.6666666666666666,
             "#ed7953"
            ],
            [
             0.7777777777777778,
             "#fb9f3a"
            ],
            [
             0.8888888888888888,
             "#fdca26"
            ],
            [
             1,
             "#f0f921"
            ]
           ],
           "sequentialminus": [
            [
             0,
             "#0d0887"
            ],
            [
             0.1111111111111111,
             "#46039f"
            ],
            [
             0.2222222222222222,
             "#7201a8"
            ],
            [
             0.3333333333333333,
             "#9c179e"
            ],
            [
             0.4444444444444444,
             "#bd3786"
            ],
            [
             0.5555555555555556,
             "#d8576b"
            ],
            [
             0.6666666666666666,
             "#ed7953"
            ],
            [
             0.7777777777777778,
             "#fb9f3a"
            ],
            [
             0.8888888888888888,
             "#fdca26"
            ],
            [
             1,
             "#f0f921"
            ]
           ]
          },
          "colorway": [
           "#636efa",
           "#EF553B",
           "#00cc96",
           "#ab63fa",
           "#FFA15A",
           "#19d3f3",
           "#FF6692",
           "#B6E880",
           "#FF97FF",
           "#FECB52"
          ],
          "font": {
           "color": "#2a3f5f"
          },
          "geo": {
           "bgcolor": "white",
           "lakecolor": "white",
           "landcolor": "#E5ECF6",
           "showlakes": true,
           "showland": true,
           "subunitcolor": "white"
          },
          "hoverlabel": {
           "align": "left"
          },
          "hovermode": "closest",
          "mapbox": {
           "style": "light"
          },
          "paper_bgcolor": "white",
          "plot_bgcolor": "#E5ECF6",
          "polar": {
           "angularaxis": {
            "gridcolor": "white",
            "linecolor": "white",
            "ticks": ""
           },
           "bgcolor": "#E5ECF6",
           "radialaxis": {
            "gridcolor": "white",
            "linecolor": "white",
            "ticks": ""
           }
          },
          "scene": {
           "xaxis": {
            "backgroundcolor": "#E5ECF6",
            "gridcolor": "white",
            "gridwidth": 2,
            "linecolor": "white",
            "showbackground": true,
            "ticks": "",
            "zerolinecolor": "white"
           },
           "yaxis": {
            "backgroundcolor": "#E5ECF6",
            "gridcolor": "white",
            "gridwidth": 2,
            "linecolor": "white",
            "showbackground": true,
            "ticks": "",
            "zerolinecolor": "white"
           },
           "zaxis": {
            "backgroundcolor": "#E5ECF6",
            "gridcolor": "white",
            "gridwidth": 2,
            "linecolor": "white",
            "showbackground": true,
            "ticks": "",
            "zerolinecolor": "white"
           }
          },
          "shapedefaults": {
           "line": {
            "color": "#2a3f5f"
           }
          },
          "ternary": {
           "aaxis": {
            "gridcolor": "white",
            "linecolor": "white",
            "ticks": ""
           },
           "baxis": {
            "gridcolor": "white",
            "linecolor": "white",
            "ticks": ""
           },
           "bgcolor": "#E5ECF6",
           "caxis": {
            "gridcolor": "white",
            "linecolor": "white",
            "ticks": ""
           }
          },
          "title": {
           "x": 0.05
          },
          "xaxis": {
           "automargin": true,
           "gridcolor": "white",
           "linecolor": "white",
           "ticks": "",
           "title": {
            "standoff": 15
           },
           "zerolinecolor": "white",
           "zerolinewidth": 2
          },
          "yaxis": {
           "automargin": true,
           "gridcolor": "white",
           "linecolor": "white",
           "ticks": "",
           "title": {
            "standoff": 15
           },
           "zerolinecolor": "white",
           "zerolinewidth": 2
          }
         }
        },
        "title": {
         "font": {
          "size": 19
         },
         "text": "Top 30 makeup products"
        },
        "xaxis": {
         "anchor": "y",
         "autorange": true,
         "domain": [
          0,
          1
         ],
         "range": [
          3.08754273953077,
          4.217361039689164
         ],
         "title": {
          "text": "Recommendations"
         },
         "type": "log"
        },
        "yaxis": {
         "anchor": "x",
         "autorange": true,
         "domain": [
          0,
          1
         ],
         "range": [
          -1433.6298039665267,
          10160.775541690657
         ],
         "title": {
          "text": "Repurchases"
         },
         "type": "linear"
        }
       }
      },
      "image/png": "[encoded data removed]",
      "text/html": [
       "<div>                            <div id=\"c3aee93a-8397-4bbe-9d45-a4bf2286a355\" class=\"plotly-graph-div\" style=\"height:525px; width:100%;\"></div>            <script type=\"text/javascript\">                require([\"plotly\"], function(Plotly) {                    window.PLOTLYENV=window.PLOTLYENV || {};                                    if (document.getElementById(\"c3aee93a-8397-4bbe-9d45-a4bf2286a355\")) {                    Plotly.newPlot(                        \"c3aee93a-8397-4bbe-9d45-a4bf2286a355\",                        [{\"hovertemplate\":\"<b>%{hovertext}</b><br><br>sub_category=face<br>number_of_recommendations=%{x}<br>repurchase_yes=%{y}<br>price=%{marker.size}<extra></extra>\",\"hovertext\":[\"City Chic CC Cake\",\"Touch & Glow Face Powder\",\"Bright Stuff Loose Powder\",\"Lightening Two Way Cake Extra Cover 10 gr\",\"Bare With Me Mineral Cushion\",\"Silky Smooth Translucent Powder\",\"Make It Glow Dewy Cushion\",\"Lightening BB Cream\",\"Cheeklit Pressed Blush\"],\"legendgroup\":\"face\",\"marker\":{\"color\":\"#46D6B3\",\"size\":[52500.0,50000.0,22500.0,58000.0,126000.0,129000.0,125000.0,32500.0,38000.0],\"sizemode\":\"area\",\"sizeref\":43.05555555555556,\"symbol\":\"circle\"},\"mode\":\"markers\",\"name\":\"face\",\"orientation\":\"v\",\"showlegend\":true,\"type\":\"scatter\",\"x\":[1487.0,1567.0,1669.0,2049.0,2251.0,2275.0,2592.0,2676.0,8162.0],\"xaxis\":\"x\",\"y\":[830.0,1100.0,1300.0,1200.0,1400.0,1700.0,2000.0,1400.0,6200.0],\"yaxis\":\"y\"},{\"hovertemplate\":\"<b>%{hovertext}</b><br><br>sub_category=lips<br>number_of_recommendations=%{x}<br>repurchase_yes=%{y}<br>price=%{marker.size}<extra></extra>\",\"hovertext\":[\"Maybelline Sensational Liquid Matte Lipstick\",\"Longlasting Lipstick\",\"Glossy Stain\",\"Lip Cheek Eye Colour\",\"Superstay Matte Ink Un-Nude Liquid Lipstick\",\"Lip Care\",\"Creamytint\",\"Liquid Lipstik Matte Rouge Signature Make Up\",\"Colorfit Velvet Matte Lip Mousse\",\"Superstay Matte Ink\",\"Lip Coat\",\"Intense Matte Lipstick\",\"Everyday Cheek and Lip Tint\",\"Perfect Matte Lip Coat\",\"Magic Potion\",\"Intense Matte Lip Cream\",\"Exclusive Matte Lip Cream\"],\"legendgroup\":\"lips\",\"marker\":{\"color\":\"#EC8374\",\"size\":[69000.0,48500.0,47500.0,45900.0,125000.0,23000.0,44000.0,150000.0,73000.0,125000.0,139000.0,48500.0,44000.0,109000.0,46000.0,110000.0,62000.0],\"sizemode\":\"area\",\"sizeref\":43.05555555555556,\"symbol\":\"circle\"},\"mode\":\"markers\",\"name\":\"lips\",\"orientation\":\"v\",\"showlegend\":true,\"type\":\"scatter\",\"x\":[1640.0,1737.0,2014.0,2076.0,2773.0,3232.0,3306.0,3340.0,3355.0,3756.0,4208.0,4445.0,4647.0,5097.0,5660.0,7549.0,13494.0],\"xaxis\":\"x\",\"y\":[1200.0,931.0,1800.0,1300.0,2100.0,2400.0,2700.0,2500.0,2800.0,2800.0,3100.0,2600.0,3200.0,4100.0,4000.0,5800.0,8000.0],\"yaxis\":\"y\"},{\"hovertemplate\":\"<b>%{hovertext}</b><br><br>sub_category=eyes<br>number_of_recommendations=%{x}<br>repurchase_yes=%{y}<br>price=%{marker.size}<extra></extra>\",\"hovertext\":[\"Optimum Hi-Black Liner\",\"EyeXpert Eyeshadow Nude\",\"Volume Lash Paradise\",\"Volum Express Hyper Curl Mascara\"],\"legendgroup\":\"eyes\",\"marker\":{\"color\":\"#8A94F9\",\"size\":[79000.0,47500.0,155000.0,75000.0],\"sizemode\":\"area\",\"sizeref\":43.05555555555556,\"symbol\":\"circle\"},\"mode\":\"markers\",\"name\":\"eyes\",\"orientation\":\"v\",\"showlegend\":true,\"type\":\"scatter\",\"x\":[2019.0,2716.0,2733.0,5744.0],\"xaxis\":\"x\",\"y\":[1400.0,1800.0,2300.0,4400.0],\"yaxis\":\"y\"}],                        {\"legend\":{\"itemsizing\":\"constant\",\"title\":{\"text\":\"sub_category\"},\"tracegroupgap\":0},\"margin\":{\"t\":60},\"template\":{\"data\":{\"bar\":[{\"error_x\":{\"color\":\"#2a3f5f\"},\"error_y\":{\"color\":\"#2a3f5f\"},\"marker\":{\"line\":{\"color\":\"#E5ECF6\",\"width\":0.5},\"pattern\":{\"fillmode\":\"overlay\",\"size\":10,\"solidity\":0.2}},\"type\":\"bar\"}],\"barpolar\":[{\"marker\":{\"line\":{\"color\":\"#E5ECF6\",\"width\":0.5},\"pattern\":{\"fillmode\":\"overlay\",\"size\":10,\"solidity\":0.2}},\"type\":\"barpolar\"}],\"carpet\":[{\"aaxis\":{\"endlinecolor\":\"#2a3f5f\",\"gridcolor\":\"white\",\"linecolor\":\"white\",\"minorgridcolor\":\"white\",\"startlinecolor\":\"#2a3f5f\"},\"baxis\":{\"endlinecolor\":\"#2a3f5f\",\"gridcolor\":\"white\",\"linecolor\":\"white\",\"minorgridcolor\":\"white\",\"startlinecolor\":\"#2a3f5f\"},\"type\":\"carpet\"}],\"choropleth\":[{\"colorbar\":{\"outlinewidth\":0,\"ticks\":\"\"},\"type\":\"choropleth\"}],\"contour\":[{\"colorbar\":{\"outlinewidth\":0,\"ticks\":\"\"},\"colorscale\":[[0.0,\"#0d0887\"],[0.1111111111111111,\"#46039f\"],[0.2222222222222222,\"#7201a8\"],[0.3333333333333333,\"#9c179e\"],[0.4444444444444444,\"#bd3786\"],[0.5555555555555556,\"#d8576b\"],[0.6666666666666666,\"#ed7953\"],[0.7777777777777778,\"#fb9f3a\"],[0.8888888888888888,\"#fdca26\"],[1.0,\"#f0f921\"]],\"type\":\"contour\"}],\"contourcarpet\":[{\"colorbar\":{\"outlinewidth\":0,\"ticks\":\"\"},\"type\":\"contourcarpet\"}],\"heatmap\":[{\"colorbar\":{\"outlinewidth\":0,\"ticks\":\"\"},\"colorscale\":[[0.0,\"#0d0887\"],[0.1111111111111111,\"#46039f\"],[0.2222222222222222,\"#7201a8\"],[0.3333333333333333,\"#9c179e\"],[0.4444444444444444,\"#bd3786\"],[0.5555555555555556,\"#d8576b\"],[0.6666666666666666,\"#ed7953\"],[0.7777777777777778,\"#fb9f3a\"],[0.8888888888888888,\"#fdca26\"],[1.0,\"#f0f921\"]],\"type\":\"heatmap\"}],\"heatmapgl\":[{\"colorbar\":{\"outlinewidth\":0,\"ticks\":\"\"},\"colorscale\":[[0.0,\"#0d0887\"],[0.1111111111111111,\"#46039f\"],[0.2222222222222222,\"#7201a8\"],[0.3333333333333333,\"#9c179e\"],[0.4444444444444444,\"#bd3786\"],[0.5555555555555556,\"#d8576b\"],[0.6666666666666666,\"#ed7953\"],[0.7777777777777778,\"#fb9f3a\"],[0.8888888888888888,\"#fdca26\"],[1.0,\"#f0f921\"]],\"type\":\"heatmapgl\"}],\"histogram\":[{\"marker\":{\"pattern\":{\"fillmode\":\"overlay\",\"size\":10,\"solidity\":0.2}},\"type\":\"histogram\"}],\"histogram2d\":[{\"colorbar\":{\"outlinewidth\":0,\"ticks\":\"\"},\"colorscale\":[[0.0,\"#0d0887\"],[0.1111111111111111,\"#46039f\"],[0.2222222222222222,\"#7201a8\"],[0.3333333333333333,\"#9c179e\"],[0.4444444444444444,\"#bd3786\"],[0.5555555555555556,\"#d8576b\"],[0.6666666666666666,\"#ed7953\"],[0.7777777777777778,\"#fb9f3a\"],[0.8888888888888888,\"#fdca26\"],[1.0,\"#f0f921\"]],\"type\":\"histogram2d\"}],\"histogram2dcontour\":[{\"colorbar\":{\"outlinewidth\":0,\"ticks\":\"\"},\"colorscale\":[[0.0,\"#0d0887\"],[0.1111111111111111,\"#46039f\"],[0.2222222222222222,\"#7201a8\"],[0.3333333333333333,\"#9c179e\"],[0.4444444444444444,\"#bd3786\"],[0.5555555555555556,\"#d8576b\"],[0.6666666666666666,\"#ed7953\"],[0.7777777777777778,\"#fb9f3a\"],[0.8888888888888888,\"#fdca26\"],[1.0,\"#f0f921\"]],\"type\":\"histogram2dcontour\"}],\"mesh3d\":[{\"colorbar\":{\"outlinewidth\":0,\"ticks\":\"\"},\"type\":\"mesh3d\"}],\"parcoords\":[{\"line\":{\"colorbar\":{\"outlinewidth\":0,\"ticks\":\"\"}},\"type\":\"parcoords\"}],\"pie\":[{\"automargin\":true,\"type\":\"pie\"}],\"scatter\":[{\"marker\":{\"colorbar\":{\"outlinewidth\":0,\"ticks\":\"\"}},\"type\":\"scatter\"}],\"scatter3d\":[{\"line\":{\"colorbar\":{\"outlinewidth\":0,\"ticks\":\"\"}},\"marker\":{\"colorbar\":{\"outlinewidth\":0,\"ticks\":\"\"}},\"type\":\"scatter3d\"}],\"scattercarpet\":[{\"marker\":{\"colorbar\":{\"outlinewidth\":0,\"ticks\":\"\"}},\"type\":\"scattercarpet\"}],\"scattergeo\":[{\"marker\":{\"colorbar\":{\"outlinewidth\":0,\"ticks\":\"\"}},\"type\":\"scattergeo\"}],\"scattergl\":[{\"marker\":{\"colorbar\":{\"outlinewidth\":0,\"ticks\":\"\"}},\"type\":\"scattergl\"}],\"scattermapbox\":[{\"marker\":{\"colorbar\":{\"outlinewidth\":0,\"ticks\":\"\"}},\"type\":\"scattermapbox\"}],\"scatterpolar\":[{\"marker\":{\"colorbar\":{\"outlinewidth\":0,\"ticks\":\"\"}},\"type\":\"scatterpolar\"}],\"scatterpolargl\":[{\"marker\":{\"colorbar\":{\"outlinewidth\":0,\"ticks\":\"\"}},\"type\":\"scatterpolargl\"}],\"scatterternary\":[{\"marker\":{\"colorbar\":{\"outlinewidth\":0,\"ticks\":\"\"}},\"type\":\"scatterternary\"}],\"surface\":[{\"colorbar\":{\"outlinewidth\":0,\"ticks\":\"\"},\"colorscale\":[[0.0,\"#0d0887\"],[0.1111111111111111,\"#46039f\"],[0.2222222222222222,\"#7201a8\"],[0.3333333333333333,\"#9c179e\"],[0.4444444444444444,\"#bd3786\"],[0.5555555555555556,\"#d8576b\"],[0.6666666666666666,\"#ed7953\"],[0.7777777777777778,\"#fb9f3a\"],[0.8888888888888888,\"#fdca26\"],[1.0,\"#f0f921\"]],\"type\":\"surface\"}],\"table\":[{\"cells\":{\"fill\":{\"color\":\"#EBF0F8\"},\"line\":{\"color\":\"white\"}},\"header\":{\"fill\":{\"color\":\"#C8D4E3\"},\"line\":{\"color\":\"white\"}},\"type\":\"table\"}]},\"layout\":{\"annotationdefaults\":{\"arrowcolor\":\"#2a3f5f\",\"arrowhead\":0,\"arrowwidth\":1},\"autotypenumbers\":\"strict\",\"coloraxis\":{\"colorbar\":{\"outlinewidth\":0,\"ticks\":\"\"}},\"colorscale\":{\"diverging\":[[0,\"#8e0152\"],[0.1,\"#c51b7d\"],[0.2,\"#de77ae\"],[0.3,\"#f1b6da\"],[0.4,\"#fde0ef\"],[0.5,\"#f7f7f7\"],[0.6,\"#e6f5d0\"],[0.7,\"#b8e186\"],[0.8,\"#7fbc41\"],[0.9,\"#4d9221\"],[1,\"#276419\"]],\"sequential\":[[0.0,\"#0d0887\"],[0.1111111111111111,\"#46039f\"],[0.2222222222222222,\"#7201a8\"],[0.3333333333333333,\"#9c179e\"],[0.4444444444444444,\"#bd3786\"],[0.5555555555555556,\"#d8576b\"],[0.6666666666666666,\"#ed7953\"],[0.7777777777777778,\"#fb9f3a\"],[0.8888888888888888,\"#fdca26\"],[1.0,\"#f0f921\"]],\"sequentialminus\":[[0.0,\"#0d0887\"],[0.1111111111111111,\"#46039f\"],[0.2222222222222222,\"#7201a8\"],[0.3333333333333333,\"#9c179e\"],[0.4444444444444444,\"#bd3786\"],[0.5555555555555556,\"#d8576b\"],[0.6666666666666666,\"#ed7953\"],[0.7777777777777778,\"#fb9f3a\"],[0.8888888888888888,\"#fdca26\"],[1.0,\"#f0f921\"]]},\"colorway\":[\"#636efa\",\"#EF553B\",\"#00cc96\",\"#ab63fa\",\"#FFA15A\",\"#19d3f3\",\"#FF6692\",\"#B6E880\",\"#FF97FF\",\"#FECB52\"],\"font\":{\"color\":\"#2a3f5f\"},\"geo\":{\"bgcolor\":\"white\",\"lakecolor\":\"white\",\"landcolor\":\"#E5ECF6\",\"showlakes\":true,\"showland\":true,\"subunitcolor\":\"white\"},\"hoverlabel\":{\"align\":\"left\"},\"hovermode\":\"closest\",\"mapbox\":{\"style\":\"light\"},\"paper_bgcolor\":\"white\",\"plot_bgcolor\":\"#E5ECF6\",\"polar\":{\"angularaxis\":{\"gridcolor\":\"white\",\"linecolor\":\"white\",\"ticks\":\"\"},\"bgcolor\":\"#E5ECF6\",\"radialaxis\":{\"gridcolor\":\"white\",\"linecolor\":\"white\",\"ticks\":\"\"}},\"scene\":{\"xaxis\":{\"backgroundcolor\":\"#E5ECF6\",\"gridcolor\":\"white\",\"gridwidth\":2,\"linecolor\":\"white\",\"showbackground\":true,\"ticks\":\"\",\"zerolinecolor\":\"white\"},\"yaxis\":{\"backgroundcolor\":\"#E5ECF6\",\"gridcolor\":\"white\",\"gridwidth\":2,\"linecolor\":\"white\",\"showbackground\":true,\"ticks\":\"\",\"zerolinecolor\":\"white\"},\"zaxis\":{\"backgroundcolor\":\"#E5ECF6\",\"gridcolor\":\"white\",\"gridwidth\":2,\"linecolor\":\"white\",\"showbackground\":true,\"ticks\":\"\",\"zerolinecolor\":\"white\"}},\"shapedefaults\":{\"line\":{\"color\":\"#2a3f5f\"}},\"ternary\":{\"aaxis\":{\"gridcolor\":\"white\",\"linecolor\":\"white\",\"ticks\":\"\"},\"baxis\":{\"gridcolor\":\"white\",\"linecolor\":\"white\",\"ticks\":\"\"},\"bgcolor\":\"#E5ECF6\",\"caxis\":{\"gridcolor\":\"white\",\"linecolor\":\"white\",\"ticks\":\"\"}},\"title\":{\"x\":0.05},\"xaxis\":{\"automargin\":true,\"gridcolor\":\"white\",\"linecolor\":\"white\",\"ticks\":\"\",\"title\":{\"standoff\":15},\"zerolinecolor\":\"white\",\"zerolinewidth\":2},\"yaxis\":{\"automargin\":true,\"gridcolor\":\"white\",\"linecolor\":\"white\",\"ticks\":\"\",\"title\":{\"standoff\":15},\"zerolinecolor\":\"white\",\"zerolinewidth\":2}}},\"title\":{\"font\":{\"size\":19},\"text\":\"Top 30 makeup products\"},\"xaxis\":{\"anchor\":\"y\",\"domain\":[0.0,1.0],\"title\":{\"text\":\"Recommendations\"},\"type\":\"log\"},\"yaxis\":{\"anchor\":\"x\",\"domain\":[0.0,1.0],\"title\":{\"text\":\"Repurchases\"}}},                        {\"responsive\": true}                    ).then(function(){\n",
       "                            \n",
       "var gd = document.getElementById('c3aee93a-8397-4bbe-9d45-a4bf2286a355');\n",
       "var x = new MutationObserver(function (mutations, observer) {{\n",
       "        var display = window.getComputedStyle(gd).display;\n",
       "        if (!display || display === 'none') {{\n",
       "            console.log([gd, 'removed!']);\n",
       "            Plotly.purge(gd);\n",
       "            observer.disconnect();\n",
       "        }}\n",
       "}});\n",
       "\n",
       "// Listen for the removal of the full notebook cells\n",
       "var notebookContainer = gd.closest('#notebook-container');\n",
       "if (notebookContainer) {{\n",
       "    x.observe(notebookContainer, {childList: true});\n",
       "}}\n",
       "\n",
       "// Listen for the clearing of the current output cell\n",
       "var outputEl = gd.closest('.output');\n",
       "if (outputEl) {{\n",
       "    x.observe(outputEl, {childList: true});\n",
       "}}\n",
       "\n",
       "                        })                };                });            </script>        </div>"
      ]
     },
     "metadata": {},
     "output_type": "display_data"
    },
    {
     "name": "stdout",
     "output_type": "stream",
     "text": [
      "Correlation score (Repurchase and Recommendation) : 0.9902560596985487\n",
      "Correlation score (Repurchase and Price)          : -0.09853888003467201\n",
      "Correlation score (Price and Recommendation)      : -0.10077956584180929\n"
     ]
    }
   ],
   "source": [
    "import plotly.express as px\n",
    "mean = df.groupby('sub_category').mean().reset_index()\n",
    "fig = px.scatter(df.dropna().sort_values('number_of_recommendations').tail(30), y=\"repurchase_yes\", x=\"number_of_recommendations\",\n",
    "         size=\"price\", color='sub_category',color_discrete_sequence=['#46D6B3','#EC8374','#8A94F9'],hover_name='product_name',\n",
    "                  log_x=True, size_max=60)\n",
    "\n",
    "fig.update_layout(yaxis_title='Repurchases',\n",
    "                  xaxis_title='Recommendations',\n",
    "                  title='Top 30 makeup products',\n",
    "                  title_font_size = 19\n",
    "                 )\n",
    "fig.show()\n",
    "print('Correlation score (Repurchase and Recommendation) :',df.corr()['repurchase_yes']['number_of_recommendations'])\n",
    "print('Correlation score (Repurchase and Price)          :',df.corr()['repurchase_yes']['price'])\n",
    "print('Correlation score (Price and Recommendation)      :',df.corr()['price']['number_of_recommendations'])"
   ]
  },
  {
   "cell_type": "markdown",
   "id": "0c71d4e9-f7a8-4f6e-b277-725b76ce0587",
   "metadata": {},
   "source": [
    "Lips dominate the top 30 of makeup products. One reason may be that it has cheaper products. The graph above shows many of Lips in top 30 have a relatively cheaper ( It only works in Top 30 products, because the correlation score for a whole data between price and recommendation&repurchase is close to zero )"
   ]
  },
  {
   "cell_type": "markdown",
   "id": "f5b090e5-ffc1-43c4-b720-800ca3cab7a3",
   "metadata": {},
   "source": [
    "Furthermore, the graph above shows us a good sign. The higher recommendation on the product page, the more customer buy that product again. It is proven with the high positive  pearson correlation score of \"number of repurchases\" and \"number of recommendations\"\n",
    "- N.B. : Bigger circle means more expensive product"
   ]
  },
  {
   "cell_type": "code",
   "execution_count": 92,
   "id": "2b00b651-c51c-41fe-9301-1a794e1b4f2f",
   "metadata": {
    "tags": []
   },
   "outputs": [
    {
     "data": {
      "application/vnd.plotly.v1+json": {
       "config": {
        "plotlyServerURL": "https://plot.ly"
       },
       "data": [
        {
         "hovertemplate": "<b>%{hovertext}</b><br><br>sub_category=lips<br>number_of_recommendations=%{x}<br>repurchase_maybe=%{y}<br>price=%{marker.size}<extra></extra>",
         "hovertext": [
          "Exclusive Matte Lip Cream",
          "Intense Matte Lipstick",
          "Intense Matte Lip Cream",
          "Magic Potion",
          "Everyday Cheek and Lip Tint",
          "Perfect Matte Lip Coat",
          "Lip Coat",
          "Superstay Matte Ink",
          "Liquid Lipstik Matte Rouge Signature Make Up",
          "Lip Care",
          "Longlasting Lipstick",
          "Creamytint",
          "Colorfit Velvet Matte Lip Mousse",
          "Lip Cheek Eye Colour",
          "Superstay Matte Ink Un-Nude Liquid Lipstick"
         ],
         "legendgroup": "lips",
         "marker": {
          "color": "#EC8374",
          "size": [
           62000,
           48500,
           110000,
           46000,
           44000,
           109000,
           139000,
           125000,
           150000,
           23000,
           48500,
           44000,
           73000,
           45900,
           125000
          ],
          "sizemode": "area",
          "sizeref": 41.666666666666664,
          "symbol": "circle"
         },
         "mode": "markers",
         "name": "lips",
         "orientation": "v",
         "showlegend": true,
         "type": "scatter",
         "x": [
          13494,
          4445,
          7549,
          5660,
          4647,
          5097,
          4208,
          3756,
          3340,
          3232,
          1737,
          3306,
          3355,
          2076,
          2773
         ],
         "xaxis": "x",
         "y": [
          5000,
          1600,
          1500,
          1400,
          1300,
          1000,
          915,
          898,
          845,
          826,
          684,
          682,
          675,
          667,
          609
         ],
         "yaxis": "y"
        },
        {
         "hovertemplate": "<b>%{hovertext}</b><br><br>sub_category=face<br>number_of_recommendations=%{x}<br>repurchase_maybe=%{y}<br>price=%{marker.size}<extra></extra>",
         "hovertext": [
          "Cheeklit Pressed Blush",
          "Lightening BB Cream",
          "Lightening Two Way Cake Extra Cover 10 gr",
          "Bare With Me Mineral Cushion",
          "Silky Smooth Translucent Powder",
          "City Chic CC Cake",
          "Make It Glow Dewy Cushion",
          "Everyday Luminous Face Powder",
          "Everyday Luminous Liquid Foundation",
          "Bright Stuff Loose Powder"
         ],
         "legendgroup": "face",
         "marker": {
          "color": "#46D6B3",
          "size": [
           38000,
           32500,
           58000,
           126000,
           129000,
           52500,
           125000,
           42000,
           39000,
           22500
          ],
          "sizemode": "area",
          "sizeref": 41.666666666666664,
          "symbol": "circle"
         },
         "mode": "markers",
         "name": "face",
         "orientation": "v",
         "showlegend": true,
         "type": "scatter",
         "x": [
          8162,
          2676,
          2049,
          2251,
          2275,
          1487,
          2592,
          1331,
          1012,
          1669
         ],
         "xaxis": "x",
         "y": [
          1800,
          1100,
          750,
          730,
          544,
          526,
          526,
          474,
          466,
          432
         ],
         "yaxis": "y"
        },
        {
         "hovertemplate": "<b>%{hovertext}</b><br><br>sub_category=eyes<br>number_of_recommendations=%{x}<br>repurchase_maybe=%{y}<br>price=%{marker.size}<extra></extra>",
         "hovertext": [
          "Volum Express Hyper Curl Mascara",
          "EyeXpert Eyeshadow Nude",
          "Optimum Hi-Black Liner",
          "EyeXpert Aqua Lash Mascara",
          "EyeXpert Staylast Liquid Eyeliner"
         ],
         "legendgroup": "eyes",
         "marker": {
          "color": "#8A94F9",
          "size": [
           75000,
           47500,
           79000,
           49500,
           41000
          ],
          "sizemode": "area",
          "sizeref": 41.666666666666664,
          "symbol": "circle"
         },
         "mode": "markers",
         "name": "eyes",
         "orientation": "v",
         "showlegend": true,
         "type": "scatter",
         "x": [
          5744,
          2716,
          2019,
          1153,
          1125
         ],
         "xaxis": "x",
         "y": [
          1300,
          781,
          584,
          533,
          506
         ],
         "yaxis": "y"
        }
       ],
       "layout": {
        "autosize": true,
        "legend": {
         "itemsizing": "constant",
         "title": {
          "text": "sub_category"
         },
         "tracegroupgap": 0
        },
        "margin": {
         "t": 60
        },
        "template": {
         "data": {
          "bar": [
           {
            "error_x": {
             "color": "#2a3f5f"
            },
            "error_y": {
             "color": "#2a3f5f"
            },
            "marker": {
             "line": {
              "color": "#E5ECF6",
              "width": 0.5
             },
             "pattern": {
              "fillmode": "overlay",
              "size": 10,
              "solidity": 0.2
             }
            },
            "type": "bar"
           }
          ],
          "barpolar": [
           {
            "marker": {
             "line": {
              "color": "#E5ECF6",
              "width": 0.5
             },
             "pattern": {
              "fillmode": "overlay",
              "size": 10,
              "solidity": 0.2
             }
            },
            "type": "barpolar"
           }
          ],
          "carpet": [
           {
            "aaxis": {
             "endlinecolor": "#2a3f5f",
             "gridcolor": "white",
             "linecolor": "white",
             "minorgridcolor": "white",
             "startlinecolor": "#2a3f5f"
            },
            "baxis": {
             "endlinecolor": "#2a3f5f",
             "gridcolor": "white",
             "linecolor": "white",
             "minorgridcolor": "white",
             "startlinecolor": "#2a3f5f"
            },
            "type": "carpet"
           }
          ],
          "choropleth": [
           {
            "colorbar": {
             "outlinewidth": 0,
             "ticks": ""
            },
            "type": "choropleth"
           }
          ],
          "contour": [
           {
            "colorbar": {
             "outlinewidth": 0,
             "ticks": ""
            },
            "colorscale": [
             [
              0,
              "#0d0887"
             ],
             [
              0.1111111111111111,
              "#46039f"
             ],
             [
              0.2222222222222222,
              "#7201a8"
             ],
             [
              0.3333333333333333,
              "#9c179e"
             ],
             [
              0.4444444444444444,
              "#bd3786"
             ],
             [
              0.5555555555555556,
              "#d8576b"
             ],
             [
              0.6666666666666666,
              "#ed7953"
             ],
             [
              0.7777777777777778,
              "#fb9f3a"
             ],
             [
              0.8888888888888888,
              "#fdca26"
             ],
             [
              1,
              "#f0f921"
             ]
            ],
            "type": "contour"
           }
          ],
          "contourcarpet": [
           {
            "colorbar": {
             "outlinewidth": 0,
             "ticks": ""
            },
            "type": "contourcarpet"
           }
          ],
          "heatmap": [
           {
            "colorbar": {
             "outlinewidth": 0,
             "ticks": ""
            },
            "colorscale": [
             [
              0,
              "#0d0887"
             ],
             [
              0.1111111111111111,
              "#46039f"
             ],
             [
              0.2222222222222222,
              "#7201a8"
             ],
             [
              0.3333333333333333,
              "#9c179e"
             ],
             [
              0.4444444444444444,
              "#bd3786"
             ],
             [
              0.5555555555555556,
              "#d8576b"
             ],
             [
              0.6666666666666666,
              "#ed7953"
             ],
             [
              0.7777777777777778,
              "#fb9f3a"
             ],
             [
              0.8888888888888888,
              "#fdca26"
             ],
             [
              1,
              "#f0f921"
             ]
            ],
            "type": "heatmap"
           }
          ],
          "heatmapgl": [
           {
            "colorbar": {
             "outlinewidth": 0,
             "ticks": ""
            },
            "colorscale": [
             [
              0,
              "#0d0887"
             ],
             [
              0.1111111111111111,
              "#46039f"
             ],
             [
              0.2222222222222222,
              "#7201a8"
             ],
             [
              0.3333333333333333,
              "#9c179e"
             ],
             [
              0.4444444444444444,
              "#bd3786"
             ],
             [
              0.5555555555555556,
              "#d8576b"
             ],
             [
              0.6666666666666666,
              "#ed7953"
             ],
             [
              0.7777777777777778,
              "#fb9f3a"
             ],
             [
              0.8888888888888888,
              "#fdca26"
             ],
             [
              1,
              "#f0f921"
             ]
            ],
            "type": "heatmapgl"
           }
          ],
          "histogram": [
           {
            "marker": {
             "pattern": {
              "fillmode": "overlay",
              "size": 10,
              "solidity": 0.2
             }
            },
            "type": "histogram"
           }
          ],
          "histogram2d": [
           {
            "colorbar": {
             "outlinewidth": 0,
             "ticks": ""
            },
            "colorscale": [
             [
              0,
              "#0d0887"
             ],
             [
              0.1111111111111111,
              "#46039f"
             ],
             [
              0.2222222222222222,
              "#7201a8"
             ],
             [
              0.3333333333333333,
              "#9c179e"
             ],
             [
              0.4444444444444444,
              "#bd3786"
             ],
             [
              0.5555555555555556,
              "#d8576b"
             ],
             [
              0.6666666666666666,
              "#ed7953"
             ],
             [
              0.7777777777777778,
              "#fb9f3a"
             ],
             [
              0.8888888888888888,
              "#fdca26"
             ],
             [
              1,
              "#f0f921"
             ]
            ],
            "type": "histogram2d"
           }
          ],
          "histogram2dcontour": [
           {
            "colorbar": {
             "outlinewidth": 0,
             "ticks": ""
            },
            "colorscale": [
             [
              0,
              "#0d0887"
             ],
             [
              0.1111111111111111,
              "#46039f"
             ],
             [
              0.2222222222222222,
              "#7201a8"
             ],
             [
              0.3333333333333333,
              "#9c179e"
             ],
             [
              0.4444444444444444,
              "#bd3786"
             ],
             [
              0.5555555555555556,
              "#d8576b"
             ],
             [
              0.6666666666666666,
              "#ed7953"
             ],
             [
              0.7777777777777778,
              "#fb9f3a"
             ],
             [
              0.8888888888888888,
              "#fdca26"
             ],
             [
              1,
              "#f0f921"
             ]
            ],
            "type": "histogram2dcontour"
           }
          ],
          "mesh3d": [
           {
            "colorbar": {
             "outlinewidth": 0,
             "ticks": ""
            },
            "type": "mesh3d"
           }
          ],
          "parcoords": [
           {
            "line": {
             "colorbar": {
              "outlinewidth": 0,
              "ticks": ""
             }
            },
            "type": "parcoords"
           }
          ],
          "pie": [
           {
            "automargin": true,
            "type": "pie"
           }
          ],
          "scatter": [
           {
            "marker": {
             "colorbar": {
              "outlinewidth": 0,
              "ticks": ""
             }
            },
            "type": "scatter"
           }
          ],
          "scatter3d": [
           {
            "line": {
             "colorbar": {
              "outlinewidth": 0,
              "ticks": ""
             }
            },
            "marker": {
             "colorbar": {
              "outlinewidth": 0,
              "ticks": ""
             }
            },
            "type": "scatter3d"
           }
          ],
          "scattercarpet": [
           {
            "marker": {
             "colorbar": {
              "outlinewidth": 0,
              "ticks": ""
             }
            },
            "type": "scattercarpet"
           }
          ],
          "scattergeo": [
           {
            "marker": {
             "colorbar": {
              "outlinewidth": 0,
              "ticks": ""
             }
            },
            "type": "scattergeo"
           }
          ],
          "scattergl": [
           {
            "marker": {
             "colorbar": {
              "outlinewidth": 0,
              "ticks": ""
             }
            },
            "type": "scattergl"
           }
          ],
          "scattermapbox": [
           {
            "marker": {
             "colorbar": {
              "outlinewidth": 0,
              "ticks": ""
             }
            },
            "type": "scattermapbox"
           }
          ],
          "scatterpolar": [
           {
            "marker": {
             "colorbar": {
              "outlinewidth": 0,
              "ticks": ""
             }
            },
            "type": "scatterpolar"
           }
          ],
          "scatterpolargl": [
           {
            "marker": {
             "colorbar": {
              "outlinewidth": 0,
              "ticks": ""
             }
            },
            "type": "scatterpolargl"
           }
          ],
          "scatterternary": [
           {
            "marker": {
             "colorbar": {
              "outlinewidth": 0,
              "ticks": ""
             }
            },
            "type": "scatterternary"
           }
          ],
          "surface": [
           {
            "colorbar": {
             "outlinewidth": 0,
             "ticks": ""
            },
            "colorscale": [
             [
              0,
              "#0d0887"
             ],
             [
              0.1111111111111111,
              "#46039f"
             ],
             [
              0.2222222222222222,
              "#7201a8"
             ],
             [
              0.3333333333333333,
              "#9c179e"
             ],
             [
              0.4444444444444444,
              "#bd3786"
             ],
             [
              0.5555555555555556,
              "#d8576b"
             ],
             [
              0.6666666666666666,
              "#ed7953"
             ],
             [
              0.7777777777777778,
              "#fb9f3a"
             ],
             [
              0.8888888888888888,
              "#fdca26"
             ],
             [
              1,
              "#f0f921"
             ]
            ],
            "type": "surface"
           }
          ],
          "table": [
           {
            "cells": {
             "fill": {
              "color": "#EBF0F8"
             },
             "line": {
              "color": "white"
             }
            },
            "header": {
             "fill": {
              "color": "#C8D4E3"
             },
             "line": {
              "color": "white"
             }
            },
            "type": "table"
           }
          ]
         },
         "layout": {
          "annotationdefaults": {
           "arrowcolor": "#2a3f5f",
           "arrowhead": 0,
           "arrowwidth": 1
          },
          "autotypenumbers": "strict",
          "coloraxis": {
           "colorbar": {
            "outlinewidth": 0,
            "ticks": ""
           }
          },
          "colorscale": {
           "diverging": [
            [
             0,
             "#8e0152"
            ],
            [
             0.1,
             "#c51b7d"
            ],
            [
             0.2,
             "#de77ae"
            ],
            [
             0.3,
             "#f1b6da"
            ],
            [
             0.4,
             "#fde0ef"
            ],
            [
             0.5,
             "#f7f7f7"
            ],
            [
             0.6,
             "#e6f5d0"
            ],
            [
             0.7,
             "#b8e186"
            ],
            [
             0.8,
             "#7fbc41"
            ],
            [
             0.9,
             "#4d9221"
            ],
            [
             1,
             "#276419"
            ]
           ],
           "sequential": [
            [
             0,
             "#0d0887"
            ],
            [
             0.1111111111111111,
             "#46039f"
            ],
            [
             0.2222222222222222,
             "#7201a8"
            ],
            [
             0.3333333333333333,
             "#9c179e"
            ],
            [
             0.4444444444444444,
             "#bd3786"
            ],
            [
             0.5555555555555556,
             "#d8576b"
            ],
            [
             0.6666666666666666,
             "#ed7953"
            ],
            [
             0.7777777777777778,
             "#fb9f3a"
            ],
            [
             0.8888888888888888,
             "#fdca26"
            ],
            [
             1,
             "#f0f921"
            ]
           ],
           "sequentialminus": [
            [
             0,
             "#0d0887"
            ],
            [
             0.1111111111111111,
             "#46039f"
            ],
            [
             0.2222222222222222,
             "#7201a8"
            ],
            [
             0.3333333333333333,
             "#9c179e"
            ],
            [
             0.4444444444444444,
             "#bd3786"
            ],
            [
             0.5555555555555556,
             "#d8576b"
            ],
            [
             0.6666666666666666,
             "#ed7953"
            ],
            [
             0.7777777777777778,
             "#fb9f3a"
            ],
            [
             0.8888888888888888,
             "#fdca26"
            ],
            [
             1,
             "#f0f921"
            ]
           ]
          },
          "colorway": [
           "#636efa",
           "#EF553B",
           "#00cc96",
           "#ab63fa",
           "#FFA15A",
           "#19d3f3",
           "#FF6692",
           "#B6E880",
           "#FF97FF",
           "#FECB52"
          ],
          "font": {
           "color": "#2a3f5f"
          },
          "geo": {
           "bgcolor": "white",
           "lakecolor": "white",
           "landcolor": "#E5ECF6",
           "showlakes": true,
           "showland": true,
           "subunitcolor": "white"
          },
          "hoverlabel": {
           "align": "left"
          },
          "hovermode": "closest",
          "mapbox": {
           "style": "light"
          },
          "paper_bgcolor": "white",
          "plot_bgcolor": "#E5ECF6",
          "polar": {
           "angularaxis": {
            "gridcolor": "white",
            "linecolor": "white",
            "ticks": ""
           },
           "bgcolor": "#E5ECF6",
           "radialaxis": {
            "gridcolor": "white",
            "linecolor": "white",
            "ticks": ""
           }
          },
          "scene": {
           "xaxis": {
            "backgroundcolor": "#E5ECF6",
            "gridcolor": "white",
            "gridwidth": 2,
            "linecolor": "white",
            "showbackground": true,
            "ticks": "",
            "zerolinecolor": "white"
           },
           "yaxis": {
            "backgroundcolor": "#E5ECF6",
            "gridcolor": "white",
            "gridwidth": 2,
            "linecolor": "white",
            "showbackground": true,
            "ticks": "",
            "zerolinecolor": "white"
           },
           "zaxis": {
            "backgroundcolor": "#E5ECF6",
            "gridcolor": "white",
            "gridwidth": 2,
            "linecolor": "white",
            "showbackground": true,
            "ticks": "",
            "zerolinecolor": "white"
           }
          },
          "shapedefaults": {
           "line": {
            "color": "#2a3f5f"
           }
          },
          "ternary": {
           "aaxis": {
            "gridcolor": "white",
            "linecolor": "white",
            "ticks": ""
           },
           "baxis": {
            "gridcolor": "white",
            "linecolor": "white",
            "ticks": ""
           },
           "bgcolor": "#E5ECF6",
           "caxis": {
            "gridcolor": "white",
            "linecolor": "white",
            "ticks": ""
           }
          },
          "title": {
           "x": 0.05
          },
          "xaxis": {
           "automargin": true,
           "gridcolor": "white",
           "linecolor": "white",
           "ticks": "",
           "title": {
            "standoff": 15
           },
           "zerolinecolor": "white",
           "zerolinewidth": 2
          },
          "yaxis": {
           "automargin": true,
           "gridcolor": "white",
           "linecolor": "white",
           "ticks": "",
           "title": {
            "standoff": 15
           },
           "zerolinecolor": "white",
           "zerolinewidth": 2
          }
         }
        },
        "title": {
         "font": {
          "size": 19
         },
         "text": "Top 30 products that customers say \"No\" to repurchase"
        },
        "xaxis": {
         "anchor": "y",
         "autorange": true,
         "domain": [
          0,
          1
         ],
         "range": [
          2.910032257401575,
          4.232855471471281
         ],
         "title": {
          "text": "Recommendations"
         },
         "type": "log"
        },
        "yaxis": {
         "anchor": "x",
         "autorange": true,
         "domain": [
          0,
          1
         ],
         "range": [
          -1439.7949814225394,
          6497.024994916461
         ],
         "title": {
          "text": "No repurchase"
         },
         "type": "linear"
        }
       }
      },
      "image/png": "[encoded data removed]",
      "text/html": [
       "<div>                            <div id=\"a9f5347e-c19e-43b1-8eac-0f39e33efe5c\" class=\"plotly-graph-div\" style=\"height:525px; width:100%;\"></div>            <script type=\"text/javascript\">                require([\"plotly\"], function(Plotly) {                    window.PLOTLYENV=window.PLOTLYENV || {};                                    if (document.getElementById(\"a9f5347e-c19e-43b1-8eac-0f39e33efe5c\")) {                    Plotly.newPlot(                        \"a9f5347e-c19e-43b1-8eac-0f39e33efe5c\",                        [{\"hovertemplate\":\"<b>%{hovertext}</b><br><br>sub_category=lips<br>number_of_recommendations=%{x}<br>repurchase_maybe=%{y}<br>price=%{marker.size}<extra></extra>\",\"hovertext\":[\"Exclusive Matte Lip Cream\",\"Intense Matte Lipstick\",\"Intense Matte Lip Cream\",\"Magic Potion\",\"Everyday Cheek and Lip Tint\",\"Perfect Matte Lip Coat\",\"Lip Coat\",\"Superstay Matte Ink\",\"Liquid Lipstik Matte Rouge Signature Make Up\",\"Lip Care\",\"Longlasting Lipstick\",\"Creamytint\",\"Colorfit Velvet Matte Lip Mousse\",\"Lip Cheek Eye Colour\",\"Superstay Matte Ink Un-Nude Liquid Lipstick\"],\"legendgroup\":\"lips\",\"marker\":{\"color\":\"#EC8374\",\"size\":[62000.0,48500.0,110000.0,46000.0,44000.0,109000.0,139000.0,125000.0,150000.0,23000.0,48500.0,44000.0,73000.0,45900.0,125000.0],\"sizemode\":\"area\",\"sizeref\":41.666666666666664,\"symbol\":\"circle\"},\"mode\":\"markers\",\"name\":\"lips\",\"orientation\":\"v\",\"showlegend\":true,\"type\":\"scatter\",\"x\":[13494.0,4445.0,7549.0,5660.0,4647.0,5097.0,4208.0,3756.0,3340.0,3232.0,1737.0,3306.0,3355.0,2076.0,2773.0],\"xaxis\":\"x\",\"y\":[5000.0,1600.0,1500.0,1400.0,1300.0,1000.0,915.0,898.0,845.0,826.0,684.0,682.0,675.0,667.0,609.0],\"yaxis\":\"y\"},{\"hovertemplate\":\"<b>%{hovertext}</b><br><br>sub_category=face<br>number_of_recommendations=%{x}<br>repurchase_maybe=%{y}<br>price=%{marker.size}<extra></extra>\",\"hovertext\":[\"Cheeklit Pressed Blush\",\"Lightening BB Cream\",\"Lightening Two Way Cake Extra Cover 10 gr\",\"Bare With Me Mineral Cushion\",\"Silky Smooth Translucent Powder\",\"City Chic CC Cake\",\"Make It Glow Dewy Cushion\",\"Everyday Luminous Face Powder\",\"Everyday Luminous Liquid Foundation\",\"Bright Stuff Loose Powder\"],\"legendgroup\":\"face\",\"marker\":{\"color\":\"#46D6B3\",\"size\":[38000.0,32500.0,58000.0,126000.0,129000.0,52500.0,125000.0,42000.0,39000.0,22500.0],\"sizemode\":\"area\",\"sizeref\":41.666666666666664,\"symbol\":\"circle\"},\"mode\":\"markers\",\"name\":\"face\",\"orientation\":\"v\",\"showlegend\":true,\"type\":\"scatter\",\"x\":[8162.0,2676.0,2049.0,2251.0,2275.0,1487.0,2592.0,1331.0,1012.0,1669.0],\"xaxis\":\"x\",\"y\":[1800.0,1100.0,750.0,730.0,544.0,526.0,526.0,474.0,466.0,432.0],\"yaxis\":\"y\"},{\"hovertemplate\":\"<b>%{hovertext}</b><br><br>sub_category=eyes<br>number_of_recommendations=%{x}<br>repurchase_maybe=%{y}<br>price=%{marker.size}<extra></extra>\",\"hovertext\":[\"Volum Express Hyper Curl Mascara\",\"EyeXpert Eyeshadow Nude\",\"Optimum Hi-Black Liner\",\"EyeXpert Aqua Lash Mascara\",\"EyeXpert Staylast Liquid Eyeliner\"],\"legendgroup\":\"eyes\",\"marker\":{\"color\":\"#8A94F9\",\"size\":[75000.0,47500.0,79000.0,49500.0,41000.0],\"sizemode\":\"area\",\"sizeref\":41.666666666666664,\"symbol\":\"circle\"},\"mode\":\"markers\",\"name\":\"eyes\",\"orientation\":\"v\",\"showlegend\":true,\"type\":\"scatter\",\"x\":[5744.0,2716.0,2019.0,1153.0,1125.0],\"xaxis\":\"x\",\"y\":[1300.0,781.0,584.0,533.0,506.0],\"yaxis\":\"y\"}],                        {\"legend\":{\"itemsizing\":\"constant\",\"title\":{\"text\":\"sub_category\"},\"tracegroupgap\":0},\"margin\":{\"t\":60},\"template\":{\"data\":{\"bar\":[{\"error_x\":{\"color\":\"#2a3f5f\"},\"error_y\":{\"color\":\"#2a3f5f\"},\"marker\":{\"line\":{\"color\":\"#E5ECF6\",\"width\":0.5},\"pattern\":{\"fillmode\":\"overlay\",\"size\":10,\"solidity\":0.2}},\"type\":\"bar\"}],\"barpolar\":[{\"marker\":{\"line\":{\"color\":\"#E5ECF6\",\"width\":0.5},\"pattern\":{\"fillmode\":\"overlay\",\"size\":10,\"solidity\":0.2}},\"type\":\"barpolar\"}],\"carpet\":[{\"aaxis\":{\"endlinecolor\":\"#2a3f5f\",\"gridcolor\":\"white\",\"linecolor\":\"white\",\"minorgridcolor\":\"white\",\"startlinecolor\":\"#2a3f5f\"},\"baxis\":{\"endlinecolor\":\"#2a3f5f\",\"gridcolor\":\"white\",\"linecolor\":\"white\",\"minorgridcolor\":\"white\",\"startlinecolor\":\"#2a3f5f\"},\"type\":\"carpet\"}],\"choropleth\":[{\"colorbar\":{\"outlinewidth\":0,\"ticks\":\"\"},\"type\":\"choropleth\"}],\"contour\":[{\"colorbar\":{\"outlinewidth\":0,\"ticks\":\"\"},\"colorscale\":[[0.0,\"#0d0887\"],[0.1111111111111111,\"#46039f\"],[0.2222222222222222,\"#7201a8\"],[0.3333333333333333,\"#9c179e\"],[0.4444444444444444,\"#bd3786\"],[0.5555555555555556,\"#d8576b\"],[0.6666666666666666,\"#ed7953\"],[0.7777777777777778,\"#fb9f3a\"],[0.8888888888888888,\"#fdca26\"],[1.0,\"#f0f921\"]],\"type\":\"contour\"}],\"contourcarpet\":[{\"colorbar\":{\"outlinewidth\":0,\"ticks\":\"\"},\"type\":\"contourcarpet\"}],\"heatmap\":[{\"colorbar\":{\"outlinewidth\":0,\"ticks\":\"\"},\"colorscale\":[[0.0,\"#0d0887\"],[0.1111111111111111,\"#46039f\"],[0.2222222222222222,\"#7201a8\"],[0.3333333333333333,\"#9c179e\"],[0.4444444444444444,\"#bd3786\"],[0.5555555555555556,\"#d8576b\"],[0.6666666666666666,\"#ed7953\"],[0.7777777777777778,\"#fb9f3a\"],[0.8888888888888888,\"#fdca26\"],[1.0,\"#f0f921\"]],\"type\":\"heatmap\"}],\"heatmapgl\":[{\"colorbar\":{\"outlinewidth\":0,\"ticks\":\"\"},\"colorscale\":[[0.0,\"#0d0887\"],[0.1111111111111111,\"#46039f\"],[0.2222222222222222,\"#7201a8\"],[0.3333333333333333,\"#9c179e\"],[0.4444444444444444,\"#bd3786\"],[0.5555555555555556,\"#d8576b\"],[0.6666666666666666,\"#ed7953\"],[0.7777777777777778,\"#fb9f3a\"],[0.8888888888888888,\"#fdca26\"],[1.0,\"#f0f921\"]],\"type\":\"heatmapgl\"}],\"histogram\":[{\"marker\":{\"pattern\":{\"fillmode\":\"overlay\",\"size\":10,\"solidity\":0.2}},\"type\":\"histogram\"}],\"histogram2d\":[{\"colorbar\":{\"outlinewidth\":0,\"ticks\":\"\"},\"colorscale\":[[0.0,\"#0d0887\"],[0.1111111111111111,\"#46039f\"],[0.2222222222222222,\"#7201a8\"],[0.3333333333333333,\"#9c179e\"],[0.4444444444444444,\"#bd3786\"],[0.5555555555555556,\"#d8576b\"],[0.6666666666666666,\"#ed7953\"],[0.7777777777777778,\"#fb9f3a\"],[0.8888888888888888,\"#fdca26\"],[1.0,\"#f0f921\"]],\"type\":\"histogram2d\"}],\"histogram2dcontour\":[{\"colorbar\":{\"outlinewidth\":0,\"ticks\":\"\"},\"colorscale\":[[0.0,\"#0d0887\"],[0.1111111111111111,\"#46039f\"],[0.2222222222222222,\"#7201a8\"],[0.3333333333333333,\"#9c179e\"],[0.4444444444444444,\"#bd3786\"],[0.5555555555555556,\"#d8576b\"],[0.6666666666666666,\"#ed7953\"],[0.7777777777777778,\"#fb9f3a\"],[0.8888888888888888,\"#fdca26\"],[1.0,\"#f0f921\"]],\"type\":\"histogram2dcontour\"}],\"mesh3d\":[{\"colorbar\":{\"outlinewidth\":0,\"ticks\":\"\"},\"type\":\"mesh3d\"}],\"parcoords\":[{\"line\":{\"colorbar\":{\"outlinewidth\":0,\"ticks\":\"\"}},\"type\":\"parcoords\"}],\"pie\":[{\"automargin\":true,\"type\":\"pie\"}],\"scatter\":[{\"marker\":{\"colorbar\":{\"outlinewidth\":0,\"ticks\":\"\"}},\"type\":\"scatter\"}],\"scatter3d\":[{\"line\":{\"colorbar\":{\"outlinewidth\":0,\"ticks\":\"\"}},\"marker\":{\"colorbar\":{\"outlinewidth\":0,\"ticks\":\"\"}},\"type\":\"scatter3d\"}],\"scattercarpet\":[{\"marker\":{\"colorbar\":{\"outlinewidth\":0,\"ticks\":\"\"}},\"type\":\"scattercarpet\"}],\"scattergeo\":[{\"marker\":{\"colorbar\":{\"outlinewidth\":0,\"ticks\":\"\"}},\"type\":\"scattergeo\"}],\"scattergl\":[{\"marker\":{\"colorbar\":{\"outlinewidth\":0,\"ticks\":\"\"}},\"type\":\"scattergl\"}],\"scattermapbox\":[{\"marker\":{\"colorbar\":{\"outlinewidth\":0,\"ticks\":\"\"}},\"type\":\"scattermapbox\"}],\"scatterpolar\":[{\"marker\":{\"colorbar\":{\"outlinewidth\":0,\"ticks\":\"\"}},\"type\":\"scatterpolar\"}],\"scatterpolargl\":[{\"marker\":{\"colorbar\":{\"outlinewidth\":0,\"ticks\":\"\"}},\"type\":\"scatterpolargl\"}],\"scatterternary\":[{\"marker\":{\"colorbar\":{\"outlinewidth\":0,\"ticks\":\"\"}},\"type\":\"scatterternary\"}],\"surface\":[{\"colorbar\":{\"outlinewidth\":0,\"ticks\":\"\"},\"colorscale\":[[0.0,\"#0d0887\"],[0.1111111111111111,\"#46039f\"],[0.2222222222222222,\"#7201a8\"],[0.3333333333333333,\"#9c179e\"],[0.4444444444444444,\"#bd3786\"],[0.5555555555555556,\"#d8576b\"],[0.6666666666666666,\"#ed7953\"],[0.7777777777777778,\"#fb9f3a\"],[0.8888888888888888,\"#fdca26\"],[1.0,\"#f0f921\"]],\"type\":\"surface\"}],\"table\":[{\"cells\":{\"fill\":{\"color\":\"#EBF0F8\"},\"line\":{\"color\":\"white\"}},\"header\":{\"fill\":{\"color\":\"#C8D4E3\"},\"line\":{\"color\":\"white\"}},\"type\":\"table\"}]},\"layout\":{\"annotationdefaults\":{\"arrowcolor\":\"#2a3f5f\",\"arrowhead\":0,\"arrowwidth\":1},\"autotypenumbers\":\"strict\",\"coloraxis\":{\"colorbar\":{\"outlinewidth\":0,\"ticks\":\"\"}},\"colorscale\":{\"diverging\":[[0,\"#8e0152\"],[0.1,\"#c51b7d\"],[0.2,\"#de77ae\"],[0.3,\"#f1b6da\"],[0.4,\"#fde0ef\"],[0.5,\"#f7f7f7\"],[0.6,\"#e6f5d0\"],[0.7,\"#b8e186\"],[0.8,\"#7fbc41\"],[0.9,\"#4d9221\"],[1,\"#276419\"]],\"sequential\":[[0.0,\"#0d0887\"],[0.1111111111111111,\"#46039f\"],[0.2222222222222222,\"#7201a8\"],[0.3333333333333333,\"#9c179e\"],[0.4444444444444444,\"#bd3786\"],[0.5555555555555556,\"#d8576b\"],[0.6666666666666666,\"#ed7953\"],[0.7777777777777778,\"#fb9f3a\"],[0.8888888888888888,\"#fdca26\"],[1.0,\"#f0f921\"]],\"sequentialminus\":[[0.0,\"#0d0887\"],[0.1111111111111111,\"#46039f\"],[0.2222222222222222,\"#7201a8\"],[0.3333333333333333,\"#9c179e\"],[0.4444444444444444,\"#bd3786\"],[0.5555555555555556,\"#d8576b\"],[0.6666666666666666,\"#ed7953\"],[0.7777777777777778,\"#fb9f3a\"],[0.8888888888888888,\"#fdca26\"],[1.0,\"#f0f921\"]]},\"colorway\":[\"#636efa\",\"#EF553B\",\"#00cc96\",\"#ab63fa\",\"#FFA15A\",\"#19d3f3\",\"#FF6692\",\"#B6E880\",\"#FF97FF\",\"#FECB52\"],\"font\":{\"color\":\"#2a3f5f\"},\"geo\":{\"bgcolor\":\"white\",\"lakecolor\":\"white\",\"landcolor\":\"#E5ECF6\",\"showlakes\":true,\"showland\":true,\"subunitcolor\":\"white\"},\"hoverlabel\":{\"align\":\"left\"},\"hovermode\":\"closest\",\"mapbox\":{\"style\":\"light\"},\"paper_bgcolor\":\"white\",\"plot_bgcolor\":\"#E5ECF6\",\"polar\":{\"angularaxis\":{\"gridcolor\":\"white\",\"linecolor\":\"white\",\"ticks\":\"\"},\"bgcolor\":\"#E5ECF6\",\"radialaxis\":{\"gridcolor\":\"white\",\"linecolor\":\"white\",\"ticks\":\"\"}},\"scene\":{\"xaxis\":{\"backgroundcolor\":\"#E5ECF6\",\"gridcolor\":\"white\",\"gridwidth\":2,\"linecolor\":\"white\",\"showbackground\":true,\"ticks\":\"\",\"zerolinecolor\":\"white\"},\"yaxis\":{\"backgroundcolor\":\"#E5ECF6\",\"gridcolor\":\"white\",\"gridwidth\":2,\"linecolor\":\"white\",\"showbackground\":true,\"ticks\":\"\",\"zerolinecolor\":\"white\"},\"zaxis\":{\"backgroundcolor\":\"#E5ECF6\",\"gridcolor\":\"white\",\"gridwidth\":2,\"linecolor\":\"white\",\"showbackground\":true,\"ticks\":\"\",\"zerolinecolor\":\"white\"}},\"shapedefaults\":{\"line\":{\"color\":\"#2a3f5f\"}},\"ternary\":{\"aaxis\":{\"gridcolor\":\"white\",\"linecolor\":\"white\",\"ticks\":\"\"},\"baxis\":{\"gridcolor\":\"white\",\"linecolor\":\"white\",\"ticks\":\"\"},\"bgcolor\":\"#E5ECF6\",\"caxis\":{\"gridcolor\":\"white\",\"linecolor\":\"white\",\"ticks\":\"\"}},\"title\":{\"x\":0.05},\"xaxis\":{\"automargin\":true,\"gridcolor\":\"white\",\"linecolor\":\"white\",\"ticks\":\"\",\"title\":{\"standoff\":15},\"zerolinecolor\":\"white\",\"zerolinewidth\":2},\"yaxis\":{\"automargin\":true,\"gridcolor\":\"white\",\"linecolor\":\"white\",\"ticks\":\"\",\"title\":{\"standoff\":15},\"zerolinecolor\":\"white\",\"zerolinewidth\":2}}},\"title\":{\"font\":{\"size\":19},\"text\":\"Top 30 products that customers say \\\"No\\\" to repurchase\"},\"xaxis\":{\"anchor\":\"y\",\"domain\":[0.0,1.0],\"title\":{\"text\":\"Recommendations\"},\"type\":\"log\"},\"yaxis\":{\"anchor\":\"x\",\"domain\":[0.0,1.0],\"title\":{\"text\":\"No repurchase\"}}},                        {\"responsive\": true}                    ).then(function(){\n",
       "                            \n",
       "var gd = document.getElementById('a9f5347e-c19e-43b1-8eac-0f39e33efe5c');\n",
       "var x = new MutationObserver(function (mutations, observer) {{\n",
       "        var display = window.getComputedStyle(gd).display;\n",
       "        if (!display || display === 'none') {{\n",
       "            console.log([gd, 'removed!']);\n",
       "            Plotly.purge(gd);\n",
       "            observer.disconnect();\n",
       "        }}\n",
       "}});\n",
       "\n",
       "// Listen for the removal of the full notebook cells\n",
       "var notebookContainer = gd.closest('#notebook-container');\n",
       "if (notebookContainer) {{\n",
       "    x.observe(notebookContainer, {childList: true});\n",
       "}}\n",
       "\n",
       "// Listen for the clearing of the current output cell\n",
       "var outputEl = gd.closest('.output');\n",
       "if (outputEl) {{\n",
       "    x.observe(outputEl, {childList: true});\n",
       "}}\n",
       "\n",
       "                        })                };                });            </script>        </div>"
      ]
     },
     "metadata": {},
     "output_type": "display_data"
    },
    {
     "name": "stdout",
     "output_type": "stream",
     "text": [
      "Correlation score (No repurchase and Recommendation) : 0.9382629044052087\n",
      "Correlation score (No repurchase and Price)          : -0.10686695854226944\n"
     ]
    }
   ],
   "source": [
    "import plotly.express as px\n",
    "df1 = df.copy()\n",
    "df1['no_repurchase'] = df1.repurchase_no+df1.repurchase_maybe\n",
    "fig = px.scatter(df1.dropna().sort_values('repurchase_maybe',ascending=False).head(30), y=\"repurchase_maybe\", x=\"number_of_recommendations\",\n",
    "         size=\"price\", color='sub_category',color_discrete_sequence=['#EC8374','#46D6B3','#8A94F9'],hover_name='product_name',\n",
    "                  log_x=True, size_max=60)\n",
    "\n",
    "fig.update_layout(yaxis_title='No repurchase',\n",
    "                  xaxis_title='Recommendations',\n",
    "                  title='Top 30 products that customers say \"No\" to repurchase',\n",
    "                  title_font_size = 19\n",
    "                 )\n",
    "fig.show()\n",
    "print('Correlation score (No repurchase and Recommendation) :',df1.corr()['no_repurchase']['number_of_recommendations'])\n",
    "print('Correlation score (No repurchase and Price)          :',df1.corr()['no_repurchase']['price'])"
   ]
  },
  {
   "cell_type": "markdown",
   "id": "db530647-6a63-4087-836d-6c918c706921",
   "metadata": {
    "tags": []
   },
   "source": [
    "The distribution is so diverse and no pattern in the graph above. \"Exclusive Matte Lip Cream\" is the most either for repurchase or no repurchase since the number of purchases for this product is a lot.\n",
    "- However, the correlation score between no repurchase and recommendation is so high. Let's check it with scatterplot"
   ]
  },
  {
   "cell_type": "code",
   "execution_count": 93,
   "id": "91719bae-e0b4-4d57-83d7-32907acff0e7",
   "metadata": {
    "tags": []
   },
   "outputs": [
    {
     "data": {
      "image/png": "[encoded data removed]",
      "text/plain": [
       "<Figure size 1296x360 with 1 Axes>"
      ]
     },
     "metadata": {
      "needs_background": "light"
     },
     "output_type": "display_data"
    }
   ],
   "source": [
    "plt.figure(figsize=(18,5))\n",
    "sns.scatterplot('number_of_recommendations','no_repurchase',data=df1,hue='sub_category',palette=['#8A94F9','#46D6B3','#EC8374'])\n",
    "plt.title('No Repurchase and Recommendation distribution', size=17)\n",
    "plt.ylabel('No Repurchase',size=13)\n",
    "plt.xlabel('Recommendations',size=13)\n",
    "plt.show()"
   ]
  },
  {
   "cell_type": "markdown",
   "id": "b8394b9a-c2cf-492a-96f5-c6bdfece5e3b",
   "metadata": {},
   "source": [
    "Yeah, that's right!  "
   ]
  },
  {
   "cell_type": "markdown",
   "id": "d4373b7a-c383-4767-98fa-59c056977d01",
   "metadata": {},
   "source": [
    "Let's take a look into stacked bar chart sorted by number of recommendations"
   ]
  },
  {
   "cell_type": "code",
   "execution_count": 94,
   "id": "39d0677a-80da-4cdd-8434-c5707da8d6fc",
   "metadata": {},
   "outputs": [
    {
     "data": {
      "image/png": "[encoded data removed]",
      "text/plain": [
       "<Figure size 1224x360 with 1 Axes>"
      ]
     },
     "metadata": {
      "needs_background": "light"
     },
     "output_type": "display_data"
    }
   ],
   "source": [
    "plt.figure(figsize=(17,5))\n",
    "sns.barplot('product_name','number_of_recommendations',data=df.sort_values('number_of_recommendations',ascending=False).head(10),color=palette[0],label='Recommendation')\n",
    "sns.barplot('product_name','repurchase_yes',data=df.sort_values('number_of_recommendations',ascending=False).head(10),color=palette[4],label='Repurchase')\n",
    "plt.xticks(labels=df.sort_values('number_of_recommendations',ascending=False).head(10).product_name,ticks=range(10),rotation=52)\n",
    "plt.xlabel('')\n",
    "plt.ylabel('')\n",
    "plt.legend()\n",
    "plt.show()"
   ]
  },
  {
   "cell_type": "markdown",
   "id": "5a645389-b272-4f40-af78-6bda25eb1564",
   "metadata": {},
   "source": [
    "Voila! Only the \"Exclusive Matte Lip Cream\" has a huge difference between number of recommendations and repurchases. However, \"she\" is the product with highest number of purchases"
   ]
  },
  {
   "cell_type": "code",
   "execution_count": 95,
   "id": "5c82d17a-e775-412d-83aa-fa24c47418b8",
   "metadata": {},
   "outputs": [
    {
     "data": {
      "image/png": "[encoded data removed]",
      "text/plain": [
       "<Figure size 1080x360 with 1 Axes>"
      ]
     },
     "metadata": {
      "needs_background": "light"
     },
     "output_type": "display_data"
    },
    {
     "name": "stdout",
     "output_type": "stream",
     "text": [
      "\n",
      "Pearson Correlation score: 0.9902560596985487\n"
     ]
    }
   ],
   "source": [
    "sns.scatterplot(df.number_of_recommendations, df.repurchase_yes,color=palette[0])\n",
    "plt.title('Relation between number of recommendations and number of purchases\\n',size=15,fontweight=600)\n",
    "plt.ylabel('Number of Repurchases')\n",
    "plt.xlabel('Number of Recommendations')\n",
    "plt.show()\n",
    "print('\\nPearson Correlation score:',df.corr()['number_of_recommendations']['repurchase_yes'])"
   ]
  },
  {
   "cell_type": "markdown",
   "id": "f21a4a3e-b924-437e-ac01-811dc84433e4",
   "metadata": {
    "tags": []
   },
   "source": [
    "Voila! They have a marvelous relationship. The graph shows us with a positive slope. The more recommendations, more people will buy it."
   ]
  },
  {
   "cell_type": "markdown",
   "id": "19267d51-31db-47f3-9c8d-dfa6de18ff66",
   "metadata": {
    "tags": []
   },
   "source": [
    " Quantitatively, with Pearson correlation score, it also has a high score"
   ]
  },
  {
   "cell_type": "markdown",
   "id": "86a35131-8b53-4241-b69d-99a8b668aeb7",
   "metadata": {
    "tags": []
   },
   "source": [
    "# Are the price and purchase related ?\n",
    "- I will use the \"number of reviews\" to represent the number of purchases since there is no information about how many products have been sold on the page "
   ]
  },
  {
   "cell_type": "code",
   "execution_count": 96,
   "id": "36d7c938-5306-407e-9229-e43bd8310bd8",
   "metadata": {},
   "outputs": [
    {
     "data": {
      "image/png": "[encoded data removed]",
      "text/plain": [
       "<Figure size 1080x360 with 1 Axes>"
      ]
     },
     "metadata": {
      "needs_background": "light"
     },
     "output_type": "display_data"
    }
   ],
   "source": [
    "sns.scatterplot(df.price, df.number_of_reviews,color=palette[4])\n",
    "plt.title('Relation between number of purchases and the price',size=15,fontweight=550)\n",
    "plt.ylabel('Number of Purchases')\n",
    "plt.show()"
   ]
  },
  {
   "cell_type": "markdown",
   "id": "99aa89ed-f19c-4681-ad6e-1aefe8b90cc0",
   "metadata": {},
   "source": [
    "Let's drop \"top 3\" in price and review columns to see more clearly"
   ]
  },
  {
   "cell_type": "code",
   "execution_count": 97,
   "id": "b44c703d-a8d1-4245-92c0-572706abe0af",
   "metadata": {},
   "outputs": [
    {
     "data": {
      "image/png": "[encoded data removed]",
      "text/plain": [
       "<Figure size 1080x360 with 1 Axes>"
      ]
     },
     "metadata": {
      "needs_background": "light"
     },
     "output_type": "display_data"
    },
    {
     "name": "stdout",
     "output_type": "stream",
     "text": [
      "Pearson Correlation score: -0.1027396738816059\n"
     ]
    }
   ],
   "source": [
    "sns.scatterplot('price', 'number_of_reviews',data=df[(df.price<0.76e6)&(df.number_of_reviews<7000)],color=palette[4])\n",
    "plt.ylabel('Number of Purchases')\n",
    "plt.show()\n",
    "print('Pearson Correlation score:',df.corr()['price']['number_of_reviews'])"
   ]
  },
  {
   "cell_type": "markdown",
   "id": "688e5cdf-0791-4c9e-b445-efa9908796d6",
   "metadata": {},
   "source": [
    "Still have no correlation between them and it is proven quantitatively with a low pearson correlatin score"
   ]
  },
  {
   "cell_type": "code",
   "execution_count": 123,
   "id": "765410a8-3414-45a0-8e1e-da0b18896e05",
   "metadata": {},
   "outputs": [
    {
     "data": {
      "application/vnd.plotly.v1+json": {
       "config": {
        "plotlyServerURL": "https://plot.ly"
       },
       "data": [
        {
         "hovertemplate": "<b>%{hovertext}</b><br><br>brand=Nivea<br>total_product=%{x}<br>number_of_recommendations=%{y}<br>average_price=%{marker.size}<extra></extra>",
         "hovertext": [
          "Nivea"
         ],
         "legendgroup": "Nivea",
         "marker": {
          "color": "#636efa",
          "size": [
           56400
          ],
          "sizemode": "area",
          "sizeref": 83.40277777777777,
          "symbol": "circle"
         },
         "mode": "markers",
         "name": "Nivea",
         "orientation": "v",
         "showlegend": true,
         "type": "scatter",
         "x": [
          6
         ],
         "xaxis": "x",
         "y": [
          1496.6666666666667
         ],
         "yaxis": "y"
        },
        {
         "hovertemplate": "<b>%{hovertext}</b><br><br>brand=For Skins Sake<br>total_product=%{x}<br>number_of_recommendations=%{y}<br>average_price=%{marker.size}<extra></extra>",
         "hovertext": [
          "For Skins Sake"
         ],
         "legendgroup": "For Skins Sake",
         "marker": {
          "color": "#EF553B",
          "size": [
           67500
          ],
          "sizemode": "area",
          "sizeref": 83.40277777777777,
          "symbol": "circle"
         },
         "mode": "markers",
         "name": "For Skins Sake",
         "orientation": "v",
         "showlegend": true,
         "type": "scatter",
         "x": [
          2
         ],
         "xaxis": "x",
         "y": [
          1242
         ],
         "yaxis": "y"
        },
        {
         "hovertemplate": "<b>%{hovertext}</b><br><br>brand=NYX Professional Makeup<br>total_product=%{x}<br>number_of_recommendations=%{y}<br>average_price=%{marker.size}<extra></extra>",
         "hovertext": [
          "NYX Professional Makeup"
         ],
         "legendgroup": "NYX Professional Makeup",
         "marker": {
          "color": "#00cc96",
          "size": [
           191600
          ],
          "sizemode": "area",
          "sizeref": 83.40277777777777,
          "symbol": "circle"
         },
         "mode": "markers",
         "name": "NYX Professional Makeup",
         "orientation": "v",
         "showlegend": true,
         "type": "scatter",
         "x": [
          5
         ],
         "xaxis": "x",
         "y": [
          398
         ],
         "yaxis": "y"
        },
        {
         "hovertemplate": "<b>%{hovertext}</b><br><br>brand=Emina<br>total_product=%{x}<br>number_of_recommendations=%{y}<br>average_price=%{marker.size}<extra></extra>",
         "hovertext": [
          "Emina"
         ],
         "legendgroup": "Emina",
         "marker": {
          "color": "#ab63fa",
          "size": [
           48134.61538461538
          ],
          "sizemode": "area",
          "sizeref": 83.40277777777777,
          "symbol": "circle"
         },
         "mode": "markers",
         "name": "Emina",
         "orientation": "v",
         "showlegend": true,
         "type": "scatter",
         "x": [
          26
         ],
         "xaxis": "x",
         "y": [
          1112.3846153846155
         ],
         "yaxis": "y"
        },
        {
         "hovertemplate": "<b>%{hovertext}</b><br><br>brand=Loreal Paris<br>total_product=%{x}<br>number_of_recommendations=%{y}<br>average_price=%{marker.size}<extra></extra>",
         "hovertext": [
          "Loreal Paris"
         ],
         "legendgroup": "Loreal Paris",
         "marker": {
          "color": "#FFA15A",
          "size": [
           194333.2
          ],
          "sizemode": "area",
          "sizeref": 83.40277777777777,
          "symbol": "circle"
         },
         "mode": "markers",
         "name": "Loreal Paris",
         "orientation": "v",
         "showlegend": true,
         "type": "scatter",
         "x": [
          15
         ],
         "xaxis": "x",
         "y": [
          806.7692307692307
         ],
         "yaxis": "y"
        },
        {
         "hovertemplate": "<b>%{hovertext}</b><br><br>brand=Maybelline<br>total_product=%{x}<br>number_of_recommendations=%{y}<br>average_price=%{marker.size}<extra></extra>",
         "hovertext": [
          "Maybelline"
         ],
         "legendgroup": "Maybelline",
         "marker": {
          "color": "#19d3f3",
          "size": [
           127125
          ],
          "sizemode": "area",
          "sizeref": 83.40277777777777,
          "symbol": "circle"
         },
         "mode": "markers",
         "name": "Maybelline",
         "orientation": "v",
         "showlegend": true,
         "type": "scatter",
         "x": [
          36
         ],
         "xaxis": "x",
         "y": [
          785.516129032258
         ],
         "yaxis": "y"
        },
        {
         "hovertemplate": "<b>%{hovertext}</b><br><br>brand=Wardah<br>total_product=%{x}<br>number_of_recommendations=%{y}<br>average_price=%{marker.size}<extra></extra>",
         "hovertext": [
          "Wardah"
         ],
         "legendgroup": "Wardah",
         "marker": {
          "color": "#FF6692",
          "size": [
           74456.89655172414
          ],
          "sizemode": "area",
          "sizeref": 83.40277777777777,
          "symbol": "circle"
         },
         "mode": "markers",
         "name": "Wardah",
         "orientation": "v",
         "showlegend": true,
         "type": "scatter",
         "x": [
          60
         ],
         "xaxis": "x",
         "y": [
          979.05
         ],
         "yaxis": "y"
        },
        {
         "hovertemplate": "<b>%{hovertext}</b><br><br>brand=BLP Beauty<br>total_product=%{x}<br>number_of_recommendations=%{y}<br>average_price=%{marker.size}<extra></extra>",
         "hovertext": [
          "BLP Beauty"
         ],
         "legendgroup": "BLP Beauty",
         "marker": {
          "color": "#B6E880",
          "size": [
           143000
          ],
          "sizemode": "area",
          "sizeref": 83.40277777777777,
          "symbol": "circle"
         },
         "mode": "markers",
         "name": "BLP Beauty",
         "orientation": "v",
         "showlegend": true,
         "type": "scatter",
         "x": [
          10
         ],
         "xaxis": "x",
         "y": [
          666.1111111111111
         ],
         "yaxis": "y"
        },
        {
         "hovertemplate": "<b>%{hovertext}</b><br><br>brand=Dear Me Beauty<br>total_product=%{x}<br>number_of_recommendations=%{y}<br>average_price=%{marker.size}<extra></extra>",
         "hovertext": [
          "Dear Me Beauty"
         ],
         "legendgroup": "Dear Me Beauty",
         "marker": {
          "color": "#FF97FF",
          "size": [
           134642.85714285713
          ],
          "sizemode": "area",
          "sizeref": 83.40277777777777,
          "symbol": "circle"
         },
         "mode": "markers",
         "name": "Dear Me Beauty",
         "orientation": "v",
         "showlegend": true,
         "type": "scatter",
         "x": [
          15
         ],
         "xaxis": "x",
         "y": [
          617.2857142857143
         ],
         "yaxis": "y"
        },
        {
         "hovertemplate": "<b>%{hovertext}</b><br><br>brand=Make Over<br>total_product=%{x}<br>number_of_recommendations=%{y}<br>average_price=%{marker.size}<extra></extra>",
         "hovertext": [
          "Make Over"
         ],
         "legendgroup": "Make Over",
         "marker": {
          "color": "#FECB52",
          "size": [
           118195.12195121951
          ],
          "sizemode": "area",
          "sizeref": 83.40277777777777,
          "symbol": "circle"
         },
         "mode": "markers",
         "name": "Make Over",
         "orientation": "v",
         "showlegend": true,
         "type": "scatter",
         "x": [
          42
         ],
         "xaxis": "x",
         "y": [
          592.452380952381
         ],
         "yaxis": "y"
        },
        {
         "hovertemplate": "<b>%{hovertext}</b><br><br>brand=Studio Tropik<br>total_product=%{x}<br>number_of_recommendations=%{y}<br>average_price=%{marker.size}<extra></extra>",
         "hovertext": [
          "Studio Tropik"
         ],
         "legendgroup": "Studio Tropik",
         "marker": {
          "color": "#636efa",
          "size": [
           128700
          ],
          "sizemode": "area",
          "sizeref": 83.40277777777777,
          "symbol": "circle"
         },
         "mode": "markers",
         "name": "Studio Tropik",
         "orientation": "v",
         "showlegend": true,
         "type": "scatter",
         "x": [
          2
         ],
         "xaxis": "x",
         "y": [
          371
         ],
         "yaxis": "y"
        },
        {
         "hovertemplate": "<b>%{hovertext}</b><br><br>brand=House Of HUR<br>total_product=%{x}<br>number_of_recommendations=%{y}<br>average_price=%{marker.size}<extra></extra>",
         "hovertext": [
          "House Of HUR"
         ],
         "legendgroup": "House Of HUR",
         "marker": {
          "color": "#EF553B",
          "size": [
           165000
          ],
          "sizemode": "area",
          "sizeref": 83.40277777777777,
          "symbol": "circle"
         },
         "mode": "markers",
         "name": "House Of HUR",
         "orientation": "v",
         "showlegend": true,
         "type": "scatter",
         "x": [
          2
         ],
         "xaxis": "x",
         "y": [
          232
         ],
         "yaxis": "y"
        },
        {
         "hovertemplate": "<b>%{hovertext}</b><br><br>brand=Raiku<br>total_product=%{x}<br>number_of_recommendations=%{y}<br>average_price=%{marker.size}<extra></extra>",
         "hovertext": [
          "Raiku"
         ],
         "legendgroup": "Raiku",
         "marker": {
          "color": "#00cc96",
          "size": [
           118000
          ],
          "sizemode": "area",
          "sizeref": 83.40277777777777,
          "symbol": "circle"
         },
         "mode": "markers",
         "name": "Raiku",
         "orientation": "v",
         "showlegend": true,
         "type": "scatter",
         "x": [
          1
         ],
         "xaxis": "x",
         "y": [
          370
         ],
         "yaxis": "y"
        },
        {
         "hovertemplate": "<b>%{hovertext}</b><br><br>brand=COSRX<br>total_product=%{x}<br>number_of_recommendations=%{y}<br>average_price=%{marker.size}<extra></extra>",
         "hovertext": [
          "COSRX"
         ],
         "legendgroup": "COSRX",
         "marker": {
          "color": "#ab63fa",
          "size": [
           269000
          ],
          "sizemode": "area",
          "sizeref": 83.40277777777777,
          "symbol": "circle"
         },
         "mode": "markers",
         "name": "COSRX",
         "orientation": "v",
         "showlegend": true,
         "type": "scatter",
         "x": [
          1
         ],
         "xaxis": "x",
         "y": [
          402
         ],
         "yaxis": "y"
        },
        {
         "hovertemplate": "<b>%{hovertext}</b><br><br>brand=Pixy<br>total_product=%{x}<br>number_of_recommendations=%{y}<br>average_price=%{marker.size}<extra></extra>",
         "hovertext": [
          "Pixy"
         ],
         "legendgroup": "Pixy",
         "marker": {
          "color": "#FFA15A",
          "size": [
           78809.52380952382
          ],
          "sizemode": "area",
          "sizeref": 83.40277777777777,
          "symbol": "circle"
         },
         "mode": "markers",
         "name": "Pixy",
         "orientation": "v",
         "showlegend": true,
         "type": "scatter",
         "x": [
          21
         ],
         "xaxis": "x",
         "y": [
          333.85
         ],
         "yaxis": "y"
        },
        {
         "hovertemplate": "<b>%{hovertext}</b><br><br>brand=ESQA<br>total_product=%{x}<br>number_of_recommendations=%{y}<br>average_price=%{marker.size}<extra></extra>",
         "hovertext": [
          "ESQA"
         ],
         "legendgroup": "ESQA",
         "marker": {
          "color": "#19d3f3",
          "size": [
           164285.7142857143
          ],
          "sizemode": "area",
          "sizeref": 83.40277777777777,
          "symbol": "circle"
         },
         "mode": "markers",
         "name": "ESQA",
         "orientation": "v",
         "showlegend": true,
         "type": "scatter",
         "x": [
          21
         ],
         "xaxis": "x",
         "y": [
          340.23809523809524
         ],
         "yaxis": "y"
        },
        {
         "hovertemplate": "<b>%{hovertext}</b><br><br>brand=Goban<br>total_product=%{x}<br>number_of_recommendations=%{y}<br>average_price=%{marker.size}<extra></extra>",
         "hovertext": [
          "Goban"
         ],
         "legendgroup": "Goban",
         "marker": {
          "color": "#FF6692",
          "size": [
           118555.55555555556
          ],
          "sizemode": "area",
          "sizeref": 83.40277777777777,
          "symbol": "circle"
         },
         "mode": "markers",
         "name": "Goban",
         "orientation": "v",
         "showlegend": true,
         "type": "scatter",
         "x": [
          9
         ],
         "xaxis": "x",
         "y": [
          360.44444444444446
         ],
         "yaxis": "y"
        },
        {
         "hovertemplate": "<b>%{hovertext}</b><br><br>brand=Indoganic<br>total_product=%{x}<br>number_of_recommendations=%{y}<br>average_price=%{marker.size}<extra></extra>",
         "hovertext": [
          "Indoganic"
         ],
         "legendgroup": "Indoganic",
         "marker": {
          "color": "#B6E880",
          "size": [
           114000
          ],
          "sizemode": "area",
          "sizeref": 83.40277777777777,
          "symbol": "circle"
         },
         "mode": "markers",
         "name": "Indoganic",
         "orientation": "v",
         "showlegend": true,
         "type": "scatter",
         "x": [
          2
         ],
         "xaxis": "x",
         "y": [
          321.5
         ],
         "yaxis": "y"
        },
        {
         "hovertemplate": "<b>%{hovertext}</b><br><br>brand=Implora<br>total_product=%{x}<br>number_of_recommendations=%{y}<br>average_price=%{marker.size}<extra></extra>",
         "hovertext": [
          "Implora"
         ],
         "legendgroup": "Implora",
         "marker": {
          "color": "#FF97FF",
          "size": [
           35660
          ],
          "sizemode": "area",
          "sizeref": 83.40277777777777,
          "symbol": "circle"
         },
         "mode": "markers",
         "name": "Implora",
         "orientation": "v",
         "showlegend": true,
         "type": "scatter",
         "x": [
          5
         ],
         "xaxis": "x",
         "y": [
          181.8
         ],
         "yaxis": "y"
        },
        {
         "hovertemplate": "<b>%{hovertext}</b><br><br>brand=Rose All Day<br>total_product=%{x}<br>number_of_recommendations=%{y}<br>average_price=%{marker.size}<extra></extra>",
         "hovertext": [
          "Rose All Day"
         ],
         "legendgroup": "Rose All Day",
         "marker": {
          "color": "#FECB52",
          "size": [
           148428.57142857142
          ],
          "sizemode": "area",
          "sizeref": 83.40277777777777,
          "symbol": "circle"
         },
         "mode": "markers",
         "name": "Rose All Day",
         "orientation": "v",
         "showlegend": true,
         "type": "scatter",
         "x": [
          7
         ],
         "xaxis": "x",
         "y": [
          219
         ],
         "yaxis": "y"
        },
        {
         "hovertemplate": "<b>%{hovertext}</b><br><br>brand=Elsheskin<br>total_product=%{x}<br>number_of_recommendations=%{y}<br>average_price=%{marker.size}<extra></extra>",
         "hovertext": [
          "Elsheskin"
         ],
         "legendgroup": "Elsheskin",
         "marker": {
          "color": "#636efa",
          "size": [
           135500
          ],
          "sizemode": "area",
          "sizeref": 83.40277777777777,
          "symbol": "circle"
         },
         "mode": "markers",
         "name": "Elsheskin",
         "orientation": "v",
         "showlegend": true,
         "type": "scatter",
         "x": [
          4
         ],
         "xaxis": "x",
         "y": [
          196.25
         ],
         "yaxis": "y"
        },
        {
         "hovertemplate": "<b>%{hovertext}</b><br><br>brand=DHC<br>total_product=%{x}<br>number_of_recommendations=%{y}<br>average_price=%{marker.size}<extra></extra>",
         "hovertext": [
          "DHC"
         ],
         "legendgroup": "DHC",
         "marker": {
          "color": "#EF553B",
          "size": [
           300250
          ],
          "sizemode": "area",
          "sizeref": 83.40277777777777,
          "symbol": "circle"
         },
         "mode": "markers",
         "name": "DHC",
         "orientation": "v",
         "showlegend": true,
         "type": "scatter",
         "x": [
          4
         ],
         "xaxis": "x",
         "y": [
          179.66666666666666
         ],
         "yaxis": "y"
        },
        {
         "hovertemplate": "<b>%{hovertext}</b><br><br>brand=Focallure<br>total_product=%{x}<br>number_of_recommendations=%{y}<br>average_price=%{marker.size}<extra></extra>",
         "hovertext": [
          "Focallure"
         ],
         "legendgroup": "Focallure",
         "marker": {
          "color": "#00cc96",
          "size": [
           193655.1724137931
          ],
          "sizemode": "area",
          "sizeref": 83.40277777777777,
          "symbol": "circle"
         },
         "mode": "markers",
         "name": "Focallure",
         "orientation": "v",
         "showlegend": true,
         "type": "scatter",
         "x": [
          29
         ],
         "xaxis": "x",
         "y": [
          202.4
         ],
         "yaxis": "y"
        },
        {
         "hovertemplate": "<b>%{hovertext}</b><br><br>brand=Mizzu<br>total_product=%{x}<br>number_of_recommendations=%{y}<br>average_price=%{marker.size}<extra></extra>",
         "hovertext": [
          "Mizzu"
         ],
         "legendgroup": "Mizzu",
         "marker": {
          "color": "#ab63fa",
          "size": [
           74580
          ],
          "sizemode": "area",
          "sizeref": 83.40277777777777,
          "symbol": "circle"
         },
         "mode": "markers",
         "name": "Mizzu",
         "orientation": "v",
         "showlegend": true,
         "type": "scatter",
         "x": [
          20
         ],
         "xaxis": "x",
         "y": [
          221.47368421052633
         ],
         "yaxis": "y"
        },
        {
         "hovertemplate": "<b>%{hovertext}</b><br><br>brand=Azarine<br>total_product=%{x}<br>number_of_recommendations=%{y}<br>average_price=%{marker.size}<extra></extra>",
         "hovertext": [
          "Azarine"
         ],
         "legendgroup": "Azarine",
         "marker": {
          "color": "#FFA15A",
          "size": [
           76000
          ],
          "sizemode": "area",
          "sizeref": 83.40277777777777,
          "symbol": "circle"
         },
         "mode": "markers",
         "name": "Azarine",
         "orientation": "v",
         "showlegend": true,
         "type": "scatter",
         "x": [
          3
         ],
         "xaxis": "x",
         "y": [
          88.33333333333333
         ],
         "yaxis": "y"
        },
        {
         "hovertemplate": "<b>%{hovertext}</b><br><br>brand=Mad For Makeup<br>total_product=%{x}<br>number_of_recommendations=%{y}<br>average_price=%{marker.size}<extra></extra>",
         "hovertext": [
          "Mad For Makeup"
         ],
         "legendgroup": "Mad For Makeup",
         "marker": {
          "color": "#19d3f3",
          "size": [
           127333.33333333333
          ],
          "sizemode": "area",
          "sizeref": 83.40277777777777,
          "symbol": "circle"
         },
         "mode": "markers",
         "name": "Mad For Makeup",
         "orientation": "v",
         "showlegend": true,
         "type": "scatter",
         "x": [
          6
         ],
         "xaxis": "x",
         "y": [
          169.2
         ],
         "yaxis": "y"
        },
        {
         "hovertemplate": "<b>%{hovertext}</b><br><br>brand=Revlon<br>total_product=%{x}<br>number_of_recommendations=%{y}<br>average_price=%{marker.size}<extra></extra>",
         "hovertext": [
          "Revlon"
         ],
         "legendgroup": "Revlon",
         "marker": {
          "color": "#FF6692",
          "size": [
           123250
          ],
          "sizemode": "area",
          "sizeref": 83.40277777777777,
          "symbol": "circle"
         },
         "mode": "markers",
         "name": "Revlon",
         "orientation": "v",
         "showlegend": true,
         "type": "scatter",
         "x": [
          23
         ],
         "xaxis": "x",
         "y": [
          196.95454545454547
         ],
         "yaxis": "y"
        },
        {
         "hovertemplate": "<b>%{hovertext}</b><br><br>brand=Sarange<br>total_product=%{x}<br>number_of_recommendations=%{y}<br>average_price=%{marker.size}<extra></extra>",
         "hovertext": [
          "Sarange"
         ],
         "legendgroup": "Sarange",
         "marker": {
          "color": "#B6E880",
          "size": [
           89000
          ],
          "sizemode": "area",
          "sizeref": 83.40277777777777,
          "symbol": "circle"
         },
         "mode": "markers",
         "name": "Sarange",
         "orientation": "v",
         "showlegend": true,
         "type": "scatter",
         "x": [
          2
         ],
         "xaxis": "x",
         "y": [
          203
         ],
         "yaxis": "y"
        },
        {
         "hovertemplate": "<b>%{hovertext}</b><br><br>brand=Rollover Reaction<br>total_product=%{x}<br>number_of_recommendations=%{y}<br>average_price=%{marker.size}<extra></extra>",
         "hovertext": [
          "Rollover Reaction"
         ],
         "legendgroup": "Rollover Reaction",
         "marker": {
          "color": "#FF97FF",
          "size": [
           232571.42857142858
          ],
          "sizemode": "area",
          "sizeref": 83.40277777777777,
          "symbol": "circle"
         },
         "mode": "markers",
         "name": "Rollover Reaction",
         "orientation": "v",
         "showlegend": true,
         "type": "scatter",
         "x": [
          14
         ],
         "xaxis": "x",
         "y": [
          161.07142857142858
         ],
         "yaxis": "y"
        },
        {
         "hovertemplate": "<b>%{hovertext}</b><br><br>brand=BrunBrun Paris<br>total_product=%{x}<br>number_of_recommendations=%{y}<br>average_price=%{marker.size}<extra></extra>",
         "hovertext": [
          "BrunBrun Paris"
         ],
         "legendgroup": "BrunBrun Paris",
         "marker": {
          "color": "#FECB52",
          "size": [
           40150
          ],
          "sizemode": "area",
          "sizeref": 83.40277777777777,
          "symbol": "circle"
         },
         "mode": "markers",
         "name": "BrunBrun Paris",
         "orientation": "v",
         "showlegend": true,
         "type": "scatter",
         "x": [
          18
         ],
         "xaxis": "x",
         "y": [
          177.8235294117647
         ],
         "yaxis": "y"
        }
       ],
       "layout": {
        "autosize": true,
        "legend": {
         "itemsizing": "constant",
         "title": {
          "text": "brand"
         },
         "tracegroupgap": 0
        },
        "margin": {
         "t": 60
        },
        "template": {
         "data": {
          "bar": [
           {
            "error_x": {
             "color": "#2a3f5f"
            },
            "error_y": {
             "color": "#2a3f5f"
            },
            "marker": {
             "line": {
              "color": "#E5ECF6",
              "width": 0.5
             },
             "pattern": {
              "fillmode": "overlay",
              "size": 10,
              "solidity": 0.2
             }
            },
            "type": "bar"
           }
          ],
          "barpolar": [
           {
            "marker": {
             "line": {
              "color": "#E5ECF6",
              "width": 0.5
             },
             "pattern": {
              "fillmode": "overlay",
              "size": 10,
              "solidity": 0.2
             }
            },
            "type": "barpolar"
           }
          ],
          "carpet": [
           {
            "aaxis": {
             "endlinecolor": "#2a3f5f",
             "gridcolor": "white",
             "linecolor": "white",
             "minorgridcolor": "white",
             "startlinecolor": "#2a3f5f"
            },
            "baxis": {
             "endlinecolor": "#2a3f5f",
             "gridcolor": "white",
             "linecolor": "white",
             "minorgridcolor": "white",
             "startlinecolor": "#2a3f5f"
            },
            "type": "carpet"
           }
          ],
          "choropleth": [
           {
            "colorbar": {
             "outlinewidth": 0,
             "ticks": ""
            },
            "type": "choropleth"
           }
          ],
          "contour": [
           {
            "colorbar": {
             "outlinewidth": 0,
             "ticks": ""
            },
            "colorscale": [
             [
              0,
              "#0d0887"
             ],
             [
              0.1111111111111111,
              "#46039f"
             ],
             [
              0.2222222222222222,
              "#7201a8"
             ],
             [
              0.3333333333333333,
              "#9c179e"
             ],
             [
              0.4444444444444444,
              "#bd3786"
             ],
             [
              0.5555555555555556,
              "#d8576b"
             ],
             [
              0.6666666666666666,
              "#ed7953"
             ],
             [
              0.7777777777777778,
              "#fb9f3a"
             ],
             [
              0.8888888888888888,
              "#fdca26"
             ],
             [
              1,
              "#f0f921"
             ]
            ],
            "type": "contour"
           }
          ],
          "contourcarpet": [
           {
            "colorbar": {
             "outlinewidth": 0,
             "ticks": ""
            },
            "type": "contourcarpet"
           }
          ],
          "heatmap": [
           {
            "colorbar": {
             "outlinewidth": 0,
             "ticks": ""
            },
            "colorscale": [
             [
              0,
              "#0d0887"
             ],
             [
              0.1111111111111111,
              "#46039f"
             ],
             [
              0.2222222222222222,
              "#7201a8"
             ],
             [
              0.3333333333333333,
              "#9c179e"
             ],
             [
              0.4444444444444444,
              "#bd3786"
             ],
             [
              0.5555555555555556,
              "#d8576b"
             ],
             [
              0.6666666666666666,
              "#ed7953"
             ],
             [
              0.7777777777777778,
              "#fb9f3a"
             ],
             [
              0.8888888888888888,
              "#fdca26"
             ],
             [
              1,
              "#f0f921"
             ]
            ],
            "type": "heatmap"
           }
          ],
          "heatmapgl": [
           {
            "colorbar": {
             "outlinewidth": 0,
             "ticks": ""
            },
            "colorscale": [
             [
              0,
              "#0d0887"
             ],
             [
              0.1111111111111111,
              "#46039f"
             ],
             [
              0.2222222222222222,
              "#7201a8"
             ],
             [
              0.3333333333333333,
              "#9c179e"
             ],
             [
              0.4444444444444444,
              "#bd3786"
             ],
             [
              0.5555555555555556,
              "#d8576b"
             ],
             [
              0.6666666666666666,
              "#ed7953"
             ],
             [
              0.7777777777777778,
              "#fb9f3a"
             ],
             [
              0.8888888888888888,
              "#fdca26"
             ],
             [
              1,
              "#f0f921"
             ]
            ],
            "type": "heatmapgl"
           }
          ],
          "histogram": [
           {
            "marker": {
             "pattern": {
              "fillmode": "overlay",
              "size": 10,
              "solidity": 0.2
             }
            },
            "type": "histogram"
           }
          ],
          "histogram2d": [
           {
            "colorbar": {
             "outlinewidth": 0,
             "ticks": ""
            },
            "colorscale": [
             [
              0,
              "#0d0887"
             ],
             [
              0.1111111111111111,
              "#46039f"
             ],
             [
              0.2222222222222222,
              "#7201a8"
             ],
             [
              0.3333333333333333,
              "#9c179e"
             ],
             [
              0.4444444444444444,
              "#bd3786"
             ],
             [
              0.5555555555555556,
              "#d8576b"
             ],
             [
              0.6666666666666666,
              "#ed7953"
             ],
             [
              0.7777777777777778,
              "#fb9f3a"
             ],
             [
              0.8888888888888888,
              "#fdca26"
             ],
             [
              1,
              "#f0f921"
             ]
            ],
            "type": "histogram2d"
           }
          ],
          "histogram2dcontour": [
           {
            "colorbar": {
             "outlinewidth": 0,
             "ticks": ""
            },
            "colorscale": [
             [
              0,
              "#0d0887"
             ],
             [
              0.1111111111111111,
              "#46039f"
             ],
             [
              0.2222222222222222,
              "#7201a8"
             ],
             [
              0.3333333333333333,
              "#9c179e"
             ],
             [
              0.4444444444444444,
              "#bd3786"
             ],
             [
              0.5555555555555556,
              "#d8576b"
             ],
             [
              0.6666666666666666,
              "#ed7953"
             ],
             [
              0.7777777777777778,
              "#fb9f3a"
             ],
             [
              0.8888888888888888,
              "#fdca26"
             ],
             [
              1,
              "#f0f921"
             ]
            ],
            "type": "histogram2dcontour"
           }
          ],
          "mesh3d": [
           {
            "colorbar": {
             "outlinewidth": 0,
             "ticks": ""
            },
            "type": "mesh3d"
           }
          ],
          "parcoords": [
           {
            "line": {
             "colorbar": {
              "outlinewidth": 0,
              "ticks": ""
             }
            },
            "type": "parcoords"
           }
          ],
          "pie": [
           {
            "automargin": true,
            "type": "pie"
           }
          ],
          "scatter": [
           {
            "marker": {
             "colorbar": {
              "outlinewidth": 0,
              "ticks": ""
             }
            },
            "type": "scatter"
           }
          ],
          "scatter3d": [
           {
            "line": {
             "colorbar": {
              "outlinewidth": 0,
              "ticks": ""
             }
            },
            "marker": {
             "colorbar": {
              "outlinewidth": 0,
              "ticks": ""
             }
            },
            "type": "scatter3d"
           }
          ],
          "scattercarpet": [
           {
            "marker": {
             "colorbar": {
              "outlinewidth": 0,
              "ticks": ""
             }
            },
            "type": "scattercarpet"
           }
          ],
          "scattergeo": [
           {
            "marker": {
             "colorbar": {
              "outlinewidth": 0,
              "ticks": ""
             }
            },
            "type": "scattergeo"
           }
          ],
          "scattergl": [
           {
            "marker": {
             "colorbar": {
              "outlinewidth": 0,
              "ticks": ""
             }
            },
            "type": "scattergl"
           }
          ],
          "scattermapbox": [
           {
            "marker": {
             "colorbar": {
              "outlinewidth": 0,
              "ticks": ""
             }
            },
            "type": "scattermapbox"
           }
          ],
          "scatterpolar": [
           {
            "marker": {
             "colorbar": {
              "outlinewidth": 0,
              "ticks": ""
             }
            },
            "type": "scatterpolar"
           }
          ],
          "scatterpolargl": [
           {
            "marker": {
             "colorbar": {
              "outlinewidth": 0,
              "ticks": ""
             }
            },
            "type": "scatterpolargl"
           }
          ],
          "scatterternary": [
           {
            "marker": {
             "colorbar": {
              "outlinewidth": 0,
              "ticks": ""
             }
            },
            "type": "scatterternary"
           }
          ],
          "surface": [
           {
            "colorbar": {
             "outlinewidth": 0,
             "ticks": ""
            },
            "colorscale": [
             [
              0,
              "#0d0887"
             ],
             [
              0.1111111111111111,
              "#46039f"
             ],
             [
              0.2222222222222222,
              "#7201a8"
             ],
             [
              0.3333333333333333,
              "#9c179e"
             ],
             [
              0.4444444444444444,
              "#bd3786"
             ],
             [
              0.5555555555555556,
              "#d8576b"
             ],
             [
              0.6666666666666666,
              "#ed7953"
             ],
             [
              0.7777777777777778,
              "#fb9f3a"
             ],
             [
              0.8888888888888888,
              "#fdca26"
             ],
             [
              1,
              "#f0f921"
             ]
            ],
            "type": "surface"
           }
          ],
          "table": [
           {
            "cells": {
             "fill": {
              "color": "#EBF0F8"
             },
             "line": {
              "color": "white"
             }
            },
            "header": {
             "fill": {
              "color": "#C8D4E3"
             },
             "line": {
              "color": "white"
             }
            },
            "type": "table"
           }
          ]
         },
         "layout": {
          "annotationdefaults": {
           "arrowcolor": "#2a3f5f",
           "arrowhead": 0,
           "arrowwidth": 1
          },
          "autotypenumbers": "strict",
          "coloraxis": {
           "colorbar": {
            "outlinewidth": 0,
            "ticks": ""
           }
          },
          "colorscale": {
           "diverging": [
            [
             0,
             "#8e0152"
            ],
            [
             0.1,
             "#c51b7d"
            ],
            [
             0.2,
             "#de77ae"
            ],
            [
             0.3,
             "#f1b6da"
            ],
            [
             0.4,
             "#fde0ef"
            ],
            [
             0.5,
             "#f7f7f7"
            ],
            [
             0.6,
             "#e6f5d0"
            ],
            [
             0.7,
             "#b8e186"
            ],
            [
             0.8,
             "#7fbc41"
            ],
            [
             0.9,
             "#4d9221"
            ],
            [
             1,
             "#276419"
            ]
           ],
           "sequential": [
            [
             0,
             "#0d0887"
            ],
            [
             0.1111111111111111,
             "#46039f"
            ],
            [
             0.2222222222222222,
             "#7201a8"
            ],
            [
             0.3333333333333333,
             "#9c179e"
            ],
            [
             0.4444444444444444,
             "#bd3786"
            ],
            [
             0.5555555555555556,
             "#d8576b"
            ],
            [
             0.6666666666666666,
             "#ed7953"
            ],
            [
             0.7777777777777778,
             "#fb9f3a"
            ],
            [
             0.8888888888888888,
             "#fdca26"
            ],
            [
             1,
             "#f0f921"
            ]
           ],
           "sequentialminus": [
            [
             0,
             "#0d0887"
            ],
            [
             0.1111111111111111,
             "#46039f"
            ],
            [
             0.2222222222222222,
             "#7201a8"
            ],
            [
             0.3333333333333333,
             "#9c179e"
            ],
            [
             0.4444444444444444,
             "#bd3786"
            ],
            [
             0.5555555555555556,
             "#d8576b"
            ],
            [
             0.6666666666666666,
             "#ed7953"
            ],
            [
             0.7777777777777778,
             "#fb9f3a"
            ],
            [
             0.8888888888888888,
             "#fdca26"
            ],
            [
             1,
             "#f0f921"
            ]
           ]
          },
          "colorway": [
           "#636efa",
           "#EF553B",
           "#00cc96",
           "#ab63fa",
           "#FFA15A",
           "#19d3f3",
           "#FF6692",
           "#B6E880",
           "#FF97FF",
           "#FECB52"
          ],
          "font": {
           "color": "#2a3f5f"
          },
          "geo": {
           "bgcolor": "white",
           "lakecolor": "white",
           "landcolor": "#E5ECF6",
           "showlakes": true,
           "showland": true,
           "subunitcolor": "white"
          },
          "hoverlabel": {
           "align": "left"
          },
          "hovermode": "closest",
          "mapbox": {
           "style": "light"
          },
          "paper_bgcolor": "white",
          "plot_bgcolor": "#E5ECF6",
          "polar": {
           "angularaxis": {
            "gridcolor": "white",
            "linecolor": "white",
            "ticks": ""
           },
           "bgcolor": "#E5ECF6",
           "radialaxis": {
            "gridcolor": "white",
            "linecolor": "white",
            "ticks": ""
           }
          },
          "scene": {
           "xaxis": {
            "backgroundcolor": "#E5ECF6",
            "gridcolor": "white",
            "gridwidth": 2,
            "linecolor": "white",
            "showbackground": true,
            "ticks": "",
            "zerolinecolor": "white"
           },
           "yaxis": {
            "backgroundcolor": "#E5ECF6",
            "gridcolor": "white",
            "gridwidth": 2,
            "linecolor": "white",
            "showbackground": true,
            "ticks": "",
            "zerolinecolor": "white"
           },
           "zaxis": {
            "backgroundcolor": "#E5ECF6",
            "gridcolor": "white",
            "gridwidth": 2,
            "linecolor": "white",
            "showbackground": true,
            "ticks": "",
            "zerolinecolor": "white"
           }
          },
          "shapedefaults": {
           "line": {
            "color": "#2a3f5f"
           }
          },
          "ternary": {
           "aaxis": {
            "gridcolor": "white",
            "linecolor": "white",
            "ticks": ""
           },
           "baxis": {
            "gridcolor": "white",
            "linecolor": "white",
            "ticks": ""
           },
           "bgcolor": "#E5ECF6",
           "caxis": {
            "gridcolor": "white",
            "linecolor": "white",
            "ticks": ""
           }
          },
          "title": {
           "x": 0.05
          },
          "xaxis": {
           "automargin": true,
           "gridcolor": "white",
           "linecolor": "white",
           "ticks": "",
           "title": {
            "standoff": 15
           },
           "zerolinecolor": "white",
           "zerolinewidth": 2
          },
          "yaxis": {
           "automargin": true,
           "gridcolor": "white",
           "linecolor": "white",
           "ticks": "",
           "title": {
            "standoff": 15
           },
           "zerolinecolor": "white",
           "zerolinewidth": 2
          }
         }
        },
        "title": {
         "font": {
          "size": 19
         },
         "text": "Brand in makeup category"
        },
        "xaxis": {
         "anchor": "y",
         "autorange": true,
         "domain": [
          0,
          1
         ],
         "range": [
          -0.20204830560511422,
          1.9350892638886037
         ],
         "title": {
          "text": "Number of products"
         },
         "type": "log"
        },
        "yaxis": {
         "anchor": "x",
         "autorange": true,
         "domain": [
          0,
          1
         ],
         "range": [
          -412.28251588120463,
          1816.3592449408586
         ],
         "title": {
          "text": "Recommendation"
         },
         "type": "linear"
        }
       }
      },
      "image/png": "[encoded data removed]",
      "text/html": [
       "<div>                            <div id=\"6f217acd-f14a-49a9-b8ac-a63ab72450e4\" class=\"plotly-graph-div\" style=\"height:525px; width:100%;\"></div>            <script type=\"text/javascript\">                require([\"plotly\"], function(Plotly) {                    window.PLOTLYENV=window.PLOTLYENV || {};                                    if (document.getElementById(\"6f217acd-f14a-49a9-b8ac-a63ab72450e4\")) {                    Plotly.newPlot(                        \"6f217acd-f14a-49a9-b8ac-a63ab72450e4\",                        [{\"hovertemplate\":\"<b>%{hovertext}</b><br><br>brand=Nivea<br>total_product=%{x}<br>number_of_recommendations=%{y}<br>average_price=%{marker.size}<extra></extra>\",\"hovertext\":[\"Nivea\"],\"legendgroup\":\"Nivea\",\"marker\":{\"color\":\"#636efa\",\"size\":[56400.0],\"sizemode\":\"area\",\"sizeref\":83.40277777777777,\"symbol\":\"circle\"},\"mode\":\"markers\",\"name\":\"Nivea\",\"orientation\":\"v\",\"showlegend\":true,\"type\":\"scatter\",\"x\":[6],\"xaxis\":\"x\",\"y\":[1496.6666666666667],\"yaxis\":\"y\"},{\"hovertemplate\":\"<b>%{hovertext}</b><br><br>brand=For Skins Sake<br>total_product=%{x}<br>number_of_recommendations=%{y}<br>average_price=%{marker.size}<extra></extra>\",\"hovertext\":[\"For Skins Sake\"],\"legendgroup\":\"For Skins Sake\",\"marker\":{\"color\":\"#EF553B\",\"size\":[67500.0],\"sizemode\":\"area\",\"sizeref\":83.40277777777777,\"symbol\":\"circle\"},\"mode\":\"markers\",\"name\":\"For Skins Sake\",\"orientation\":\"v\",\"showlegend\":true,\"type\":\"scatter\",\"x\":[2],\"xaxis\":\"x\",\"y\":[1242.0],\"yaxis\":\"y\"},{\"hovertemplate\":\"<b>%{hovertext}</b><br><br>brand=NYX Professional Makeup<br>total_product=%{x}<br>number_of_recommendations=%{y}<br>average_price=%{marker.size}<extra></extra>\",\"hovertext\":[\"NYX Professional Makeup\"],\"legendgroup\":\"NYX Professional Makeup\",\"marker\":{\"color\":\"#00cc96\",\"size\":[191600.0],\"sizemode\":\"area\",\"sizeref\":83.40277777777777,\"symbol\":\"circle\"},\"mode\":\"markers\",\"name\":\"NYX Professional Makeup\",\"orientation\":\"v\",\"showlegend\":true,\"type\":\"scatter\",\"x\":[5],\"xaxis\":\"x\",\"y\":[398.0],\"yaxis\":\"y\"},{\"hovertemplate\":\"<b>%{hovertext}</b><br><br>brand=Emina<br>total_product=%{x}<br>number_of_recommendations=%{y}<br>average_price=%{marker.size}<extra></extra>\",\"hovertext\":[\"Emina\"],\"legendgroup\":\"Emina\",\"marker\":{\"color\":\"#ab63fa\",\"size\":[48134.61538461538],\"sizemode\":\"area\",\"sizeref\":83.40277777777777,\"symbol\":\"circle\"},\"mode\":\"markers\",\"name\":\"Emina\",\"orientation\":\"v\",\"showlegend\":true,\"type\":\"scatter\",\"x\":[26],\"xaxis\":\"x\",\"y\":[1112.3846153846155],\"yaxis\":\"y\"},{\"hovertemplate\":\"<b>%{hovertext}</b><br><br>brand=Loreal Paris<br>total_product=%{x}<br>number_of_recommendations=%{y}<br>average_price=%{marker.size}<extra></extra>\",\"hovertext\":[\"Loreal Paris\"],\"legendgroup\":\"Loreal Paris\",\"marker\":{\"color\":\"#FFA15A\",\"size\":[194333.2],\"sizemode\":\"area\",\"sizeref\":83.40277777777777,\"symbol\":\"circle\"},\"mode\":\"markers\",\"name\":\"Loreal Paris\",\"orientation\":\"v\",\"showlegend\":true,\"type\":\"scatter\",\"x\":[15],\"xaxis\":\"x\",\"y\":[806.7692307692307],\"yaxis\":\"y\"},{\"hovertemplate\":\"<b>%{hovertext}</b><br><br>brand=Maybelline<br>total_product=%{x}<br>number_of_recommendations=%{y}<br>average_price=%{marker.size}<extra></extra>\",\"hovertext\":[\"Maybelline\"],\"legendgroup\":\"Maybelline\",\"marker\":{\"color\":\"#19d3f3\",\"size\":[127125.0],\"sizemode\":\"area\",\"sizeref\":83.40277777777777,\"symbol\":\"circle\"},\"mode\":\"markers\",\"name\":\"Maybelline\",\"orientation\":\"v\",\"showlegend\":true,\"type\":\"scatter\",\"x\":[36],\"xaxis\":\"x\",\"y\":[785.516129032258],\"yaxis\":\"y\"},{\"hovertemplate\":\"<b>%{hovertext}</b><br><br>brand=Wardah<br>total_product=%{x}<br>number_of_recommendations=%{y}<br>average_price=%{marker.size}<extra></extra>\",\"hovertext\":[\"Wardah\"],\"legendgroup\":\"Wardah\",\"marker\":{\"color\":\"#FF6692\",\"size\":[74456.89655172414],\"sizemode\":\"area\",\"sizeref\":83.40277777777777,\"symbol\":\"circle\"},\"mode\":\"markers\",\"name\":\"Wardah\",\"orientation\":\"v\",\"showlegend\":true,\"type\":\"scatter\",\"x\":[60],\"xaxis\":\"x\",\"y\":[979.05],\"yaxis\":\"y\"},{\"hovertemplate\":\"<b>%{hovertext}</b><br><br>brand=BLP Beauty<br>total_product=%{x}<br>number_of_recommendations=%{y}<br>average_price=%{marker.size}<extra></extra>\",\"hovertext\":[\"BLP Beauty\"],\"legendgroup\":\"BLP Beauty\",\"marker\":{\"color\":\"#B6E880\",\"size\":[143000.0],\"sizemode\":\"area\",\"sizeref\":83.40277777777777,\"symbol\":\"circle\"},\"mode\":\"markers\",\"name\":\"BLP Beauty\",\"orientation\":\"v\",\"showlegend\":true,\"type\":\"scatter\",\"x\":[10],\"xaxis\":\"x\",\"y\":[666.1111111111111],\"yaxis\":\"y\"},{\"hovertemplate\":\"<b>%{hovertext}</b><br><br>brand=Dear Me Beauty<br>total_product=%{x}<br>number_of_recommendations=%{y}<br>average_price=%{marker.size}<extra></extra>\",\"hovertext\":[\"Dear Me Beauty\"],\"legendgroup\":\"Dear Me Beauty\",\"marker\":{\"color\":\"#FF97FF\",\"size\":[134642.85714285713],\"sizemode\":\"area\",\"sizeref\":83.40277777777777,\"symbol\":\"circle\"},\"mode\":\"markers\",\"name\":\"Dear Me Beauty\",\"orientation\":\"v\",\"showlegend\":true,\"type\":\"scatter\",\"x\":[15],\"xaxis\":\"x\",\"y\":[617.2857142857143],\"yaxis\":\"y\"},{\"hovertemplate\":\"<b>%{hovertext}</b><br><br>brand=Make Over<br>total_product=%{x}<br>number_of_recommendations=%{y}<br>average_price=%{marker.size}<extra></extra>\",\"hovertext\":[\"Make Over\"],\"legendgroup\":\"Make Over\",\"marker\":{\"color\":\"#FECB52\",\"size\":[118195.12195121951],\"sizemode\":\"area\",\"sizeref\":83.40277777777777,\"symbol\":\"circle\"},\"mode\":\"markers\",\"name\":\"Make Over\",\"orientation\":\"v\",\"showlegend\":true,\"type\":\"scatter\",\"x\":[42],\"xaxis\":\"x\",\"y\":[592.452380952381],\"yaxis\":\"y\"},{\"hovertemplate\":\"<b>%{hovertext}</b><br><br>brand=Studio Tropik<br>total_product=%{x}<br>number_of_recommendations=%{y}<br>average_price=%{marker.size}<extra></extra>\",\"hovertext\":[\"Studio Tropik\"],\"legendgroup\":\"Studio Tropik\",\"marker\":{\"color\":\"#636efa\",\"size\":[128700.0],\"sizemode\":\"area\",\"sizeref\":83.40277777777777,\"symbol\":\"circle\"},\"mode\":\"markers\",\"name\":\"Studio Tropik\",\"orientation\":\"v\",\"showlegend\":true,\"type\":\"scatter\",\"x\":[2],\"xaxis\":\"x\",\"y\":[371.0],\"yaxis\":\"y\"},{\"hovertemplate\":\"<b>%{hovertext}</b><br><br>brand=House Of HUR<br>total_product=%{x}<br>number_of_recommendations=%{y}<br>average_price=%{marker.size}<extra></extra>\",\"hovertext\":[\"House Of HUR\"],\"legendgroup\":\"House Of HUR\",\"marker\":{\"color\":\"#EF553B\",\"size\":[165000.0],\"sizemode\":\"area\",\"sizeref\":83.40277777777777,\"symbol\":\"circle\"},\"mode\":\"markers\",\"name\":\"House Of HUR\",\"orientation\":\"v\",\"showlegend\":true,\"type\":\"scatter\",\"x\":[2],\"xaxis\":\"x\",\"y\":[232.0],\"yaxis\":\"y\"},{\"hovertemplate\":\"<b>%{hovertext}</b><br><br>brand=Raiku<br>total_product=%{x}<br>number_of_recommendations=%{y}<br>average_price=%{marker.size}<extra></extra>\",\"hovertext\":[\"Raiku\"],\"legendgroup\":\"Raiku\",\"marker\":{\"color\":\"#00cc96\",\"size\":[118000.0],\"sizemode\":\"area\",\"sizeref\":83.40277777777777,\"symbol\":\"circle\"},\"mode\":\"markers\",\"name\":\"Raiku\",\"orientation\":\"v\",\"showlegend\":true,\"type\":\"scatter\",\"x\":[1],\"xaxis\":\"x\",\"y\":[370.0],\"yaxis\":\"y\"},{\"hovertemplate\":\"<b>%{hovertext}</b><br><br>brand=COSRX<br>total_product=%{x}<br>number_of_recommendations=%{y}<br>average_price=%{marker.size}<extra></extra>\",\"hovertext\":[\"COSRX\"],\"legendgroup\":\"COSRX\",\"marker\":{\"color\":\"#ab63fa\",\"size\":[269000.0],\"sizemode\":\"area\",\"sizeref\":83.40277777777777,\"symbol\":\"circle\"},\"mode\":\"markers\",\"name\":\"COSRX\",\"orientation\":\"v\",\"showlegend\":true,\"type\":\"scatter\",\"x\":[1],\"xaxis\":\"x\",\"y\":[402.0],\"yaxis\":\"y\"},{\"hovertemplate\":\"<b>%{hovertext}</b><br><br>brand=Pixy<br>total_product=%{x}<br>number_of_recommendations=%{y}<br>average_price=%{marker.size}<extra></extra>\",\"hovertext\":[\"Pixy\"],\"legendgroup\":\"Pixy\",\"marker\":{\"color\":\"#FFA15A\",\"size\":[78809.52380952382],\"sizemode\":\"area\",\"sizeref\":83.40277777777777,\"symbol\":\"circle\"},\"mode\":\"markers\",\"name\":\"Pixy\",\"orientation\":\"v\",\"showlegend\":true,\"type\":\"scatter\",\"x\":[21],\"xaxis\":\"x\",\"y\":[333.85],\"yaxis\":\"y\"},{\"hovertemplate\":\"<b>%{hovertext}</b><br><br>brand=ESQA<br>total_product=%{x}<br>number_of_recommendations=%{y}<br>average_price=%{marker.size}<extra></extra>\",\"hovertext\":[\"ESQA\"],\"legendgroup\":\"ESQA\",\"marker\":{\"color\":\"#19d3f3\",\"size\":[164285.7142857143],\"sizemode\":\"area\",\"sizeref\":83.40277777777777,\"symbol\":\"circle\"},\"mode\":\"markers\",\"name\":\"ESQA\",\"orientation\":\"v\",\"showlegend\":true,\"type\":\"scatter\",\"x\":[21],\"xaxis\":\"x\",\"y\":[340.23809523809524],\"yaxis\":\"y\"},{\"hovertemplate\":\"<b>%{hovertext}</b><br><br>brand=Goban<br>total_product=%{x}<br>number_of_recommendations=%{y}<br>average_price=%{marker.size}<extra></extra>\",\"hovertext\":[\"Goban\"],\"legendgroup\":\"Goban\",\"marker\":{\"color\":\"#FF6692\",\"size\":[118555.55555555556],\"sizemode\":\"area\",\"sizeref\":83.40277777777777,\"symbol\":\"circle\"},\"mode\":\"markers\",\"name\":\"Goban\",\"orientation\":\"v\",\"showlegend\":true,\"type\":\"scatter\",\"x\":[9],\"xaxis\":\"x\",\"y\":[360.44444444444446],\"yaxis\":\"y\"},{\"hovertemplate\":\"<b>%{hovertext}</b><br><br>brand=Indoganic<br>total_product=%{x}<br>number_of_recommendations=%{y}<br>average_price=%{marker.size}<extra></extra>\",\"hovertext\":[\"Indoganic\"],\"legendgroup\":\"Indoganic\",\"marker\":{\"color\":\"#B6E880\",\"size\":[114000.0],\"sizemode\":\"area\",\"sizeref\":83.40277777777777,\"symbol\":\"circle\"},\"mode\":\"markers\",\"name\":\"Indoganic\",\"orientation\":\"v\",\"showlegend\":true,\"type\":\"scatter\",\"x\":[2],\"xaxis\":\"x\",\"y\":[321.5],\"yaxis\":\"y\"},{\"hovertemplate\":\"<b>%{hovertext}</b><br><br>brand=Implora<br>total_product=%{x}<br>number_of_recommendations=%{y}<br>average_price=%{marker.size}<extra></extra>\",\"hovertext\":[\"Implora\"],\"legendgroup\":\"Implora\",\"marker\":{\"color\":\"#FF97FF\",\"size\":[35660.0],\"sizemode\":\"area\",\"sizeref\":83.40277777777777,\"symbol\":\"circle\"},\"mode\":\"markers\",\"name\":\"Implora\",\"orientation\":\"v\",\"showlegend\":true,\"type\":\"scatter\",\"x\":[5],\"xaxis\":\"x\",\"y\":[181.8],\"yaxis\":\"y\"},{\"hovertemplate\":\"<b>%{hovertext}</b><br><br>brand=Rose All Day<br>total_product=%{x}<br>number_of_recommendations=%{y}<br>average_price=%{marker.size}<extra></extra>\",\"hovertext\":[\"Rose All Day\"],\"legendgroup\":\"Rose All Day\",\"marker\":{\"color\":\"#FECB52\",\"size\":[148428.57142857142],\"sizemode\":\"area\",\"sizeref\":83.40277777777777,\"symbol\":\"circle\"},\"mode\":\"markers\",\"name\":\"Rose All Day\",\"orientation\":\"v\",\"showlegend\":true,\"type\":\"scatter\",\"x\":[7],\"xaxis\":\"x\",\"y\":[219.0],\"yaxis\":\"y\"},{\"hovertemplate\":\"<b>%{hovertext}</b><br><br>brand=Elsheskin<br>total_product=%{x}<br>number_of_recommendations=%{y}<br>average_price=%{marker.size}<extra></extra>\",\"hovertext\":[\"Elsheskin\"],\"legendgroup\":\"Elsheskin\",\"marker\":{\"color\":\"#636efa\",\"size\":[135500.0],\"sizemode\":\"area\",\"sizeref\":83.40277777777777,\"symbol\":\"circle\"},\"mode\":\"markers\",\"name\":\"Elsheskin\",\"orientation\":\"v\",\"showlegend\":true,\"type\":\"scatter\",\"x\":[4],\"xaxis\":\"x\",\"y\":[196.25],\"yaxis\":\"y\"},{\"hovertemplate\":\"<b>%{hovertext}</b><br><br>brand=DHC<br>total_product=%{x}<br>number_of_recommendations=%{y}<br>average_price=%{marker.size}<extra></extra>\",\"hovertext\":[\"DHC\"],\"legendgroup\":\"DHC\",\"marker\":{\"color\":\"#EF553B\",\"size\":[300250.0],\"sizemode\":\"area\",\"sizeref\":83.40277777777777,\"symbol\":\"circle\"},\"mode\":\"markers\",\"name\":\"DHC\",\"orientation\":\"v\",\"showlegend\":true,\"type\":\"scatter\",\"x\":[4],\"xaxis\":\"x\",\"y\":[179.66666666666666],\"yaxis\":\"y\"},{\"hovertemplate\":\"<b>%{hovertext}</b><br><br>brand=Focallure<br>total_product=%{x}<br>number_of_recommendations=%{y}<br>average_price=%{marker.size}<extra></extra>\",\"hovertext\":[\"Focallure\"],\"legendgroup\":\"Focallure\",\"marker\":{\"color\":\"#00cc96\",\"size\":[193655.1724137931],\"sizemode\":\"area\",\"sizeref\":83.40277777777777,\"symbol\":\"circle\"},\"mode\":\"markers\",\"name\":\"Focallure\",\"orientation\":\"v\",\"showlegend\":true,\"type\":\"scatter\",\"x\":[29],\"xaxis\":\"x\",\"y\":[202.4],\"yaxis\":\"y\"},{\"hovertemplate\":\"<b>%{hovertext}</b><br><br>brand=Mizzu<br>total_product=%{x}<br>number_of_recommendations=%{y}<br>average_price=%{marker.size}<extra></extra>\",\"hovertext\":[\"Mizzu\"],\"legendgroup\":\"Mizzu\",\"marker\":{\"color\":\"#ab63fa\",\"size\":[74580.0],\"sizemode\":\"area\",\"sizeref\":83.40277777777777,\"symbol\":\"circle\"},\"mode\":\"markers\",\"name\":\"Mizzu\",\"orientation\":\"v\",\"showlegend\":true,\"type\":\"scatter\",\"x\":[20],\"xaxis\":\"x\",\"y\":[221.47368421052633],\"yaxis\":\"y\"},{\"hovertemplate\":\"<b>%{hovertext}</b><br><br>brand=Azarine<br>total_product=%{x}<br>number_of_recommendations=%{y}<br>average_price=%{marker.size}<extra></extra>\",\"hovertext\":[\"Azarine\"],\"legendgroup\":\"Azarine\",\"marker\":{\"color\":\"#FFA15A\",\"size\":[76000.0],\"sizemode\":\"area\",\"sizeref\":83.40277777777777,\"symbol\":\"circle\"},\"mode\":\"markers\",\"name\":\"Azarine\",\"orientation\":\"v\",\"showlegend\":true,\"type\":\"scatter\",\"x\":[3],\"xaxis\":\"x\",\"y\":[88.33333333333333],\"yaxis\":\"y\"},{\"hovertemplate\":\"<b>%{hovertext}</b><br><br>brand=Mad For Makeup<br>total_product=%{x}<br>number_of_recommendations=%{y}<br>average_price=%{marker.size}<extra></extra>\",\"hovertext\":[\"Mad For Makeup\"],\"legendgroup\":\"Mad For Makeup\",\"marker\":{\"color\":\"#19d3f3\",\"size\":[127333.33333333333],\"sizemode\":\"area\",\"sizeref\":83.40277777777777,\"symbol\":\"circle\"},\"mode\":\"markers\",\"name\":\"Mad For Makeup\",\"orientation\":\"v\",\"showlegend\":true,\"type\":\"scatter\",\"x\":[6],\"xaxis\":\"x\",\"y\":[169.2],\"yaxis\":\"y\"},{\"hovertemplate\":\"<b>%{hovertext}</b><br><br>brand=Revlon<br>total_product=%{x}<br>number_of_recommendations=%{y}<br>average_price=%{marker.size}<extra></extra>\",\"hovertext\":[\"Revlon\"],\"legendgroup\":\"Revlon\",\"marker\":{\"color\":\"#FF6692\",\"size\":[123250.0],\"sizemode\":\"area\",\"sizeref\":83.40277777777777,\"symbol\":\"circle\"},\"mode\":\"markers\",\"name\":\"Revlon\",\"orientation\":\"v\",\"showlegend\":true,\"type\":\"scatter\",\"x\":[23],\"xaxis\":\"x\",\"y\":[196.95454545454547],\"yaxis\":\"y\"},{\"hovertemplate\":\"<b>%{hovertext}</b><br><br>brand=Sarange<br>total_product=%{x}<br>number_of_recommendations=%{y}<br>average_price=%{marker.size}<extra></extra>\",\"hovertext\":[\"Sarange\"],\"legendgroup\":\"Sarange\",\"marker\":{\"color\":\"#B6E880\",\"size\":[89000.0],\"sizemode\":\"area\",\"sizeref\":83.40277777777777,\"symbol\":\"circle\"},\"mode\":\"markers\",\"name\":\"Sarange\",\"orientation\":\"v\",\"showlegend\":true,\"type\":\"scatter\",\"x\":[2],\"xaxis\":\"x\",\"y\":[203.0],\"yaxis\":\"y\"},{\"hovertemplate\":\"<b>%{hovertext}</b><br><br>brand=Rollover Reaction<br>total_product=%{x}<br>number_of_recommendations=%{y}<br>average_price=%{marker.size}<extra></extra>\",\"hovertext\":[\"Rollover Reaction\"],\"legendgroup\":\"Rollover Reaction\",\"marker\":{\"color\":\"#FF97FF\",\"size\":[232571.42857142858],\"sizemode\":\"area\",\"sizeref\":83.40277777777777,\"symbol\":\"circle\"},\"mode\":\"markers\",\"name\":\"Rollover Reaction\",\"orientation\":\"v\",\"showlegend\":true,\"type\":\"scatter\",\"x\":[14],\"xaxis\":\"x\",\"y\":[161.07142857142858],\"yaxis\":\"y\"},{\"hovertemplate\":\"<b>%{hovertext}</b><br><br>brand=BrunBrun Paris<br>total_product=%{x}<br>number_of_recommendations=%{y}<br>average_price=%{marker.size}<extra></extra>\",\"hovertext\":[\"BrunBrun Paris\"],\"legendgroup\":\"BrunBrun Paris\",\"marker\":{\"color\":\"#FECB52\",\"size\":[40150.0],\"sizemode\":\"area\",\"sizeref\":83.40277777777777,\"symbol\":\"circle\"},\"mode\":\"markers\",\"name\":\"BrunBrun Paris\",\"orientation\":\"v\",\"showlegend\":true,\"type\":\"scatter\",\"x\":[18],\"xaxis\":\"x\",\"y\":[177.8235294117647],\"yaxis\":\"y\"}],                        {\"legend\":{\"itemsizing\":\"constant\",\"title\":{\"text\":\"brand\"},\"tracegroupgap\":0},\"margin\":{\"t\":60},\"template\":{\"data\":{\"bar\":[{\"error_x\":{\"color\":\"#2a3f5f\"},\"error_y\":{\"color\":\"#2a3f5f\"},\"marker\":{\"line\":{\"color\":\"#E5ECF6\",\"width\":0.5},\"pattern\":{\"fillmode\":\"overlay\",\"size\":10,\"solidity\":0.2}},\"type\":\"bar\"}],\"barpolar\":[{\"marker\":{\"line\":{\"color\":\"#E5ECF6\",\"width\":0.5},\"pattern\":{\"fillmode\":\"overlay\",\"size\":10,\"solidity\":0.2}},\"type\":\"barpolar\"}],\"carpet\":[{\"aaxis\":{\"endlinecolor\":\"#2a3f5f\",\"gridcolor\":\"white\",\"linecolor\":\"white\",\"minorgridcolor\":\"white\",\"startlinecolor\":\"#2a3f5f\"},\"baxis\":{\"endlinecolor\":\"#2a3f5f\",\"gridcolor\":\"white\",\"linecolor\":\"white\",\"minorgridcolor\":\"white\",\"startlinecolor\":\"#2a3f5f\"},\"type\":\"carpet\"}],\"choropleth\":[{\"colorbar\":{\"outlinewidth\":0,\"ticks\":\"\"},\"type\":\"choropleth\"}],\"contour\":[{\"colorbar\":{\"outlinewidth\":0,\"ticks\":\"\"},\"colorscale\":[[0.0,\"#0d0887\"],[0.1111111111111111,\"#46039f\"],[0.2222222222222222,\"#7201a8\"],[0.3333333333333333,\"#9c179e\"],[0.4444444444444444,\"#bd3786\"],[0.5555555555555556,\"#d8576b\"],[0.6666666666666666,\"#ed7953\"],[0.7777777777777778,\"#fb9f3a\"],[0.8888888888888888,\"#fdca26\"],[1.0,\"#f0f921\"]],\"type\":\"contour\"}],\"contourcarpet\":[{\"colorbar\":{\"outlinewidth\":0,\"ticks\":\"\"},\"type\":\"contourcarpet\"}],\"heatmap\":[{\"colorbar\":{\"outlinewidth\":0,\"ticks\":\"\"},\"colorscale\":[[0.0,\"#0d0887\"],[0.1111111111111111,\"#46039f\"],[0.2222222222222222,\"#7201a8\"],[0.3333333333333333,\"#9c179e\"],[0.4444444444444444,\"#bd3786\"],[0.5555555555555556,\"#d8576b\"],[0.6666666666666666,\"#ed7953\"],[0.7777777777777778,\"#fb9f3a\"],[0.8888888888888888,\"#fdca26\"],[1.0,\"#f0f921\"]],\"type\":\"heatmap\"}],\"heatmapgl\":[{\"colorbar\":{\"outlinewidth\":0,\"ticks\":\"\"},\"colorscale\":[[0.0,\"#0d0887\"],[0.1111111111111111,\"#46039f\"],[0.2222222222222222,\"#7201a8\"],[0.3333333333333333,\"#9c179e\"],[0.4444444444444444,\"#bd3786\"],[0.5555555555555556,\"#d8576b\"],[0.6666666666666666,\"#ed7953\"],[0.7777777777777778,\"#fb9f3a\"],[0.8888888888888888,\"#fdca26\"],[1.0,\"#f0f921\"]],\"type\":\"heatmapgl\"}],\"histogram\":[{\"marker\":{\"pattern\":{\"fillmode\":\"overlay\",\"size\":10,\"solidity\":0.2}},\"type\":\"histogram\"}],\"histogram2d\":[{\"colorbar\":{\"outlinewidth\":0,\"ticks\":\"\"},\"colorscale\":[[0.0,\"#0d0887\"],[0.1111111111111111,\"#46039f\"],[0.2222222222222222,\"#7201a8\"],[0.3333333333333333,\"#9c179e\"],[0.4444444444444444,\"#bd3786\"],[0.5555555555555556,\"#d8576b\"],[0.6666666666666666,\"#ed7953\"],[0.7777777777777778,\"#fb9f3a\"],[0.8888888888888888,\"#fdca26\"],[1.0,\"#f0f921\"]],\"type\":\"histogram2d\"}],\"histogram2dcontour\":[{\"colorbar\":{\"outlinewidth\":0,\"ticks\":\"\"},\"colorscale\":[[0.0,\"#0d0887\"],[0.1111111111111111,\"#46039f\"],[0.2222222222222222,\"#7201a8\"],[0.3333333333333333,\"#9c179e\"],[0.4444444444444444,\"#bd3786\"],[0.5555555555555556,\"#d8576b\"],[0.6666666666666666,\"#ed7953\"],[0.7777777777777778,\"#fb9f3a\"],[0.8888888888888888,\"#fdca26\"],[1.0,\"#f0f921\"]],\"type\":\"histogram2dcontour\"}],\"mesh3d\":[{\"colorbar\":{\"outlinewidth\":0,\"ticks\":\"\"},\"type\":\"mesh3d\"}],\"parcoords\":[{\"line\":{\"colorbar\":{\"outlinewidth\":0,\"ticks\":\"\"}},\"type\":\"parcoords\"}],\"pie\":[{\"automargin\":true,\"type\":\"pie\"}],\"scatter\":[{\"marker\":{\"colorbar\":{\"outlinewidth\":0,\"ticks\":\"\"}},\"type\":\"scatter\"}],\"scatter3d\":[{\"line\":{\"colorbar\":{\"outlinewidth\":0,\"ticks\":\"\"}},\"marker\":{\"colorbar\":{\"outlinewidth\":0,\"ticks\":\"\"}},\"type\":\"scatter3d\"}],\"scattercarpet\":[{\"marker\":{\"colorbar\":{\"outlinewidth\":0,\"ticks\":\"\"}},\"type\":\"scattercarpet\"}],\"scattergeo\":[{\"marker\":{\"colorbar\":{\"outlinewidth\":0,\"ticks\":\"\"}},\"type\":\"scattergeo\"}],\"scattergl\":[{\"marker\":{\"colorbar\":{\"outlinewidth\":0,\"ticks\":\"\"}},\"type\":\"scattergl\"}],\"scattermapbox\":[{\"marker\":{\"colorbar\":{\"outlinewidth\":0,\"ticks\":\"\"}},\"type\":\"scattermapbox\"}],\"scatterpolar\":[{\"marker\":{\"colorbar\":{\"outlinewidth\":0,\"ticks\":\"\"}},\"type\":\"scatterpolar\"}],\"scatterpolargl\":[{\"marker\":{\"colorbar\":{\"outlinewidth\":0,\"ticks\":\"\"}},\"type\":\"scatterpolargl\"}],\"scatterternary\":[{\"marker\":{\"colorbar\":{\"outlinewidth\":0,\"ticks\":\"\"}},\"type\":\"scatterternary\"}],\"surface\":[{\"colorbar\":{\"outlinewidth\":0,\"ticks\":\"\"},\"colorscale\":[[0.0,\"#0d0887\"],[0.1111111111111111,\"#46039f\"],[0.2222222222222222,\"#7201a8\"],[0.3333333333333333,\"#9c179e\"],[0.4444444444444444,\"#bd3786\"],[0.5555555555555556,\"#d8576b\"],[0.6666666666666666,\"#ed7953\"],[0.7777777777777778,\"#fb9f3a\"],[0.8888888888888888,\"#fdca26\"],[1.0,\"#f0f921\"]],\"type\":\"surface\"}],\"table\":[{\"cells\":{\"fill\":{\"color\":\"#EBF0F8\"},\"line\":{\"color\":\"white\"}},\"header\":{\"fill\":{\"color\":\"#C8D4E3\"},\"line\":{\"color\":\"white\"}},\"type\":\"table\"}]},\"layout\":{\"annotationdefaults\":{\"arrowcolor\":\"#2a3f5f\",\"arrowhead\":0,\"arrowwidth\":1},\"autotypenumbers\":\"strict\",\"coloraxis\":{\"colorbar\":{\"outlinewidth\":0,\"ticks\":\"\"}},\"colorscale\":{\"diverging\":[[0,\"#8e0152\"],[0.1,\"#c51b7d\"],[0.2,\"#de77ae\"],[0.3,\"#f1b6da\"],[0.4,\"#fde0ef\"],[0.5,\"#f7f7f7\"],[0.6,\"#e6f5d0\"],[0.7,\"#b8e186\"],[0.8,\"#7fbc41\"],[0.9,\"#4d9221\"],[1,\"#276419\"]],\"sequential\":[[0.0,\"#0d0887\"],[0.1111111111111111,\"#46039f\"],[0.2222222222222222,\"#7201a8\"],[0.3333333333333333,\"#9c179e\"],[0.4444444444444444,\"#bd3786\"],[0.5555555555555556,\"#d8576b\"],[0.6666666666666666,\"#ed7953\"],[0.7777777777777778,\"#fb9f3a\"],[0.8888888888888888,\"#fdca26\"],[1.0,\"#f0f921\"]],\"sequentialminus\":[[0.0,\"#0d0887\"],[0.1111111111111111,\"#46039f\"],[0.2222222222222222,\"#7201a8\"],[0.3333333333333333,\"#9c179e\"],[0.4444444444444444,\"#bd3786\"],[0.5555555555555556,\"#d8576b\"],[0.6666666666666666,\"#ed7953\"],[0.7777777777777778,\"#fb9f3a\"],[0.8888888888888888,\"#fdca26\"],[1.0,\"#f0f921\"]]},\"colorway\":[\"#636efa\",\"#EF553B\",\"#00cc96\",\"#ab63fa\",\"#FFA15A\",\"#19d3f3\",\"#FF6692\",\"#B6E880\",\"#FF97FF\",\"#FECB52\"],\"font\":{\"color\":\"#2a3f5f\"},\"geo\":{\"bgcolor\":\"white\",\"lakecolor\":\"white\",\"landcolor\":\"#E5ECF6\",\"showlakes\":true,\"showland\":true,\"subunitcolor\":\"white\"},\"hoverlabel\":{\"align\":\"left\"},\"hovermode\":\"closest\",\"mapbox\":{\"style\":\"light\"},\"paper_bgcolor\":\"white\",\"plot_bgcolor\":\"#E5ECF6\",\"polar\":{\"angularaxis\":{\"gridcolor\":\"white\",\"linecolor\":\"white\",\"ticks\":\"\"},\"bgcolor\":\"#E5ECF6\",\"radialaxis\":{\"gridcolor\":\"white\",\"linecolor\":\"white\",\"ticks\":\"\"}},\"scene\":{\"xaxis\":{\"backgroundcolor\":\"#E5ECF6\",\"gridcolor\":\"white\",\"gridwidth\":2,\"linecolor\":\"white\",\"showbackground\":true,\"ticks\":\"\",\"zerolinecolor\":\"white\"},\"yaxis\":{\"backgroundcolor\":\"#E5ECF6\",\"gridcolor\":\"white\",\"gridwidth\":2,\"linecolor\":\"white\",\"showbackground\":true,\"ticks\":\"\",\"zerolinecolor\":\"white\"},\"zaxis\":{\"backgroundcolor\":\"#E5ECF6\",\"gridcolor\":\"white\",\"gridwidth\":2,\"linecolor\":\"white\",\"showbackground\":true,\"ticks\":\"\",\"zerolinecolor\":\"white\"}},\"shapedefaults\":{\"line\":{\"color\":\"#2a3f5f\"}},\"ternary\":{\"aaxis\":{\"gridcolor\":\"white\",\"linecolor\":\"white\",\"ticks\":\"\"},\"baxis\":{\"gridcolor\":\"white\",\"linecolor\":\"white\",\"ticks\":\"\"},\"bgcolor\":\"#E5ECF6\",\"caxis\":{\"gridcolor\":\"white\",\"linecolor\":\"white\",\"ticks\":\"\"}},\"title\":{\"x\":0.05},\"xaxis\":{\"automargin\":true,\"gridcolor\":\"white\",\"linecolor\":\"white\",\"ticks\":\"\",\"title\":{\"standoff\":15},\"zerolinecolor\":\"white\",\"zerolinewidth\":2},\"yaxis\":{\"automargin\":true,\"gridcolor\":\"white\",\"linecolor\":\"white\",\"ticks\":\"\",\"title\":{\"standoff\":15},\"zerolinecolor\":\"white\",\"zerolinewidth\":2}}},\"title\":{\"font\":{\"size\":19},\"text\":\"Brand in makeup category\"},\"xaxis\":{\"anchor\":\"y\",\"domain\":[0.0,1.0],\"title\":{\"text\":\"Number of products\"},\"type\":\"log\"},\"yaxis\":{\"anchor\":\"x\",\"domain\":[0.0,1.0],\"title\":{\"text\":\"Recommendation\"}}},                        {\"responsive\": true}                    ).then(function(){\n",
       "                            \n",
       "var gd = document.getElementById('6f217acd-f14a-49a9-b8ac-a63ab72450e4');\n",
       "var x = new MutationObserver(function (mutations, observer) {{\n",
       "        var display = window.getComputedStyle(gd).display;\n",
       "        if (!display || display === 'none') {{\n",
       "            console.log([gd, 'removed!']);\n",
       "            Plotly.purge(gd);\n",
       "            observer.disconnect();\n",
       "        }}\n",
       "}});\n",
       "\n",
       "// Listen for the removal of the full notebook cells\n",
       "var notebookContainer = gd.closest('#notebook-container');\n",
       "if (notebookContainer) {{\n",
       "    x.observe(notebookContainer, {childList: true});\n",
       "}}\n",
       "\n",
       "// Listen for the clearing of the current output cell\n",
       "var outputEl = gd.closest('.output');\n",
       "if (outputEl) {{\n",
       "    x.observe(outputEl, {childList: true});\n",
       "}}\n",
       "\n",
       "                        })                };                });            </script>        </div>"
      ]
     },
     "metadata": {},
     "output_type": "display_data"
    }
   ],
   "source": [
    "import plotly.express as px\n",
    "brand = df.groupby('brand').agg({'price':'mean',\n",
    "                                'product_name':'count',\n",
    "                                'number_of_recommendations':'mean',\n",
    "                                'repurchase_yes':'mean'}\n",
    "                               ).reset_index().rename({'price':'average_price','product_name':'total_product'},axis=1)\n",
    "\n",
    "fig = px.scatter(brand.dropna().sort_values('repurchase_yes',ascending=False).head(30), x=\"total_product\", y=\"number_of_recommendations\",\n",
    "         size=\"average_price\",color='brand',hover_name='brand',\n",
    "                  log_x=True, size_max=60)\n",
    "\n",
    "fig.update_layout(yaxis_title='Recommendation',\n",
    "                  xaxis_title='Number of products',\n",
    "                  title='Brand in makeup category',\n",
    "                  title_font_size = 19\n",
    "                 )\n",
    "fig.show()"
   ]
  },
  {
   "cell_type": "markdown",
   "id": "ed757507-0555-4791-b3c4-a666f9f2a285",
   "metadata": {},
   "source": [
    "Nivea, Emina, For Skins Sake, and Wardah are relatively cheaper than the others but they get a lot of recommendation"
   ]
  },
  {
   "cell_type": "code",
   "execution_count": 111,
   "id": "7c51c85d-47b9-443b-b0c3-647d4e8c6e61",
   "metadata": {},
   "outputs": [
    {
     "data": {
      "image/png": "[encoded data removed]",
      "text/plain": [
       "<Figure size 1080x360 with 1 Axes>"
      ]
     },
     "metadata": {
      "needs_background": "light"
     },
     "output_type": "display_data"
    }
   ],
   "source": [
    "sns.heatmap(df.corr(), cmap=['#fcc4d4', '#f8a4a4', '#f499ab','#e46c94','#b42454'],annot=True, fmt='.1%', annot_kws={'fontsize':10},cbar=False)\n",
    "plt.xlabel('')\n",
    "plt.show()"
   ]
  },
  {
   "cell_type": "code",
   "execution_count": 112,
   "id": "f20c7b9f-c7d7-4e84-8e0d-7e932d9209f7",
   "metadata": {},
   "outputs": [],
   "source": [
    "df.to_csv('D:/Data/Sociolla/group/makeup_fix.csv')"
   ]
  }
 ],
 "metadata": {
  "kernelspec": {
   "display_name": "Python 3 (ipykernel)",
   "language": "python",
   "name": "python3"
  },
  "language_info": {
   "codemirror_mode": {
    "name": "ipython",
    "version": 3
   },
   "file_extension": ".py",
   "mimetype": "text/x-python",
   "name": "python",
   "nbconvert_exporter": "python",
   "pygments_lexer": "ipython3",
   "version": "3.9.6"
  }
 },
 "nbformat": 4,
 "nbformat_minor": 5
}
